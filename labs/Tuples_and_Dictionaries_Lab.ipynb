{
  "nbformat": 4,
  "nbformat_minor": 0,
  "metadata": {
    "colab": {
      "provenance": [],
      "authorship_tag": "ABX9TyPznoChuHOavSpZczPxknYS"
    },
    "kernelspec": {
      "name": "python3",
      "display_name": "Python 3"
    },
    "language_info": {
      "name": "python"
    }
  },
  "cells": [
    {
      "cell_type": "markdown",
      "source": [
        "# Tuples and Dictionaries Lab"
      ],
      "metadata": {
        "id": "9Koy8IdCva-p"
      }
    },
    {
      "cell_type": "markdown",
      "source": [
        "### Intro and objectives\n",
        "#### Learn how to apply tupples and dictionaries in data science contexts\n",
        "\n",
        "### In this lab you will learn:\n",
        "1. Tuples and Dictionaries\n",
        "2. how to create and process tuples and Dictionaries in applied settings\n",
        "\n"
      ],
      "metadata": {
        "id": "DiOUGkzJvkIq"
      }
    },
    {
      "cell_type": "code",
      "execution_count": 1,
      "metadata": {
        "id": "31p3EWLtvZq_"
      },
      "outputs": [],
      "source": [
        "import pandas as pd"
      ]
    },
    {
      "cell_type": "markdown",
      "source": [
        "# Tuples: Inmutable sequences\n",
        "\n",
        "#### A tuple is a fixed-length, immutable sequence of Python objects which, once assigned, cannot be changed. The easiest way to create one is with a comma-separated sequence of values wrapped in parentheses:"
      ],
      "metadata": {
        "id": "aEHpzweDwqTa"
      }
    },
    {
      "cell_type": "code",
      "source": [
        "aList=[1,2,3,4,5]\n"
      ],
      "metadata": {
        "id": "2ma8vEoPxGI_"
      },
      "execution_count": 2,
      "outputs": []
    },
    {
      "cell_type": "code",
      "source": [
        "aTuple=(1,2,3,4)"
      ],
      "metadata": {
        "id": "uNliv4ZZ0OeX"
      },
      "execution_count": 3,
      "outputs": []
    },
    {
      "cell_type": "code",
      "source": [
        "tupleFromList=tuple(aList)\n",
        "tupleFromList"
      ],
      "metadata": {
        "colab": {
          "base_uri": "https://localhost:8080/"
        },
        "id": "q-2EAruT0SPq",
        "outputId": "4995a2c1-6237-43a3-c849-d06a5b56a88d"
      },
      "execution_count": 4,
      "outputs": [
        {
          "output_type": "execute_result",
          "data": {
            "text/plain": [
              "(1, 2, 3, 4, 5)"
            ]
          },
          "metadata": {},
          "execution_count": 4
        }
      ]
    },
    {
      "cell_type": "code",
      "source": [
        "aNestedTuple=(('a','b','c'),(1,2,3))\n",
        "aNestedTuple"
      ],
      "metadata": {
        "colab": {
          "base_uri": "https://localhost:8080/"
        },
        "id": "xPiVcFZAzh1t",
        "outputId": "f230dd3e-4658-407f-bcf3-28fe919f9f26"
      },
      "execution_count": 5,
      "outputs": [
        {
          "output_type": "execute_result",
          "data": {
            "text/plain": [
              "(('a', 'b', 'c'), (1, 2, 3))"
            ]
          },
          "metadata": {},
          "execution_count": 5
        }
      ]
    },
    {
      "cell_type": "code",
      "source": [],
      "metadata": {
        "id": "xIMkXwBctyGj"
      },
      "execution_count": 5,
      "outputs": []
    },
    {
      "cell_type": "markdown",
      "source": [
        "### Accesing Tuples"
      ],
      "metadata": {
        "id": "XTLGFpU4kP4D"
      }
    },
    {
      "cell_type": "code",
      "source": [
        "carsTuple=('Tesla','Ford','Volkswagen','Mercedes','Toyota','Kia','Tata','Tesla')"
      ],
      "metadata": {
        "id": "4qhbRHdpkSvs"
      },
      "execution_count": 6,
      "outputs": []
    },
    {
      "cell_type": "code",
      "source": [
        "carsTuple[0]"
      ],
      "metadata": {
        "colab": {
          "base_uri": "https://localhost:8080/",
          "height": 36
        },
        "id": "z6sPNuFwkmh0",
        "outputId": "3bd7a5de-b5e7-486d-f672-a871a46f88d4"
      },
      "execution_count": 7,
      "outputs": [
        {
          "output_type": "execute_result",
          "data": {
            "text/plain": [
              "'Tesla'"
            ],
            "application/vnd.google.colaboratory.intrinsic+json": {
              "type": "string"
            }
          },
          "metadata": {},
          "execution_count": 7
        }
      ]
    },
    {
      "cell_type": "code",
      "source": [
        "carsTuple[3]"
      ],
      "metadata": {
        "colab": {
          "base_uri": "https://localhost:8080/",
          "height": 36
        },
        "id": "LLXJPMzqkpkD",
        "outputId": "6cd5a058-a145-4f02-fbbb-9fb0533aeb4c"
      },
      "execution_count": 8,
      "outputs": [
        {
          "output_type": "execute_result",
          "data": {
            "text/plain": [
              "'Mercedes'"
            ],
            "application/vnd.google.colaboratory.intrinsic+json": {
              "type": "string"
            }
          },
          "metadata": {},
          "execution_count": 8
        }
      ]
    },
    {
      "cell_type": "code",
      "source": [
        "for car in carsTuple:\n",
        "  print(car)"
      ],
      "metadata": {
        "colab": {
          "base_uri": "https://localhost:8080/"
        },
        "id": "pz-X5etRktzQ",
        "outputId": "ee0bdc9f-e515-45a1-c000-e3a9e4a24796"
      },
      "execution_count": 9,
      "outputs": [
        {
          "output_type": "stream",
          "name": "stdout",
          "text": [
            "Tesla\n",
            "Ford\n",
            "Volkswagen\n",
            "Mercedes\n",
            "Toyota\n",
            "Kia\n",
            "Tata\n",
            "Tesla\n"
          ]
        }
      ]
    },
    {
      "cell_type": "code",
      "source": [],
      "metadata": {
        "id": "gYibgHZgk9aa"
      },
      "execution_count": 9,
      "outputs": []
    },
    {
      "cell_type": "markdown",
      "source": [
        "### Tuple methods\n",
        "#### Since the size and contents of a tuple cannot be modified, it is very light on instance methods. A particularly useful one (also available on lists) is count, which counts the number of occurrences of a value:"
      ],
      "metadata": {
        "id": "KJ8O2nDylLl8"
      }
    },
    {
      "cell_type": "code",
      "source": [
        "carsTuple.count('Tesla')"
      ],
      "metadata": {
        "colab": {
          "base_uri": "https://localhost:8080/"
        },
        "id": "CT_XiMjmlSlt",
        "outputId": "eb8cf9a2-3df3-4d59-943d-f24e85613e20"
      },
      "execution_count": 10,
      "outputs": [
        {
          "output_type": "execute_result",
          "data": {
            "text/plain": [
              "2"
            ]
          },
          "metadata": {},
          "execution_count": 10
        }
      ]
    },
    {
      "cell_type": "code",
      "source": [
        "carsTuple.count('Mercedes')"
      ],
      "metadata": {
        "colab": {
          "base_uri": "https://localhost:8080/"
        },
        "id": "TB9VsHnRlZDt",
        "outputId": "f3d2e322-b9c9-49fb-ca29-99c378316353"
      },
      "execution_count": 11,
      "outputs": [
        {
          "output_type": "execute_result",
          "data": {
            "text/plain": [
              "1"
            ]
          },
          "metadata": {},
          "execution_count": 11
        }
      ]
    },
    {
      "cell_type": "code",
      "source": [],
      "metadata": {
        "id": "1ZuGy3kml3ep"
      },
      "execution_count": 11,
      "outputs": []
    },
    {
      "cell_type": "markdown",
      "source": [
        "### Tuples as return values\n",
        "#### Strictly speaking, a function can only return one value, but if the value is a tuple, the effect is the same as returning multiple values"
      ],
      "metadata": {
        "id": "eE0In4o7mB-Z"
      }
    },
    {
      "cell_type": "code",
      "source": [
        "def MyFunction(string):\n",
        "\n",
        "  stringlenght=len(string)\n",
        "  stringUpper=string.upper()\n",
        "  return(stringlenght,stringUpper)"
      ],
      "metadata": {
        "id": "3hYec-0PmC6y"
      },
      "execution_count": 12,
      "outputs": []
    },
    {
      "cell_type": "code",
      "source": [
        "MyFunction(\"Hi my name is Tobias\")"
      ],
      "metadata": {
        "colab": {
          "base_uri": "https://localhost:8080/"
        },
        "id": "PdkrHTLEmZtP",
        "outputId": "8c13f10c-1609-4dc1-df46-0ef84f0f93ba"
      },
      "execution_count": 13,
      "outputs": [
        {
          "output_type": "execute_result",
          "data": {
            "text/plain": [
              "(20, 'HI MY NAME IS TOBIAS')"
            ]
          },
          "metadata": {},
          "execution_count": 13
        }
      ]
    },
    {
      "cell_type": "code",
      "source": [],
      "metadata": {
        "id": "7k_ayJ39mdHH"
      },
      "execution_count": 13,
      "outputs": []
    },
    {
      "cell_type": "markdown",
      "source": [
        "# Dictionaries: Inmutable sequences\n",
        "\n",
        "#### The dictionary or dict may be the most important built-in Python data structure. In other programming languages, dictionaries are sometimes called hash maps or associative arrays. \n",
        "#### A dictionary stores a collection of key-value pairs, where key and value are Python objects. Each key is associated with a value so that a value can be conveniently retrieved, inserted, modified, or deleted given a particular key. One approach for creating a dictionary is to use curly braces {} and colons to separate keys and values:\n",
        "\n",
        "\n",
        "#### A dictionary is like a list, but more general. In a list, the indices have to be integers; in a dictionary they can be (almost) any type.\n",
        "\n",
        "#### A dictionary contains a collection of indices, which are called keys, and a collection of values. Each key is associated with a single value. The association of a key and a value is called a key-value pair or sometimes an item.\n",
        "\n",
        "\n"
      ],
      "metadata": {
        "id": "qFGQLokioAmu"
      }
    },
    {
      "cell_type": "code",
      "source": [
        "aCar={'brand':'Ford','model':'Mustang','year':'1964'}\n",
        "aCar"
      ],
      "metadata": {
        "colab": {
          "base_uri": "https://localhost:8080/"
        },
        "id": "PadltkITockX",
        "outputId": "fa746b5d-dc40-4fb8-bdd3-77132c34d527"
      },
      "execution_count": 14,
      "outputs": [
        {
          "output_type": "execute_result",
          "data": {
            "text/plain": [
              "{'brand': 'Ford', 'model': 'Mustang', 'year': '1964'}"
            ]
          },
          "metadata": {},
          "execution_count": 14
        }
      ]
    },
    {
      "cell_type": "code",
      "source": [
        "anotherCar={'brand':'Mercedes','model':'GLA','year':'2020'}"
      ],
      "metadata": {
        "id": "grG5wxzooze8"
      },
      "execution_count": 15,
      "outputs": []
    },
    {
      "cell_type": "code",
      "source": [
        "yetAnotherCar={'brand':'Volkswagen','model':'Golf','year':'2022'}\n",
        "yetAnotherCar"
      ],
      "metadata": {
        "colab": {
          "base_uri": "https://localhost:8080/"
        },
        "id": "_rxGWiwgo5jh",
        "outputId": "d08de1ec-8ac0-4cb2-b03d-93bf1492604e"
      },
      "execution_count": 16,
      "outputs": [
        {
          "output_type": "execute_result",
          "data": {
            "text/plain": [
              "{'brand': 'Volkswagen', 'model': 'Golf', 'year': '2022'}"
            ]
          },
          "metadata": {},
          "execution_count": 16
        }
      ]
    },
    {
      "cell_type": "markdown",
      "source": [
        "### Accesing Dictionaries"
      ],
      "metadata": {
        "id": "Np0Us3zbqPZ_"
      }
    },
    {
      "cell_type": "code",
      "source": [
        "anotherCar['brand']"
      ],
      "metadata": {
        "colab": {
          "base_uri": "https://localhost:8080/",
          "height": 36
        },
        "id": "kcGNP6xcqRcv",
        "outputId": "7211d913-9f5c-4e64-8503-7de30f3344ff"
      },
      "execution_count": 17,
      "outputs": [
        {
          "output_type": "execute_result",
          "data": {
            "text/plain": [
              "'Mercedes'"
            ],
            "application/vnd.google.colaboratory.intrinsic+json": {
              "type": "string"
            }
          },
          "metadata": {},
          "execution_count": 17
        }
      ]
    },
    {
      "cell_type": "code",
      "source": [
        "yetAnotherCar['brand']"
      ],
      "metadata": {
        "colab": {
          "base_uri": "https://localhost:8080/",
          "height": 36
        },
        "id": "zk_KGMAgqTEm",
        "outputId": "d33a775c-41fb-4aae-c7f9-cb3cabe3ec21"
      },
      "execution_count": 18,
      "outputs": [
        {
          "output_type": "execute_result",
          "data": {
            "text/plain": [
              "'Volkswagen'"
            ],
            "application/vnd.google.colaboratory.intrinsic+json": {
              "type": "string"
            }
          },
          "metadata": {},
          "execution_count": 18
        }
      ]
    },
    {
      "cell_type": "code",
      "source": [
        "yetAnotherCar['model']='Jetta'"
      ],
      "metadata": {
        "id": "ZelrZzjfqisp"
      },
      "execution_count": 19,
      "outputs": []
    },
    {
      "cell_type": "code",
      "source": [
        "yetAnotherCar"
      ],
      "metadata": {
        "colab": {
          "base_uri": "https://localhost:8080/"
        },
        "id": "qAUz9zAAqvX2",
        "outputId": "6023ba5b-57f9-44b4-d894-c529b5146f40"
      },
      "execution_count": 20,
      "outputs": [
        {
          "output_type": "execute_result",
          "data": {
            "text/plain": [
              "{'brand': 'Volkswagen', 'model': 'Jetta', 'year': '2022'}"
            ]
          },
          "metadata": {},
          "execution_count": 20
        }
      ]
    },
    {
      "cell_type": "code",
      "source": [],
      "metadata": {
        "id": "X8Y5dZcYqwde"
      },
      "execution_count": 20,
      "outputs": []
    },
    {
      "cell_type": "markdown",
      "source": [
        "### Iterating over a Dictionary\n",
        "#### The keys and values method gives you iterators of the dictionary's keys and values, respectively. "
      ],
      "metadata": {
        "id": "r1CNdbmJrIe1"
      }
    },
    {
      "cell_type": "code",
      "source": [
        "aCar.keys()"
      ],
      "metadata": {
        "colab": {
          "base_uri": "https://localhost:8080/"
        },
        "id": "5jkpOsCJrJ9r",
        "outputId": "b3d5bbf6-9d2a-41e3-db26-7516140a6613"
      },
      "execution_count": 21,
      "outputs": [
        {
          "output_type": "execute_result",
          "data": {
            "text/plain": [
              "dict_keys(['brand', 'model', 'year'])"
            ]
          },
          "metadata": {},
          "execution_count": 21
        }
      ]
    },
    {
      "cell_type": "code",
      "source": [
        "list(aCar.keys())"
      ],
      "metadata": {
        "colab": {
          "base_uri": "https://localhost:8080/"
        },
        "id": "8LhS-sf7rbkg",
        "outputId": "6a09d52c-284f-4bca-916f-a6470c094d5f"
      },
      "execution_count": 22,
      "outputs": [
        {
          "output_type": "execute_result",
          "data": {
            "text/plain": [
              "['brand', 'model', 'year']"
            ]
          },
          "metadata": {},
          "execution_count": 22
        }
      ]
    },
    {
      "cell_type": "code",
      "source": [
        "aCar.values()"
      ],
      "metadata": {
        "colab": {
          "base_uri": "https://localhost:8080/"
        },
        "id": "xFZr_86KriuT",
        "outputId": "8c1b01d9-9223-4fa3-c87c-1fb6c98df1f6"
      },
      "execution_count": 23,
      "outputs": [
        {
          "output_type": "execute_result",
          "data": {
            "text/plain": [
              "dict_values(['Ford', 'Mustang', '1964'])"
            ]
          },
          "metadata": {},
          "execution_count": 23
        }
      ]
    },
    {
      "cell_type": "code",
      "source": [
        "list(aCar.values())"
      ],
      "metadata": {
        "colab": {
          "base_uri": "https://localhost:8080/"
        },
        "id": "7wZulfBRrkwv",
        "outputId": "d37d47bd-8713-4896-c6e6-09e36c2737ac"
      },
      "execution_count": 24,
      "outputs": [
        {
          "output_type": "execute_result",
          "data": {
            "text/plain": [
              "['Ford', 'Mustang', '1964']"
            ]
          },
          "metadata": {},
          "execution_count": 24
        }
      ]
    },
    {
      "cell_type": "markdown",
      "source": [
        "#### If you need to iterate over both the keys and values, you can use the items method to iterate over the keys and values as 2-tuples:"
      ],
      "metadata": {
        "id": "K2FfvmO8r2cH"
      }
    },
    {
      "cell_type": "code",
      "source": [
        "for item in aCar.items():\n",
        "  print(item)\n"
      ],
      "metadata": {
        "colab": {
          "base_uri": "https://localhost:8080/"
        },
        "id": "zQ1qzf5UrnF-",
        "outputId": "60de4f57-aa61-45b1-bbf4-2f4a2d28b2a4"
      },
      "execution_count": 25,
      "outputs": [
        {
          "output_type": "stream",
          "name": "stdout",
          "text": [
            "('brand', 'Ford')\n",
            "('model', 'Mustang')\n",
            "('year', '1964')\n"
          ]
        }
      ]
    },
    {
      "cell_type": "code",
      "source": [
        "for item in aCar.items():\n",
        "  print(\"I got the key:\",item[0])\n",
        "  print(\"I got the value:\",item[1])\n"
      ],
      "metadata": {
        "colab": {
          "base_uri": "https://localhost:8080/"
        },
        "id": "fdqc923trxkV",
        "outputId": "66b3b0cd-b28a-4502-96bb-137aea3c45ca"
      },
      "execution_count": 26,
      "outputs": [
        {
          "output_type": "stream",
          "name": "stdout",
          "text": [
            "I got the key: brand\n",
            "I got the value: Ford\n",
            "I got the key: model\n",
            "I got the value: Mustang\n",
            "I got the key: year\n",
            "I got the value: 1964\n"
          ]
        }
      ]
    },
    {
      "cell_type": "code",
      "source": [],
      "metadata": {
        "id": "Fvdus_6lsj8j"
      },
      "execution_count": 26,
      "outputs": []
    },
    {
      "cell_type": "markdown",
      "source": [
        "### Iterating over a List of Dictionaries\n",
        "#### "
      ],
      "metadata": {
        "id": "ER_fc17ptH7L"
      }
    },
    {
      "cell_type": "code",
      "source": [
        "aListOfCars=[aCar,anotherCar, yetAnotherCar]"
      ],
      "metadata": {
        "id": "1Ya1ttkWtLXM"
      },
      "execution_count": 27,
      "outputs": []
    },
    {
      "cell_type": "code",
      "source": [
        "aListOfCars"
      ],
      "metadata": {
        "colab": {
          "base_uri": "https://localhost:8080/"
        },
        "id": "-iQTKyS4tLcp",
        "outputId": "7b6d15b3-f09b-4541-d73b-714dcb77fc01"
      },
      "execution_count": 28,
      "outputs": [
        {
          "output_type": "execute_result",
          "data": {
            "text/plain": [
              "[{'brand': 'Ford', 'model': 'Mustang', 'year': '1964'},\n",
              " {'brand': 'Mercedes', 'model': 'GLA', 'year': '2020'},\n",
              " {'brand': 'Volkswagen', 'model': 'Jetta', 'year': '2022'}]"
            ]
          },
          "metadata": {},
          "execution_count": 28
        }
      ]
    },
    {
      "cell_type": "code",
      "source": [
        "for car in aListOfCars:\n",
        "    print(\"I got the following car:\")\n",
        "    for key in car:\n",
        "        print(key, car[key])\n"
      ],
      "metadata": {
        "colab": {
          "base_uri": "https://localhost:8080/"
        },
        "id": "9vuZjIsOtLaC",
        "outputId": "3b07a924-a541-4838-8fc1-9be46552b88b"
      },
      "execution_count": 29,
      "outputs": [
        {
          "output_type": "stream",
          "name": "stdout",
          "text": [
            "I got the following car:\n",
            "brand Ford\n",
            "model Mustang\n",
            "year 1964\n",
            "I got the following car:\n",
            "brand Mercedes\n",
            "model GLA\n",
            "year 2020\n",
            "I got the following car:\n",
            "brand Volkswagen\n",
            "model Jetta\n",
            "year 2022\n"
          ]
        }
      ]
    },
    {
      "cell_type": "code",
      "source": [
        "for car in aListOfCars:\n",
        "    print(\"I got the following car:\")\n",
        "    for key, value in car.items():\n",
        "        print(key, value)"
      ],
      "metadata": {
        "colab": {
          "base_uri": "https://localhost:8080/"
        },
        "id": "wCAg5M9mtqSv",
        "outputId": "ced17873-a007-42e1-d16f-530142c04aa0"
      },
      "execution_count": 30,
      "outputs": [
        {
          "output_type": "stream",
          "name": "stdout",
          "text": [
            "I got the following car:\n",
            "brand Ford\n",
            "model Mustang\n",
            "year 1964\n",
            "I got the following car:\n",
            "brand Mercedes\n",
            "model GLA\n",
            "year 2020\n",
            "I got the following car:\n",
            "brand Volkswagen\n",
            "model Jetta\n",
            "year 2022\n"
          ]
        }
      ]
    },
    {
      "cell_type": "code",
      "source": [],
      "metadata": {
        "id": "ddD6VDO9uPQE"
      },
      "execution_count": 30,
      "outputs": []
    }
  ]
}