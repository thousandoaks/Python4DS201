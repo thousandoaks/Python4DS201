{
  "nbformat": 4,
  "nbformat_minor": 0,
  "metadata": {
    "colab": {
      "provenance": [],
      "authorship_tag": "ABX9TyMzu7zvL2fGjVY7j0khz9Lr"
    },
    "kernelspec": {
      "name": "python3",
      "display_name": "Python 3"
    },
    "language_info": {
      "name": "python"
    }
  },
  "cells": [
    {
      "cell_type": "markdown",
      "source": [
        "# Policy Analysis with Pooled Cross Sections"
      ],
      "metadata": {
        "id": "9Koy8IdCva-p"
      }
    },
    {
      "cell_type": "markdown",
      "source": [
        "### Intro and objectives\n",
        "\n",
        "\n",
        "### In this lab you will learn:\n",
        "1. examples of policy analysis using Pooled Cross Sections\n",
        "2. how to fit pooled cross sectional models in Python\n",
        "\n",
        "\n",
        "## What I hope you'll get out of this lab\n",
        "* The feeling that you'll \"know where to start\" when you need to evaluate the effect of policies or changes in a population\n",
        "* Worked Examples\n",
        "* How to interpret the results obtained"
      ],
      "metadata": {
        "id": "DiOUGkzJvkIq"
      }
    },
    {
      "cell_type": "code",
      "execution_count": 19,
      "metadata": {
        "colab": {
          "base_uri": "https://localhost:8080/"
        },
        "id": "31p3EWLtvZq_",
        "outputId": "98156733-dcd7-42a4-90ee-132669d6b624"
      },
      "outputs": [
        {
          "output_type": "stream",
          "name": "stdout",
          "text": [
            "Looking in indexes: https://pypi.org/simple, https://us-python.pkg.dev/colab-wheels/public/simple/\n",
            "Requirement already satisfied: wooldridge in /usr/local/lib/python3.8/dist-packages (0.4.4)\n",
            "Requirement already satisfied: pandas in /usr/local/lib/python3.8/dist-packages (from wooldridge) (1.3.5)\n",
            "Requirement already satisfied: python-dateutil>=2.7.3 in /usr/local/lib/python3.8/dist-packages (from pandas->wooldridge) (2.8.2)\n",
            "Requirement already satisfied: numpy>=1.17.3 in /usr/local/lib/python3.8/dist-packages (from pandas->wooldridge) (1.21.6)\n",
            "Requirement already satisfied: pytz>=2017.3 in /usr/local/lib/python3.8/dist-packages (from pandas->wooldridge) (2022.7)\n",
            "Requirement already satisfied: six>=1.5 in /usr/local/lib/python3.8/dist-packages (from python-dateutil>=2.7.3->pandas->wooldridge) (1.15.0)\n"
          ]
        }
      ],
      "source": [
        "!pip install wooldridge\n",
        "import wooldridge as woo\n",
        "import statsmodels.formula.api as smf\n",
        "import matplotlib.pyplot as plt\n",
        "import seaborn as sns\n",
        "import pandas as pd\n",
        "import numpy as np"
      ]
    },
    {
      "cell_type": "markdown",
      "source": [
        "# Example. Effect of a Garbage Incinerator’s Location on Housing Prices"
      ],
      "metadata": {
        "id": "aEHpzweDwqTa"
      }
    },
    {
      "cell_type": "markdown",
      "source": [
        "\n",
        "#### The rumor that a new incinerator would be built in North Andover began after 1978, and construction began in 1981. The incinerator was expected to be in operation soon after the start of construction; the incinerator actually began operating in 1985. \n",
        "####  The hypothesis is that the price of houses located near the incinerator would fall relative to the price of more distant houses.\n",
        "\n",
        "#### We define a house to be near the incinerator if it is within three miles. Let rprice denote the house price in real terms.\n",
        "#### We will use data on prices of houses that sold in 1978 and another sample on those that sold in 1981.\n",
        "\n",
        "#### In this case we fit a pooled cross section-based model regressing house price in terms of its vicinity to the incinerator. \n",
        "\n",
        "\n",
        "$ rprice=\\beta_0+δ_o*year_{81}+\\beta_1*nearinc+δ_1*year_{81}*nearinc+u $\n",
        "\n",
        "\n",
        "#### The intercept, $\\beta_0$, is the average price of a home not near the incinerator in 1978. The parameter $δ_o$ captures changes in all housing values in North Andover from 1978 to 1981. The coefficient on nearinc, $\\beta_1$, measures the location effect that is not due to the presence of the incinerator.\n",
        "\n",
        "#### The parameter of interest is on the interaction term y81·nearinc: $δ_1$ measures the decline in housing values due to the new incinerator, provided we assume that houses both near and far from the site did not appreciate at different rates for other reasons.\n",
        "\n"
      ],
      "metadata": {
        "id": "qHmLOQ7MxEbJ"
      }
    },
    {
      "cell_type": "code",
      "source": [
        "kielmc = woo.dataWoo('kielmc')"
      ],
      "metadata": {
        "id": "2ma8vEoPxGI_"
      },
      "execution_count": 20,
      "outputs": []
    },
    {
      "cell_type": "code",
      "source": [
        "kielmc.head()"
      ],
      "metadata": {
        "colab": {
          "base_uri": "https://localhost:8080/",
          "height": 235
        },
        "id": "uNliv4ZZ0OeX",
        "outputId": "3b471966-e269-42b6-ce99-ee92505f8973"
      },
      "execution_count": 21,
      "outputs": [
        {
          "output_type": "execute_result",
          "data": {
            "text/plain": [
              "   year  age   agesq  nbh     cbd   intst  lintst    price  rooms  area  ...  \\\n",
              "0  1978   48  2304.0    4  3000.0  1000.0  6.9078  60000.0      7  1660  ...   \n",
              "1  1978   83  6889.0    4  4000.0  1000.0  6.9078  40000.0      6  2612  ...   \n",
              "2  1978   58  3364.0    4  4000.0  1000.0  6.9078  34000.0      6  1144  ...   \n",
              "3  1978   11   121.0    4  4000.0  1000.0  6.9078  63900.0      5  1136  ...   \n",
              "4  1978   48  2304.0    4  4000.0  2000.0  7.6009  44000.0      5  1868  ...   \n",
              "\n",
              "      lprice  y81     larea     lland  y81ldist   lintstsq  nearinc  y81nrinc  \\\n",
              "0  11.002100    0  7.414573  8.429017       0.0  47.717705        1         0   \n",
              "1  10.596635    0  7.867871  9.032409       0.0  47.717705        1         0   \n",
              "2  10.434115    0  7.042286  8.517193       0.0  47.717705        1         0   \n",
              "3  11.065075    0  7.035269  9.210340       0.0  47.717705        1         0   \n",
              "4  10.691945    0  7.532624  9.210340       0.0  57.773682        1         0   \n",
              "\n",
              "    rprice    lrprice  \n",
              "0  60000.0  11.002100  \n",
              "1  40000.0  10.596635  \n",
              "2  34000.0  10.434115  \n",
              "3  63900.0  11.065075  \n",
              "4  44000.0  10.691945  \n",
              "\n",
              "[5 rows x 25 columns]"
            ],
            "text/html": [
              "\n",
              "  <div id=\"df-bb25e1b7-ae16-47a0-8a6f-6620c788375d\">\n",
              "    <div class=\"colab-df-container\">\n",
              "      <div>\n",
              "<style scoped>\n",
              "    .dataframe tbody tr th:only-of-type {\n",
              "        vertical-align: middle;\n",
              "    }\n",
              "\n",
              "    .dataframe tbody tr th {\n",
              "        vertical-align: top;\n",
              "    }\n",
              "\n",
              "    .dataframe thead th {\n",
              "        text-align: right;\n",
              "    }\n",
              "</style>\n",
              "<table border=\"1\" class=\"dataframe\">\n",
              "  <thead>\n",
              "    <tr style=\"text-align: right;\">\n",
              "      <th></th>\n",
              "      <th>year</th>\n",
              "      <th>age</th>\n",
              "      <th>agesq</th>\n",
              "      <th>nbh</th>\n",
              "      <th>cbd</th>\n",
              "      <th>intst</th>\n",
              "      <th>lintst</th>\n",
              "      <th>price</th>\n",
              "      <th>rooms</th>\n",
              "      <th>area</th>\n",
              "      <th>...</th>\n",
              "      <th>lprice</th>\n",
              "      <th>y81</th>\n",
              "      <th>larea</th>\n",
              "      <th>lland</th>\n",
              "      <th>y81ldist</th>\n",
              "      <th>lintstsq</th>\n",
              "      <th>nearinc</th>\n",
              "      <th>y81nrinc</th>\n",
              "      <th>rprice</th>\n",
              "      <th>lrprice</th>\n",
              "    </tr>\n",
              "  </thead>\n",
              "  <tbody>\n",
              "    <tr>\n",
              "      <th>0</th>\n",
              "      <td>1978</td>\n",
              "      <td>48</td>\n",
              "      <td>2304.0</td>\n",
              "      <td>4</td>\n",
              "      <td>3000.0</td>\n",
              "      <td>1000.0</td>\n",
              "      <td>6.9078</td>\n",
              "      <td>60000.0</td>\n",
              "      <td>7</td>\n",
              "      <td>1660</td>\n",
              "      <td>...</td>\n",
              "      <td>11.002100</td>\n",
              "      <td>0</td>\n",
              "      <td>7.414573</td>\n",
              "      <td>8.429017</td>\n",
              "      <td>0.0</td>\n",
              "      <td>47.717705</td>\n",
              "      <td>1</td>\n",
              "      <td>0</td>\n",
              "      <td>60000.0</td>\n",
              "      <td>11.002100</td>\n",
              "    </tr>\n",
              "    <tr>\n",
              "      <th>1</th>\n",
              "      <td>1978</td>\n",
              "      <td>83</td>\n",
              "      <td>6889.0</td>\n",
              "      <td>4</td>\n",
              "      <td>4000.0</td>\n",
              "      <td>1000.0</td>\n",
              "      <td>6.9078</td>\n",
              "      <td>40000.0</td>\n",
              "      <td>6</td>\n",
              "      <td>2612</td>\n",
              "      <td>...</td>\n",
              "      <td>10.596635</td>\n",
              "      <td>0</td>\n",
              "      <td>7.867871</td>\n",
              "      <td>9.032409</td>\n",
              "      <td>0.0</td>\n",
              "      <td>47.717705</td>\n",
              "      <td>1</td>\n",
              "      <td>0</td>\n",
              "      <td>40000.0</td>\n",
              "      <td>10.596635</td>\n",
              "    </tr>\n",
              "    <tr>\n",
              "      <th>2</th>\n",
              "      <td>1978</td>\n",
              "      <td>58</td>\n",
              "      <td>3364.0</td>\n",
              "      <td>4</td>\n",
              "      <td>4000.0</td>\n",
              "      <td>1000.0</td>\n",
              "      <td>6.9078</td>\n",
              "      <td>34000.0</td>\n",
              "      <td>6</td>\n",
              "      <td>1144</td>\n",
              "      <td>...</td>\n",
              "      <td>10.434115</td>\n",
              "      <td>0</td>\n",
              "      <td>7.042286</td>\n",
              "      <td>8.517193</td>\n",
              "      <td>0.0</td>\n",
              "      <td>47.717705</td>\n",
              "      <td>1</td>\n",
              "      <td>0</td>\n",
              "      <td>34000.0</td>\n",
              "      <td>10.434115</td>\n",
              "    </tr>\n",
              "    <tr>\n",
              "      <th>3</th>\n",
              "      <td>1978</td>\n",
              "      <td>11</td>\n",
              "      <td>121.0</td>\n",
              "      <td>4</td>\n",
              "      <td>4000.0</td>\n",
              "      <td>1000.0</td>\n",
              "      <td>6.9078</td>\n",
              "      <td>63900.0</td>\n",
              "      <td>5</td>\n",
              "      <td>1136</td>\n",
              "      <td>...</td>\n",
              "      <td>11.065075</td>\n",
              "      <td>0</td>\n",
              "      <td>7.035269</td>\n",
              "      <td>9.210340</td>\n",
              "      <td>0.0</td>\n",
              "      <td>47.717705</td>\n",
              "      <td>1</td>\n",
              "      <td>0</td>\n",
              "      <td>63900.0</td>\n",
              "      <td>11.065075</td>\n",
              "    </tr>\n",
              "    <tr>\n",
              "      <th>4</th>\n",
              "      <td>1978</td>\n",
              "      <td>48</td>\n",
              "      <td>2304.0</td>\n",
              "      <td>4</td>\n",
              "      <td>4000.0</td>\n",
              "      <td>2000.0</td>\n",
              "      <td>7.6009</td>\n",
              "      <td>44000.0</td>\n",
              "      <td>5</td>\n",
              "      <td>1868</td>\n",
              "      <td>...</td>\n",
              "      <td>10.691945</td>\n",
              "      <td>0</td>\n",
              "      <td>7.532624</td>\n",
              "      <td>9.210340</td>\n",
              "      <td>0.0</td>\n",
              "      <td>57.773682</td>\n",
              "      <td>1</td>\n",
              "      <td>0</td>\n",
              "      <td>44000.0</td>\n",
              "      <td>10.691945</td>\n",
              "    </tr>\n",
              "  </tbody>\n",
              "</table>\n",
              "<p>5 rows × 25 columns</p>\n",
              "</div>\n",
              "      <button class=\"colab-df-convert\" onclick=\"convertToInteractive('df-bb25e1b7-ae16-47a0-8a6f-6620c788375d')\"\n",
              "              title=\"Convert this dataframe to an interactive table.\"\n",
              "              style=\"display:none;\">\n",
              "        \n",
              "  <svg xmlns=\"http://www.w3.org/2000/svg\" height=\"24px\"viewBox=\"0 0 24 24\"\n",
              "       width=\"24px\">\n",
              "    <path d=\"M0 0h24v24H0V0z\" fill=\"none\"/>\n",
              "    <path d=\"M18.56 5.44l.94 2.06.94-2.06 2.06-.94-2.06-.94-.94-2.06-.94 2.06-2.06.94zm-11 1L8.5 8.5l.94-2.06 2.06-.94-2.06-.94L8.5 2.5l-.94 2.06-2.06.94zm10 10l.94 2.06.94-2.06 2.06-.94-2.06-.94-.94-2.06-.94 2.06-2.06.94z\"/><path d=\"M17.41 7.96l-1.37-1.37c-.4-.4-.92-.59-1.43-.59-.52 0-1.04.2-1.43.59L10.3 9.45l-7.72 7.72c-.78.78-.78 2.05 0 2.83L4 21.41c.39.39.9.59 1.41.59.51 0 1.02-.2 1.41-.59l7.78-7.78 2.81-2.81c.8-.78.8-2.07 0-2.86zM5.41 20L4 18.59l7.72-7.72 1.47 1.35L5.41 20z\"/>\n",
              "  </svg>\n",
              "      </button>\n",
              "      \n",
              "  <style>\n",
              "    .colab-df-container {\n",
              "      display:flex;\n",
              "      flex-wrap:wrap;\n",
              "      gap: 12px;\n",
              "    }\n",
              "\n",
              "    .colab-df-convert {\n",
              "      background-color: #E8F0FE;\n",
              "      border: none;\n",
              "      border-radius: 50%;\n",
              "      cursor: pointer;\n",
              "      display: none;\n",
              "      fill: #1967D2;\n",
              "      height: 32px;\n",
              "      padding: 0 0 0 0;\n",
              "      width: 32px;\n",
              "    }\n",
              "\n",
              "    .colab-df-convert:hover {\n",
              "      background-color: #E2EBFA;\n",
              "      box-shadow: 0px 1px 2px rgba(60, 64, 67, 0.3), 0px 1px 3px 1px rgba(60, 64, 67, 0.15);\n",
              "      fill: #174EA6;\n",
              "    }\n",
              "\n",
              "    [theme=dark] .colab-df-convert {\n",
              "      background-color: #3B4455;\n",
              "      fill: #D2E3FC;\n",
              "    }\n",
              "\n",
              "    [theme=dark] .colab-df-convert:hover {\n",
              "      background-color: #434B5C;\n",
              "      box-shadow: 0px 1px 3px 1px rgba(0, 0, 0, 0.15);\n",
              "      filter: drop-shadow(0px 1px 2px rgba(0, 0, 0, 0.3));\n",
              "      fill: #FFFFFF;\n",
              "    }\n",
              "  </style>\n",
              "\n",
              "      <script>\n",
              "        const buttonEl =\n",
              "          document.querySelector('#df-bb25e1b7-ae16-47a0-8a6f-6620c788375d button.colab-df-convert');\n",
              "        buttonEl.style.display =\n",
              "          google.colab.kernel.accessAllowed ? 'block' : 'none';\n",
              "\n",
              "        async function convertToInteractive(key) {\n",
              "          const element = document.querySelector('#df-bb25e1b7-ae16-47a0-8a6f-6620c788375d');\n",
              "          const dataTable =\n",
              "            await google.colab.kernel.invokeFunction('convertToInteractive',\n",
              "                                                     [key], {});\n",
              "          if (!dataTable) return;\n",
              "\n",
              "          const docLinkHtml = 'Like what you see? Visit the ' +\n",
              "            '<a target=\"_blank\" href=https://colab.research.google.com/notebooks/data_table.ipynb>data table notebook</a>'\n",
              "            + ' to learn more about interactive tables.';\n",
              "          element.innerHTML = '';\n",
              "          dataTable['output_type'] = 'display_data';\n",
              "          await google.colab.output.renderOutput(dataTable, element);\n",
              "          const docLink = document.createElement('div');\n",
              "          docLink.innerHTML = docLinkHtml;\n",
              "          element.appendChild(docLink);\n",
              "        }\n",
              "      </script>\n",
              "    </div>\n",
              "  </div>\n",
              "  "
            ]
          },
          "metadata": {},
          "execution_count": 21
        }
      ]
    },
    {
      "cell_type": "code",
      "source": [
        "type(kielmc)"
      ],
      "metadata": {
        "colab": {
          "base_uri": "https://localhost:8080/"
        },
        "id": "xPiVcFZAzh1t",
        "outputId": "be837f62-0059-4678-9b23-30356e884b07"
      },
      "execution_count": 22,
      "outputs": [
        {
          "output_type": "execute_result",
          "data": {
            "text/plain": [
              "pandas.core.frame.DataFrame"
            ]
          },
          "metadata": {},
          "execution_count": 22
        }
      ]
    },
    {
      "cell_type": "code",
      "source": [
        "kielmc.info()"
      ],
      "metadata": {
        "colab": {
          "base_uri": "https://localhost:8080/"
        },
        "id": "vwM6KSPgqGod",
        "outputId": "253fd732-955a-4c88-9add-ac98c79ec7ba"
      },
      "execution_count": 23,
      "outputs": [
        {
          "output_type": "stream",
          "name": "stdout",
          "text": [
            "<class 'pandas.core.frame.DataFrame'>\n",
            "RangeIndex: 321 entries, 0 to 320\n",
            "Data columns (total 25 columns):\n",
            " #   Column    Non-Null Count  Dtype  \n",
            "---  ------    --------------  -----  \n",
            " 0   year      321 non-null    int64  \n",
            " 1   age       321 non-null    int64  \n",
            " 2   agesq     321 non-null    float64\n",
            " 3   nbh       321 non-null    int64  \n",
            " 4   cbd       321 non-null    float64\n",
            " 5   intst     321 non-null    float64\n",
            " 6   lintst    321 non-null    float64\n",
            " 7   price     321 non-null    float64\n",
            " 8   rooms     321 non-null    int64  \n",
            " 9   area      321 non-null    int64  \n",
            " 10  land      321 non-null    float64\n",
            " 11  baths     321 non-null    int64  \n",
            " 12  dist      321 non-null    float64\n",
            " 13  ldist     321 non-null    float64\n",
            " 14  wind      321 non-null    int64  \n",
            " 15  lprice    321 non-null    float64\n",
            " 16  y81       321 non-null    int64  \n",
            " 17  larea     321 non-null    float64\n",
            " 18  lland     321 non-null    float64\n",
            " 19  y81ldist  321 non-null    float64\n",
            " 20  lintstsq  321 non-null    float64\n",
            " 21  nearinc   321 non-null    int64  \n",
            " 22  y81nrinc  321 non-null    int64  \n",
            " 23  rprice    321 non-null    float64\n",
            " 24  lrprice   321 non-null    float64\n",
            "dtypes: float64(15), int64(10)\n",
            "memory usage: 62.8 KB\n"
          ]
        }
      ]
    },
    {
      "cell_type": "code",
      "source": [
        "# joint regression including an interaction term:\n",
        "reg_joint = smf.ols(formula='rprice ~ nearinc * C(year)', data=kielmc)\n",
        "results_joint = reg_joint.fit()"
      ],
      "metadata": {
        "id": "xNYUa6c-0ZYd"
      },
      "execution_count": 24,
      "outputs": []
    },
    {
      "cell_type": "code",
      "source": [
        "table_joint = pd.DataFrame({'b': round(results_joint.params, 4),\n",
        "                            'se': round(results_joint.bse, 4),\n",
        "                            't': round(results_joint.tvalues, 4),\n",
        "                            'pval': round(results_joint.pvalues, 4)})\n",
        "print(f'table_joint: \\n{table_joint}\\n')"
      ],
      "metadata": {
        "colab": {
          "base_uri": "https://localhost:8080/"
        },
        "id": "VWLFz7bymG1O",
        "outputId": "b32757ec-1450-498e-b2b7-0b60052b6533"
      },
      "execution_count": 25,
      "outputs": [
        {
          "output_type": "stream",
          "name": "stdout",
          "text": [
            "table_joint: \n",
            "                                  b         se        t    pval\n",
            "Intercept                82517.2276  2726.9101  30.2603  0.0000\n",
            "C(year)[T.1981]          18790.2860  4050.0650   4.6395  0.0000\n",
            "nearinc                 -18824.3705  4875.3221  -3.8612  0.0001\n",
            "nearinc:C(year)[T.1981] -11863.9033  7456.6462  -1.5911  0.1126\n",
            "\n"
          ]
        }
      ]
    },
    {
      "cell_type": "markdown",
      "source": [
        "## Based on the previous we have fitted the following model:\n",
        "\n",
        "\n",
        "\n",
        "\n",
        "$ rprice=82517.22+18790.28*year_{81}-18824.37*nearinc-11863.90*year_{81}*nearinc$"
      ],
      "metadata": {
        "id": "TD99-pf-1RVu"
      }
    },
    {
      "cell_type": "markdown",
      "source": [
        "## How do we interpret the equation?\n",
        "\n",
        "#### Based on the fitted model, we conclude:\n",
        "\n",
        "####1. House prices increased around 18790 dollars from 1978 to 1981\n",
        "\n",
        "####2. House prices near the incinerator are overall 18824.37 dollars cheaper (perhaps due to lower quality, size, services,etc.)\n",
        "\n",
        "#### 3. The specific effect of having an incinerator in the vicinity is -11863.90 dollars."
      ],
      "metadata": {
        "id": "gXrsythK1wue"
      }
    },
    {
      "cell_type": "code",
      "source": [],
      "metadata": {
        "id": "u-KAKFzeow8q"
      },
      "execution_count": 25,
      "outputs": []
    },
    {
      "cell_type": "markdown",
      "source": [
        "### We observed a strong and statistically significant price difference between houses close to the incinerator and those apart. \n",
        "\n",
        "### Let's explore how house characteristics change accross location"
      ],
      "metadata": {
        "id": "21IhIAmSqyon"
      }
    },
    {
      "cell_type": "code",
      "source": [
        "kielmc.groupby('nearinc').mean()"
      ],
      "metadata": {
        "colab": {
          "base_uri": "https://localhost:8080/",
          "height": 237
        },
        "id": "q2YJMInup2PM",
        "outputId": "98bd6ed9-4d47-4e2b-afb1-26b1740e2ef1"
      },
      "execution_count": 26,
      "outputs": [
        {
          "output_type": "execute_result",
          "data": {
            "text/plain": [
              "            year        age        agesq       nbh           cbd  \\\n",
              "nearinc                                                            \n",
              "0        1979.36  10.822222   969.524444  2.031111  20244.444444   \n",
              "1        1979.25  34.854167  2347.291667  2.625000   5458.333333   \n",
              "\n",
              "                intst    lintst          price     rooms         area  ...  \\\n",
              "nearinc                                                                ...   \n",
              "0        20675.555556  9.870139  104905.164444  6.800000  2200.124444  ...   \n",
              "1         6520.833333  8.567328   75465.104167  6.083333  1887.833333  ...   \n",
              "\n",
              "             wind     lprice       y81     larea      lland  y81ldist  \\\n",
              "nearinc                                                                 \n",
              "0        7.746667  11.492595  0.453333  7.655328  10.621965  4.557294   \n",
              "1        5.177083  11.109812  0.416667  7.461071   9.551612  3.839339   \n",
              "\n",
              "          lintstsq  y81nrinc        rprice    lrprice  \n",
              "nearinc                                                \n",
              "0        97.565032  0.000000  91035.490608  11.372960  \n",
              "1        73.881949  0.416667  66578.849935  10.999853  \n",
              "\n",
              "[2 rows x 24 columns]"
            ],
            "text/html": [
              "\n",
              "  <div id=\"df-fdf93472-b3c6-49d0-9451-839985fcb228\">\n",
              "    <div class=\"colab-df-container\">\n",
              "      <div>\n",
              "<style scoped>\n",
              "    .dataframe tbody tr th:only-of-type {\n",
              "        vertical-align: middle;\n",
              "    }\n",
              "\n",
              "    .dataframe tbody tr th {\n",
              "        vertical-align: top;\n",
              "    }\n",
              "\n",
              "    .dataframe thead th {\n",
              "        text-align: right;\n",
              "    }\n",
              "</style>\n",
              "<table border=\"1\" class=\"dataframe\">\n",
              "  <thead>\n",
              "    <tr style=\"text-align: right;\">\n",
              "      <th></th>\n",
              "      <th>year</th>\n",
              "      <th>age</th>\n",
              "      <th>agesq</th>\n",
              "      <th>nbh</th>\n",
              "      <th>cbd</th>\n",
              "      <th>intst</th>\n",
              "      <th>lintst</th>\n",
              "      <th>price</th>\n",
              "      <th>rooms</th>\n",
              "      <th>area</th>\n",
              "      <th>...</th>\n",
              "      <th>wind</th>\n",
              "      <th>lprice</th>\n",
              "      <th>y81</th>\n",
              "      <th>larea</th>\n",
              "      <th>lland</th>\n",
              "      <th>y81ldist</th>\n",
              "      <th>lintstsq</th>\n",
              "      <th>y81nrinc</th>\n",
              "      <th>rprice</th>\n",
              "      <th>lrprice</th>\n",
              "    </tr>\n",
              "    <tr>\n",
              "      <th>nearinc</th>\n",
              "      <th></th>\n",
              "      <th></th>\n",
              "      <th></th>\n",
              "      <th></th>\n",
              "      <th></th>\n",
              "      <th></th>\n",
              "      <th></th>\n",
              "      <th></th>\n",
              "      <th></th>\n",
              "      <th></th>\n",
              "      <th></th>\n",
              "      <th></th>\n",
              "      <th></th>\n",
              "      <th></th>\n",
              "      <th></th>\n",
              "      <th></th>\n",
              "      <th></th>\n",
              "      <th></th>\n",
              "      <th></th>\n",
              "      <th></th>\n",
              "      <th></th>\n",
              "    </tr>\n",
              "  </thead>\n",
              "  <tbody>\n",
              "    <tr>\n",
              "      <th>0</th>\n",
              "      <td>1979.36</td>\n",
              "      <td>10.822222</td>\n",
              "      <td>969.524444</td>\n",
              "      <td>2.031111</td>\n",
              "      <td>20244.444444</td>\n",
              "      <td>20675.555556</td>\n",
              "      <td>9.870139</td>\n",
              "      <td>104905.164444</td>\n",
              "      <td>6.800000</td>\n",
              "      <td>2200.124444</td>\n",
              "      <td>...</td>\n",
              "      <td>7.746667</td>\n",
              "      <td>11.492595</td>\n",
              "      <td>0.453333</td>\n",
              "      <td>7.655328</td>\n",
              "      <td>10.621965</td>\n",
              "      <td>4.557294</td>\n",
              "      <td>97.565032</td>\n",
              "      <td>0.000000</td>\n",
              "      <td>91035.490608</td>\n",
              "      <td>11.372960</td>\n",
              "    </tr>\n",
              "    <tr>\n",
              "      <th>1</th>\n",
              "      <td>1979.25</td>\n",
              "      <td>34.854167</td>\n",
              "      <td>2347.291667</td>\n",
              "      <td>2.625000</td>\n",
              "      <td>5458.333333</td>\n",
              "      <td>6520.833333</td>\n",
              "      <td>8.567328</td>\n",
              "      <td>75465.104167</td>\n",
              "      <td>6.083333</td>\n",
              "      <td>1887.833333</td>\n",
              "      <td>...</td>\n",
              "      <td>5.177083</td>\n",
              "      <td>11.109812</td>\n",
              "      <td>0.416667</td>\n",
              "      <td>7.461071</td>\n",
              "      <td>9.551612</td>\n",
              "      <td>3.839339</td>\n",
              "      <td>73.881949</td>\n",
              "      <td>0.416667</td>\n",
              "      <td>66578.849935</td>\n",
              "      <td>10.999853</td>\n",
              "    </tr>\n",
              "  </tbody>\n",
              "</table>\n",
              "<p>2 rows × 24 columns</p>\n",
              "</div>\n",
              "      <button class=\"colab-df-convert\" onclick=\"convertToInteractive('df-fdf93472-b3c6-49d0-9451-839985fcb228')\"\n",
              "              title=\"Convert this dataframe to an interactive table.\"\n",
              "              style=\"display:none;\">\n",
              "        \n",
              "  <svg xmlns=\"http://www.w3.org/2000/svg\" height=\"24px\"viewBox=\"0 0 24 24\"\n",
              "       width=\"24px\">\n",
              "    <path d=\"M0 0h24v24H0V0z\" fill=\"none\"/>\n",
              "    <path d=\"M18.56 5.44l.94 2.06.94-2.06 2.06-.94-2.06-.94-.94-2.06-.94 2.06-2.06.94zm-11 1L8.5 8.5l.94-2.06 2.06-.94-2.06-.94L8.5 2.5l-.94 2.06-2.06.94zm10 10l.94 2.06.94-2.06 2.06-.94-2.06-.94-.94-2.06-.94 2.06-2.06.94z\"/><path d=\"M17.41 7.96l-1.37-1.37c-.4-.4-.92-.59-1.43-.59-.52 0-1.04.2-1.43.59L10.3 9.45l-7.72 7.72c-.78.78-.78 2.05 0 2.83L4 21.41c.39.39.9.59 1.41.59.51 0 1.02-.2 1.41-.59l7.78-7.78 2.81-2.81c.8-.78.8-2.07 0-2.86zM5.41 20L4 18.59l7.72-7.72 1.47 1.35L5.41 20z\"/>\n",
              "  </svg>\n",
              "      </button>\n",
              "      \n",
              "  <style>\n",
              "    .colab-df-container {\n",
              "      display:flex;\n",
              "      flex-wrap:wrap;\n",
              "      gap: 12px;\n",
              "    }\n",
              "\n",
              "    .colab-df-convert {\n",
              "      background-color: #E8F0FE;\n",
              "      border: none;\n",
              "      border-radius: 50%;\n",
              "      cursor: pointer;\n",
              "      display: none;\n",
              "      fill: #1967D2;\n",
              "      height: 32px;\n",
              "      padding: 0 0 0 0;\n",
              "      width: 32px;\n",
              "    }\n",
              "\n",
              "    .colab-df-convert:hover {\n",
              "      background-color: #E2EBFA;\n",
              "      box-shadow: 0px 1px 2px rgba(60, 64, 67, 0.3), 0px 1px 3px 1px rgba(60, 64, 67, 0.15);\n",
              "      fill: #174EA6;\n",
              "    }\n",
              "\n",
              "    [theme=dark] .colab-df-convert {\n",
              "      background-color: #3B4455;\n",
              "      fill: #D2E3FC;\n",
              "    }\n",
              "\n",
              "    [theme=dark] .colab-df-convert:hover {\n",
              "      background-color: #434B5C;\n",
              "      box-shadow: 0px 1px 3px 1px rgba(0, 0, 0, 0.15);\n",
              "      filter: drop-shadow(0px 1px 2px rgba(0, 0, 0, 0.3));\n",
              "      fill: #FFFFFF;\n",
              "    }\n",
              "  </style>\n",
              "\n",
              "      <script>\n",
              "        const buttonEl =\n",
              "          document.querySelector('#df-fdf93472-b3c6-49d0-9451-839985fcb228 button.colab-df-convert');\n",
              "        buttonEl.style.display =\n",
              "          google.colab.kernel.accessAllowed ? 'block' : 'none';\n",
              "\n",
              "        async function convertToInteractive(key) {\n",
              "          const element = document.querySelector('#df-fdf93472-b3c6-49d0-9451-839985fcb228');\n",
              "          const dataTable =\n",
              "            await google.colab.kernel.invokeFunction('convertToInteractive',\n",
              "                                                     [key], {});\n",
              "          if (!dataTable) return;\n",
              "\n",
              "          const docLinkHtml = 'Like what you see? Visit the ' +\n",
              "            '<a target=\"_blank\" href=https://colab.research.google.com/notebooks/data_table.ipynb>data table notebook</a>'\n",
              "            + ' to learn more about interactive tables.';\n",
              "          element.innerHTML = '';\n",
              "          dataTable['output_type'] = 'display_data';\n",
              "          await google.colab.output.renderOutput(dataTable, element);\n",
              "          const docLink = document.createElement('div');\n",
              "          docLink.innerHTML = docLinkHtml;\n",
              "          element.appendChild(docLink);\n",
              "        }\n",
              "      </script>\n",
              "    </div>\n",
              "  </div>\n",
              "  "
            ]
          },
          "metadata": {},
          "execution_count": 26
        }
      ]
    },
    {
      "cell_type": "code",
      "source": [
        "kielmc[['nearinc','baths','area','land','age','rooms']].groupby('nearinc').mean()"
      ],
      "metadata": {
        "colab": {
          "base_uri": "https://localhost:8080/",
          "height": 143
        },
        "id": "lPu5PK4mp2M3",
        "outputId": "2365a766-8798-4650-ecf2-b7156a3ed7d9"
      },
      "execution_count": 27,
      "outputs": [
        {
          "output_type": "execute_result",
          "data": {
            "text/plain": [
              "            baths         area          land        age     rooms\n",
              "nearinc                                                          \n",
              "0        2.551111  2200.124444  46984.902222  10.822222  6.800000\n",
              "1        1.843750  1887.833333  22391.583333  34.854167  6.083333"
            ],
            "text/html": [
              "\n",
              "  <div id=\"df-8be24e47-c01b-4301-aa42-d565451023b6\">\n",
              "    <div class=\"colab-df-container\">\n",
              "      <div>\n",
              "<style scoped>\n",
              "    .dataframe tbody tr th:only-of-type {\n",
              "        vertical-align: middle;\n",
              "    }\n",
              "\n",
              "    .dataframe tbody tr th {\n",
              "        vertical-align: top;\n",
              "    }\n",
              "\n",
              "    .dataframe thead th {\n",
              "        text-align: right;\n",
              "    }\n",
              "</style>\n",
              "<table border=\"1\" class=\"dataframe\">\n",
              "  <thead>\n",
              "    <tr style=\"text-align: right;\">\n",
              "      <th></th>\n",
              "      <th>baths</th>\n",
              "      <th>area</th>\n",
              "      <th>land</th>\n",
              "      <th>age</th>\n",
              "      <th>rooms</th>\n",
              "    </tr>\n",
              "    <tr>\n",
              "      <th>nearinc</th>\n",
              "      <th></th>\n",
              "      <th></th>\n",
              "      <th></th>\n",
              "      <th></th>\n",
              "      <th></th>\n",
              "    </tr>\n",
              "  </thead>\n",
              "  <tbody>\n",
              "    <tr>\n",
              "      <th>0</th>\n",
              "      <td>2.551111</td>\n",
              "      <td>2200.124444</td>\n",
              "      <td>46984.902222</td>\n",
              "      <td>10.822222</td>\n",
              "      <td>6.800000</td>\n",
              "    </tr>\n",
              "    <tr>\n",
              "      <th>1</th>\n",
              "      <td>1.843750</td>\n",
              "      <td>1887.833333</td>\n",
              "      <td>22391.583333</td>\n",
              "      <td>34.854167</td>\n",
              "      <td>6.083333</td>\n",
              "    </tr>\n",
              "  </tbody>\n",
              "</table>\n",
              "</div>\n",
              "      <button class=\"colab-df-convert\" onclick=\"convertToInteractive('df-8be24e47-c01b-4301-aa42-d565451023b6')\"\n",
              "              title=\"Convert this dataframe to an interactive table.\"\n",
              "              style=\"display:none;\">\n",
              "        \n",
              "  <svg xmlns=\"http://www.w3.org/2000/svg\" height=\"24px\"viewBox=\"0 0 24 24\"\n",
              "       width=\"24px\">\n",
              "    <path d=\"M0 0h24v24H0V0z\" fill=\"none\"/>\n",
              "    <path d=\"M18.56 5.44l.94 2.06.94-2.06 2.06-.94-2.06-.94-.94-2.06-.94 2.06-2.06.94zm-11 1L8.5 8.5l.94-2.06 2.06-.94-2.06-.94L8.5 2.5l-.94 2.06-2.06.94zm10 10l.94 2.06.94-2.06 2.06-.94-2.06-.94-.94-2.06-.94 2.06-2.06.94z\"/><path d=\"M17.41 7.96l-1.37-1.37c-.4-.4-.92-.59-1.43-.59-.52 0-1.04.2-1.43.59L10.3 9.45l-7.72 7.72c-.78.78-.78 2.05 0 2.83L4 21.41c.39.39.9.59 1.41.59.51 0 1.02-.2 1.41-.59l7.78-7.78 2.81-2.81c.8-.78.8-2.07 0-2.86zM5.41 20L4 18.59l7.72-7.72 1.47 1.35L5.41 20z\"/>\n",
              "  </svg>\n",
              "      </button>\n",
              "      \n",
              "  <style>\n",
              "    .colab-df-container {\n",
              "      display:flex;\n",
              "      flex-wrap:wrap;\n",
              "      gap: 12px;\n",
              "    }\n",
              "\n",
              "    .colab-df-convert {\n",
              "      background-color: #E8F0FE;\n",
              "      border: none;\n",
              "      border-radius: 50%;\n",
              "      cursor: pointer;\n",
              "      display: none;\n",
              "      fill: #1967D2;\n",
              "      height: 32px;\n",
              "      padding: 0 0 0 0;\n",
              "      width: 32px;\n",
              "    }\n",
              "\n",
              "    .colab-df-convert:hover {\n",
              "      background-color: #E2EBFA;\n",
              "      box-shadow: 0px 1px 2px rgba(60, 64, 67, 0.3), 0px 1px 3px 1px rgba(60, 64, 67, 0.15);\n",
              "      fill: #174EA6;\n",
              "    }\n",
              "\n",
              "    [theme=dark] .colab-df-convert {\n",
              "      background-color: #3B4455;\n",
              "      fill: #D2E3FC;\n",
              "    }\n",
              "\n",
              "    [theme=dark] .colab-df-convert:hover {\n",
              "      background-color: #434B5C;\n",
              "      box-shadow: 0px 1px 3px 1px rgba(0, 0, 0, 0.15);\n",
              "      filter: drop-shadow(0px 1px 2px rgba(0, 0, 0, 0.3));\n",
              "      fill: #FFFFFF;\n",
              "    }\n",
              "  </style>\n",
              "\n",
              "      <script>\n",
              "        const buttonEl =\n",
              "          document.querySelector('#df-8be24e47-c01b-4301-aa42-d565451023b6 button.colab-df-convert');\n",
              "        buttonEl.style.display =\n",
              "          google.colab.kernel.accessAllowed ? 'block' : 'none';\n",
              "\n",
              "        async function convertToInteractive(key) {\n",
              "          const element = document.querySelector('#df-8be24e47-c01b-4301-aa42-d565451023b6');\n",
              "          const dataTable =\n",
              "            await google.colab.kernel.invokeFunction('convertToInteractive',\n",
              "                                                     [key], {});\n",
              "          if (!dataTable) return;\n",
              "\n",
              "          const docLinkHtml = 'Like what you see? Visit the ' +\n",
              "            '<a target=\"_blank\" href=https://colab.research.google.com/notebooks/data_table.ipynb>data table notebook</a>'\n",
              "            + ' to learn more about interactive tables.';\n",
              "          element.innerHTML = '';\n",
              "          dataTable['output_type'] = 'display_data';\n",
              "          await google.colab.output.renderOutput(dataTable, element);\n",
              "          const docLink = document.createElement('div');\n",
              "          docLink.innerHTML = docLinkHtml;\n",
              "          element.appendChild(docLink);\n",
              "        }\n",
              "      </script>\n",
              "    </div>\n",
              "  </div>\n",
              "  "
            ]
          },
          "metadata": {},
          "execution_count": 27
        }
      ]
    },
    {
      "cell_type": "markdown",
      "source": [
        "#### We observe that houses near the incinerator (nearinc==1) tend to have inferior characteristics in terms of baths, area, land, age and rooms"
      ],
      "metadata": {
        "id": "9_KpGRXSqZk9"
      }
    },
    {
      "cell_type": "code",
      "source": [],
      "metadata": {
        "id": "tcINrjKHp2Ce"
      },
      "execution_count": 27,
      "outputs": []
    },
    {
      "cell_type": "markdown",
      "source": [
        "## Let's add some variables to the model\n",
        "### We fit and enhanced model, adding some additional variables\n"
      ],
      "metadata": {
        "id": "DAQOViPEpDT5"
      }
    },
    {
      "cell_type": "code",
      "source": [
        "reg_joint2 = smf.ols(formula='np.log(rprice) ~ nearinc*C(year) + age +'\n",
        "                           'I(age**2) + np.log(intst) + np.log(land) +'\n",
        "                           'np.log(area) + rooms + baths',\n",
        "                   data=kielmc)"
      ],
      "metadata": {
        "id": "J1HQlWp_pho-"
      },
      "execution_count": 28,
      "outputs": []
    },
    {
      "cell_type": "code",
      "source": [
        "results2 = reg_joint2.fit()\n",
        "\n",
        "# print regression table:\n",
        "table_didC = pd.DataFrame({'b': round(results2.params, 4),\n",
        "                           'se': round(results2.bse, 4),\n",
        "                           't': round(results2.tvalues, 4),\n",
        "                           'pval': round(results2.pvalues, 4)})\n",
        "print(f'table_didC: \\n{table_didC}\\n')"
      ],
      "metadata": {
        "colab": {
          "base_uri": "https://localhost:8080/"
        },
        "id": "CjNfSWpZpsgD",
        "outputId": "6d991900-ae69-467d-cd2f-168112976188"
      },
      "execution_count": 29,
      "outputs": [
        {
          "output_type": "stream",
          "name": "stdout",
          "text": [
            "table_didC: \n",
            "                              b      se        t    pval\n",
            "Intercept                7.6517  0.4159  18.3986  0.0000\n",
            "C(year)[T.1981]          0.1621  0.0285   5.6868  0.0000\n",
            "nearinc                  0.0322  0.0475   0.6789  0.4977\n",
            "nearinc:C(year)[T.1981] -0.1315  0.0520  -2.5305  0.0119\n",
            "age                     -0.0084  0.0014  -5.9236  0.0000\n",
            "I(age ** 2)              0.0000  0.0000   4.3415  0.0000\n",
            "np.log(intst)           -0.0614  0.0315  -1.9500  0.0521\n",
            "np.log(land)             0.0998  0.0245   4.0766  0.0001\n",
            "np.log(area)             0.3508  0.0515   6.8129  0.0000\n",
            "rooms                    0.0473  0.0173   2.7317  0.0067\n",
            "baths                    0.0943  0.0277   3.4003  0.0008\n",
            "\n"
          ]
        }
      ]
    },
    {
      "cell_type": "markdown",
      "source": [
        "## How do we interpret the equation?\n",
        "\n",
        "#### Based on the fitted model, we conclude:\n",
        "\n",
        "####1. House prices increased around 16.2% from 1978 to 1981\n",
        "\n",
        "####2. The specific effect of having an incinerator in the vicinity is a reduction in house prices by 13.15%\n",
        "\n",
        "#### 3. Factors such as age, land, area, rooms and baths are strong and statistically significant predictors of house price"
      ],
      "metadata": {
        "id": "BiV5tyG2sBX8"
      }
    },
    {
      "cell_type": "code",
      "source": [],
      "metadata": {
        "id": "6WCCib8A7opr"
      },
      "execution_count": null,
      "outputs": []
    }
  ]
}