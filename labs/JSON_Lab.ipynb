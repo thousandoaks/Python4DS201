{
  "nbformat": 4,
  "nbformat_minor": 0,
  "metadata": {
    "colab": {
      "provenance": [],
      "authorship_tag": "ABX9TyNxuh2VtO551FWEiwaUC/w/"
    },
    "kernelspec": {
      "name": "python3",
      "display_name": "Python 3"
    },
    "language_info": {
      "name": "python"
    }
  },
  "cells": [
    {
      "cell_type": "markdown",
      "source": [
        "# JSON Lab\n"
      ],
      "metadata": {
        "id": "9Koy8IdCva-p"
      }
    },
    {
      "cell_type": "markdown",
      "source": [
        "### Intro and objectives\n",
        "#### Learn how to process JSON data in data science contexts\n",
        "\n",
        "### In this lab you will learn:\n",
        "1. How to open and process JSON files using Python\n",
        "2. How to open and process JSON files using Python Pandas\n",
        "\n"
      ],
      "metadata": {
        "id": "DiOUGkzJvkIq"
      }
    },
    {
      "cell_type": "code",
      "execution_count": 1,
      "metadata": {
        "id": "31p3EWLtvZq_"
      },
      "outputs": [],
      "source": [
        "import pandas as pd\n",
        "import json"
      ]
    },
    {
      "cell_type": "markdown",
      "source": [
        "# JSON data\n",
        "\n",
        "#### JSON data are collections of key-value pairs. Quite used to exchange data accross internet services"
      ],
      "metadata": {
        "id": "aEHpzweDwqTa"
      }
    },
    {
      "cell_type": "code",
      "source": [
        "json_Object = \"\"\"\n",
        "{\"name\": \"Wes\",\n",
        " \"cities_lived\": [\"Akron\", \"Nashville\", \"New York\", \"San Francisco\"],\n",
        " \"pet\": null,\n",
        " \"siblings\": [{\"name\": \"Scott\", \"age\": 34, \"hobbies\": [\"guitars\", \"soccer\"]},\n",
        "              {\"name\": \"Katie\", \"age\": 42, \"hobbies\": [\"diving\", \"art\"]}]\n",
        "}\n",
        "\"\"\""
      ],
      "metadata": {
        "id": "7d3j9iqkzPV6"
      },
      "execution_count": 2,
      "outputs": []
    },
    {
      "cell_type": "code",
      "source": [
        "json_Object"
      ],
      "metadata": {
        "colab": {
          "base_uri": "https://localhost:8080/",
          "height": 53
        },
        "id": "bPNkqXvOMUKQ",
        "outputId": "c05729ab-073e-4864-a136-be86ea8442af"
      },
      "execution_count": 3,
      "outputs": [
        {
          "output_type": "execute_result",
          "data": {
            "text/plain": [
              "'\\n{\"name\": \"Wes\",\\n \"cities_lived\": [\"Akron\", \"Nashville\", \"New York\", \"San Francisco\"],\\n \"pet\": null,\\n \"siblings\": [{\"name\": \"Scott\", \"age\": 34, \"hobbies\": [\"guitars\", \"soccer\"]},\\n              {\"name\": \"Katie\", \"age\": 42, \"hobbies\": [\"diving\", \"art\"]}]\\n}\\n'"
            ],
            "application/vnd.google.colaboratory.intrinsic+json": {
              "type": "string"
            }
          },
          "metadata": {},
          "execution_count": 3
        }
      ]
    },
    {
      "cell_type": "code",
      "source": [
        "type(json_Object)"
      ],
      "metadata": {
        "colab": {
          "base_uri": "https://localhost:8080/"
        },
        "id": "ky4emhbvLejR",
        "outputId": "d475b2e9-7169-4567-ea6c-3a86c8822bda"
      },
      "execution_count": 4,
      "outputs": [
        {
          "output_type": "execute_result",
          "data": {
            "text/plain": [
              "str"
            ]
          },
          "metadata": {},
          "execution_count": 4
        }
      ]
    },
    {
      "cell_type": "code",
      "source": [
        "another_Json_Object='{\"name\":\"John\", \"age\":30, \"car\":null}'"
      ],
      "metadata": {
        "id": "yiNQOannL9FN"
      },
      "execution_count": 5,
      "outputs": []
    },
    {
      "cell_type": "code",
      "source": [
        "another_Json_Object"
      ],
      "metadata": {
        "colab": {
          "base_uri": "https://localhost:8080/",
          "height": 36
        },
        "id": "7YWpJOFqL9Ci",
        "outputId": "fdf48c78-cd28-40b7-a9f4-837c0a3e1253"
      },
      "execution_count": 6,
      "outputs": [
        {
          "output_type": "execute_result",
          "data": {
            "text/plain": [
              "'{\"name\":\"John\", \"age\":30, \"car\":null}'"
            ],
            "application/vnd.google.colaboratory.intrinsic+json": {
              "type": "string"
            }
          },
          "metadata": {},
          "execution_count": 6
        }
      ]
    },
    {
      "cell_type": "code",
      "source": [
        "type(another_Json_Object)"
      ],
      "metadata": {
        "colab": {
          "base_uri": "https://localhost:8080/"
        },
        "id": "QQInhKLtL9AO",
        "outputId": "ca4ff30c-1ee7-4796-c750-551ecac1a0ed"
      },
      "execution_count": 7,
      "outputs": [
        {
          "output_type": "execute_result",
          "data": {
            "text/plain": [
              "str"
            ]
          },
          "metadata": {},
          "execution_count": 7
        }
      ]
    },
    {
      "cell_type": "code",
      "source": [],
      "metadata": {
        "id": "GZvZ0y6fL89m"
      },
      "execution_count": 7,
      "outputs": []
    },
    {
      "cell_type": "code",
      "source": [],
      "metadata": {
        "id": "jfJV1MqKL87B"
      },
      "execution_count": 7,
      "outputs": []
    },
    {
      "cell_type": "markdown",
      "source": [
        "## 1. Opening JSON data "
      ],
      "metadata": {
        "id": "ebKptN_yL9pH"
      }
    },
    {
      "cell_type": "code",
      "source": [
        "result = json.loads(json_Object)\n"
      ],
      "metadata": {
        "id": "WSZrF8ChK5Rm"
      },
      "execution_count": 8,
      "outputs": []
    },
    {
      "cell_type": "code",
      "source": [
        "result"
      ],
      "metadata": {
        "colab": {
          "base_uri": "https://localhost:8080/"
        },
        "id": "H1_FjFVAK5PP",
        "outputId": "3affecc0-5c43-4b29-cdd4-ef83475c2993"
      },
      "execution_count": 9,
      "outputs": [
        {
          "output_type": "execute_result",
          "data": {
            "text/plain": [
              "{'name': 'Wes',\n",
              " 'cities_lived': ['Akron', 'Nashville', 'New York', 'San Francisco'],\n",
              " 'pet': None,\n",
              " 'siblings': [{'name': 'Scott', 'age': 34, 'hobbies': ['guitars', 'soccer']},\n",
              "  {'name': 'Katie', 'age': 42, 'hobbies': ['diving', 'art']}]}"
            ]
          },
          "metadata": {},
          "execution_count": 9
        }
      ]
    },
    {
      "cell_type": "code",
      "source": [
        "type(result)"
      ],
      "metadata": {
        "colab": {
          "base_uri": "https://localhost:8080/"
        },
        "id": "71LDcvmmK5M5",
        "outputId": "b06735e6-0d32-4057-c1ca-ac79e6e8a404"
      },
      "execution_count": 10,
      "outputs": [
        {
          "output_type": "execute_result",
          "data": {
            "text/plain": [
              "dict"
            ]
          },
          "metadata": {},
          "execution_count": 10
        }
      ]
    },
    {
      "cell_type": "markdown",
      "source": [
        "### We can retrieve JSON files from the internet and have them processed using the json library"
      ],
      "metadata": {
        "id": "L1rPRA9rNsDd"
      }
    },
    {
      "cell_type": "code",
      "source": [],
      "metadata": {
        "id": "Yrr6kwjdLxhk"
      },
      "execution_count": 10,
      "outputs": []
    },
    {
      "cell_type": "code",
      "source": [
        "import urllib.request, json \n",
        "with urllib.request.urlopen(\"https://raw.githubusercontent.com/thousandoaks/Python4DS201/main/data/iris.json\") as url:\n",
        "    iris_DataSet = json.load(url)\n"
      ],
      "metadata": {
        "id": "TLUUdre4LxfF"
      },
      "execution_count": 11,
      "outputs": []
    },
    {
      "cell_type": "code",
      "source": [
        "type(iris_DataSet)"
      ],
      "metadata": {
        "colab": {
          "base_uri": "https://localhost:8080/"
        },
        "id": "BnACGgBzLxcX",
        "outputId": "4c6d9de2-f790-4937-8808-41e5ec96a965"
      },
      "execution_count": 12,
      "outputs": [
        {
          "output_type": "execute_result",
          "data": {
            "text/plain": [
              "list"
            ]
          },
          "metadata": {},
          "execution_count": 12
        }
      ]
    },
    {
      "cell_type": "code",
      "source": [
        "iris_DataSet[0:3]"
      ],
      "metadata": {
        "colab": {
          "base_uri": "https://localhost:8080/"
        },
        "id": "gkTO8JjgLxZz",
        "outputId": "5c502721-0d08-4b58-dbbe-ece70b73d7a1"
      },
      "execution_count": 13,
      "outputs": [
        {
          "output_type": "execute_result",
          "data": {
            "text/plain": [
              "[{'sepalLength': 5.1,\n",
              "  'sepalWidth': 3.5,\n",
              "  'petalLength': 1.4,\n",
              "  'petalWidth': 0.2,\n",
              "  'species': 'setosa'},\n",
              " {'sepalLength': 4.9,\n",
              "  'sepalWidth': 3.0,\n",
              "  'petalLength': 1.4,\n",
              "  'petalWidth': 0.2,\n",
              "  'species': 'setosa'},\n",
              " {'sepalLength': 4.7,\n",
              "  'sepalWidth': 3.2,\n",
              "  'petalLength': 1.3,\n",
              "  'petalWidth': 0.2,\n",
              "  'species': 'setosa'}]"
            ]
          },
          "metadata": {},
          "execution_count": 13
        }
      ]
    },
    {
      "cell_type": "code",
      "source": [
        "type(iris_DataSet[0])"
      ],
      "metadata": {
        "colab": {
          "base_uri": "https://localhost:8080/"
        },
        "id": "3kGWhQpiOZ9N",
        "outputId": "bfa8726a-4d04-496a-edcd-fab3c2636615"
      },
      "execution_count": 14,
      "outputs": [
        {
          "output_type": "execute_result",
          "data": {
            "text/plain": [
              "dict"
            ]
          },
          "metadata": {},
          "execution_count": 14
        }
      ]
    },
    {
      "cell_type": "markdown",
      "source": [
        "### Even better we can use Pandas to open JSON data"
      ],
      "metadata": {
        "id": "uAItMAO1Oedg"
      }
    },
    {
      "cell_type": "code",
      "source": [
        "pd.read_json(\"https://raw.githubusercontent.com/thousandoaks/Python4DS201/main/data/iris.json\")"
      ],
      "metadata": {
        "colab": {
          "base_uri": "https://localhost:8080/",
          "height": 423
        },
        "id": "Vz2KypFSOkRc",
        "outputId": "7c906290-7f99-4275-a4cc-72af6f44a0d7"
      },
      "execution_count": 15,
      "outputs": [
        {
          "output_type": "execute_result",
          "data": {
            "text/plain": [
              "     sepalLength  sepalWidth  petalLength  petalWidth    species\n",
              "0            5.1         3.5          1.4         0.2     setosa\n",
              "1            4.9         3.0          1.4         0.2     setosa\n",
              "2            4.7         3.2          1.3         0.2     setosa\n",
              "3            4.6         3.1          1.5         0.2     setosa\n",
              "4            5.0         3.6          1.4         0.2     setosa\n",
              "..           ...         ...          ...         ...        ...\n",
              "145          6.7         3.0          5.2         2.3  virginica\n",
              "146          6.3         2.5          5.0         1.9  virginica\n",
              "147          6.5         3.0          5.2         2.0  virginica\n",
              "148          6.2         3.4          5.4         2.3  virginica\n",
              "149          5.9         3.0          5.1         1.8  virginica\n",
              "\n",
              "[150 rows x 5 columns]"
            ],
            "text/html": [
              "\n",
              "  <div id=\"df-0399cfd2-346e-4b3f-b83f-4784e126a198\">\n",
              "    <div class=\"colab-df-container\">\n",
              "      <div>\n",
              "<style scoped>\n",
              "    .dataframe tbody tr th:only-of-type {\n",
              "        vertical-align: middle;\n",
              "    }\n",
              "\n",
              "    .dataframe tbody tr th {\n",
              "        vertical-align: top;\n",
              "    }\n",
              "\n",
              "    .dataframe thead th {\n",
              "        text-align: right;\n",
              "    }\n",
              "</style>\n",
              "<table border=\"1\" class=\"dataframe\">\n",
              "  <thead>\n",
              "    <tr style=\"text-align: right;\">\n",
              "      <th></th>\n",
              "      <th>sepalLength</th>\n",
              "      <th>sepalWidth</th>\n",
              "      <th>petalLength</th>\n",
              "      <th>petalWidth</th>\n",
              "      <th>species</th>\n",
              "    </tr>\n",
              "  </thead>\n",
              "  <tbody>\n",
              "    <tr>\n",
              "      <th>0</th>\n",
              "      <td>5.1</td>\n",
              "      <td>3.5</td>\n",
              "      <td>1.4</td>\n",
              "      <td>0.2</td>\n",
              "      <td>setosa</td>\n",
              "    </tr>\n",
              "    <tr>\n",
              "      <th>1</th>\n",
              "      <td>4.9</td>\n",
              "      <td>3.0</td>\n",
              "      <td>1.4</td>\n",
              "      <td>0.2</td>\n",
              "      <td>setosa</td>\n",
              "    </tr>\n",
              "    <tr>\n",
              "      <th>2</th>\n",
              "      <td>4.7</td>\n",
              "      <td>3.2</td>\n",
              "      <td>1.3</td>\n",
              "      <td>0.2</td>\n",
              "      <td>setosa</td>\n",
              "    </tr>\n",
              "    <tr>\n",
              "      <th>3</th>\n",
              "      <td>4.6</td>\n",
              "      <td>3.1</td>\n",
              "      <td>1.5</td>\n",
              "      <td>0.2</td>\n",
              "      <td>setosa</td>\n",
              "    </tr>\n",
              "    <tr>\n",
              "      <th>4</th>\n",
              "      <td>5.0</td>\n",
              "      <td>3.6</td>\n",
              "      <td>1.4</td>\n",
              "      <td>0.2</td>\n",
              "      <td>setosa</td>\n",
              "    </tr>\n",
              "    <tr>\n",
              "      <th>...</th>\n",
              "      <td>...</td>\n",
              "      <td>...</td>\n",
              "      <td>...</td>\n",
              "      <td>...</td>\n",
              "      <td>...</td>\n",
              "    </tr>\n",
              "    <tr>\n",
              "      <th>145</th>\n",
              "      <td>6.7</td>\n",
              "      <td>3.0</td>\n",
              "      <td>5.2</td>\n",
              "      <td>2.3</td>\n",
              "      <td>virginica</td>\n",
              "    </tr>\n",
              "    <tr>\n",
              "      <th>146</th>\n",
              "      <td>6.3</td>\n",
              "      <td>2.5</td>\n",
              "      <td>5.0</td>\n",
              "      <td>1.9</td>\n",
              "      <td>virginica</td>\n",
              "    </tr>\n",
              "    <tr>\n",
              "      <th>147</th>\n",
              "      <td>6.5</td>\n",
              "      <td>3.0</td>\n",
              "      <td>5.2</td>\n",
              "      <td>2.0</td>\n",
              "      <td>virginica</td>\n",
              "    </tr>\n",
              "    <tr>\n",
              "      <th>148</th>\n",
              "      <td>6.2</td>\n",
              "      <td>3.4</td>\n",
              "      <td>5.4</td>\n",
              "      <td>2.3</td>\n",
              "      <td>virginica</td>\n",
              "    </tr>\n",
              "    <tr>\n",
              "      <th>149</th>\n",
              "      <td>5.9</td>\n",
              "      <td>3.0</td>\n",
              "      <td>5.1</td>\n",
              "      <td>1.8</td>\n",
              "      <td>virginica</td>\n",
              "    </tr>\n",
              "  </tbody>\n",
              "</table>\n",
              "<p>150 rows × 5 columns</p>\n",
              "</div>\n",
              "      <button class=\"colab-df-convert\" onclick=\"convertToInteractive('df-0399cfd2-346e-4b3f-b83f-4784e126a198')\"\n",
              "              title=\"Convert this dataframe to an interactive table.\"\n",
              "              style=\"display:none;\">\n",
              "        \n",
              "  <svg xmlns=\"http://www.w3.org/2000/svg\" height=\"24px\"viewBox=\"0 0 24 24\"\n",
              "       width=\"24px\">\n",
              "    <path d=\"M0 0h24v24H0V0z\" fill=\"none\"/>\n",
              "    <path d=\"M18.56 5.44l.94 2.06.94-2.06 2.06-.94-2.06-.94-.94-2.06-.94 2.06-2.06.94zm-11 1L8.5 8.5l.94-2.06 2.06-.94-2.06-.94L8.5 2.5l-.94 2.06-2.06.94zm10 10l.94 2.06.94-2.06 2.06-.94-2.06-.94-.94-2.06-.94 2.06-2.06.94z\"/><path d=\"M17.41 7.96l-1.37-1.37c-.4-.4-.92-.59-1.43-.59-.52 0-1.04.2-1.43.59L10.3 9.45l-7.72 7.72c-.78.78-.78 2.05 0 2.83L4 21.41c.39.39.9.59 1.41.59.51 0 1.02-.2 1.41-.59l7.78-7.78 2.81-2.81c.8-.78.8-2.07 0-2.86zM5.41 20L4 18.59l7.72-7.72 1.47 1.35L5.41 20z\"/>\n",
              "  </svg>\n",
              "      </button>\n",
              "      \n",
              "  <style>\n",
              "    .colab-df-container {\n",
              "      display:flex;\n",
              "      flex-wrap:wrap;\n",
              "      gap: 12px;\n",
              "    }\n",
              "\n",
              "    .colab-df-convert {\n",
              "      background-color: #E8F0FE;\n",
              "      border: none;\n",
              "      border-radius: 50%;\n",
              "      cursor: pointer;\n",
              "      display: none;\n",
              "      fill: #1967D2;\n",
              "      height: 32px;\n",
              "      padding: 0 0 0 0;\n",
              "      width: 32px;\n",
              "    }\n",
              "\n",
              "    .colab-df-convert:hover {\n",
              "      background-color: #E2EBFA;\n",
              "      box-shadow: 0px 1px 2px rgba(60, 64, 67, 0.3), 0px 1px 3px 1px rgba(60, 64, 67, 0.15);\n",
              "      fill: #174EA6;\n",
              "    }\n",
              "\n",
              "    [theme=dark] .colab-df-convert {\n",
              "      background-color: #3B4455;\n",
              "      fill: #D2E3FC;\n",
              "    }\n",
              "\n",
              "    [theme=dark] .colab-df-convert:hover {\n",
              "      background-color: #434B5C;\n",
              "      box-shadow: 0px 1px 3px 1px rgba(0, 0, 0, 0.15);\n",
              "      filter: drop-shadow(0px 1px 2px rgba(0, 0, 0, 0.3));\n",
              "      fill: #FFFFFF;\n",
              "    }\n",
              "  </style>\n",
              "\n",
              "      <script>\n",
              "        const buttonEl =\n",
              "          document.querySelector('#df-0399cfd2-346e-4b3f-b83f-4784e126a198 button.colab-df-convert');\n",
              "        buttonEl.style.display =\n",
              "          google.colab.kernel.accessAllowed ? 'block' : 'none';\n",
              "\n",
              "        async function convertToInteractive(key) {\n",
              "          const element = document.querySelector('#df-0399cfd2-346e-4b3f-b83f-4784e126a198');\n",
              "          const dataTable =\n",
              "            await google.colab.kernel.invokeFunction('convertToInteractive',\n",
              "                                                     [key], {});\n",
              "          if (!dataTable) return;\n",
              "\n",
              "          const docLinkHtml = 'Like what you see? Visit the ' +\n",
              "            '<a target=\"_blank\" href=https://colab.research.google.com/notebooks/data_table.ipynb>data table notebook</a>'\n",
              "            + ' to learn more about interactive tables.';\n",
              "          element.innerHTML = '';\n",
              "          dataTable['output_type'] = 'display_data';\n",
              "          await google.colab.output.renderOutput(dataTable, element);\n",
              "          const docLink = document.createElement('div');\n",
              "          docLink.innerHTML = docLinkHtml;\n",
              "          element.appendChild(docLink);\n",
              "        }\n",
              "      </script>\n",
              "    </div>\n",
              "  </div>\n",
              "  "
            ]
          },
          "metadata": {},
          "execution_count": 15
        }
      ]
    },
    {
      "cell_type": "code",
      "source": [],
      "metadata": {
        "id": "zL7RZkVLRITD"
      },
      "execution_count": 15,
      "outputs": []
    },
    {
      "cell_type": "markdown",
      "source": [
        "## 2. Processing JSON data (simple structure)\n",
        "\n",
        "#### In the case of simple,flat, JSON datasets it is advisable to cast JSON data into a Pandas DataFrame and have it processed using Pandas capabilities."
      ],
      "metadata": {
        "id": "yFFKAHWZRve9"
      }
    },
    {
      "cell_type": "code",
      "source": [
        "iris_DataFrame=pd.read_json(\"https://raw.githubusercontent.com/thousandoaks/Python4DS201/main/data/iris.json\")"
      ],
      "metadata": {
        "id": "AIpUh7-GRxzc"
      },
      "execution_count": 16,
      "outputs": []
    },
    {
      "cell_type": "code",
      "source": [
        "iris_DataFrame.sample(3)"
      ],
      "metadata": {
        "colab": {
          "base_uri": "https://localhost:8080/",
          "height": 143
        },
        "id": "ebioqXbDS4MB",
        "outputId": "7dcb9938-4a6b-44dd-e670-047aaed813c9"
      },
      "execution_count": 17,
      "outputs": [
        {
          "output_type": "execute_result",
          "data": {
            "text/plain": [
              "     sepalLength  sepalWidth  petalLength  petalWidth    species\n",
              "143          6.8         3.2          5.9         2.3  virginica\n",
              "120          6.9         3.2          5.7         2.3  virginica\n",
              "108          6.7         2.5          5.8         1.8  virginica"
            ],
            "text/html": [
              "\n",
              "  <div id=\"df-77d01a4d-665d-433b-8978-8268051729b2\">\n",
              "    <div class=\"colab-df-container\">\n",
              "      <div>\n",
              "<style scoped>\n",
              "    .dataframe tbody tr th:only-of-type {\n",
              "        vertical-align: middle;\n",
              "    }\n",
              "\n",
              "    .dataframe tbody tr th {\n",
              "        vertical-align: top;\n",
              "    }\n",
              "\n",
              "    .dataframe thead th {\n",
              "        text-align: right;\n",
              "    }\n",
              "</style>\n",
              "<table border=\"1\" class=\"dataframe\">\n",
              "  <thead>\n",
              "    <tr style=\"text-align: right;\">\n",
              "      <th></th>\n",
              "      <th>sepalLength</th>\n",
              "      <th>sepalWidth</th>\n",
              "      <th>petalLength</th>\n",
              "      <th>petalWidth</th>\n",
              "      <th>species</th>\n",
              "    </tr>\n",
              "  </thead>\n",
              "  <tbody>\n",
              "    <tr>\n",
              "      <th>143</th>\n",
              "      <td>6.8</td>\n",
              "      <td>3.2</td>\n",
              "      <td>5.9</td>\n",
              "      <td>2.3</td>\n",
              "      <td>virginica</td>\n",
              "    </tr>\n",
              "    <tr>\n",
              "      <th>120</th>\n",
              "      <td>6.9</td>\n",
              "      <td>3.2</td>\n",
              "      <td>5.7</td>\n",
              "      <td>2.3</td>\n",
              "      <td>virginica</td>\n",
              "    </tr>\n",
              "    <tr>\n",
              "      <th>108</th>\n",
              "      <td>6.7</td>\n",
              "      <td>2.5</td>\n",
              "      <td>5.8</td>\n",
              "      <td>1.8</td>\n",
              "      <td>virginica</td>\n",
              "    </tr>\n",
              "  </tbody>\n",
              "</table>\n",
              "</div>\n",
              "      <button class=\"colab-df-convert\" onclick=\"convertToInteractive('df-77d01a4d-665d-433b-8978-8268051729b2')\"\n",
              "              title=\"Convert this dataframe to an interactive table.\"\n",
              "              style=\"display:none;\">\n",
              "        \n",
              "  <svg xmlns=\"http://www.w3.org/2000/svg\" height=\"24px\"viewBox=\"0 0 24 24\"\n",
              "       width=\"24px\">\n",
              "    <path d=\"M0 0h24v24H0V0z\" fill=\"none\"/>\n",
              "    <path d=\"M18.56 5.44l.94 2.06.94-2.06 2.06-.94-2.06-.94-.94-2.06-.94 2.06-2.06.94zm-11 1L8.5 8.5l.94-2.06 2.06-.94-2.06-.94L8.5 2.5l-.94 2.06-2.06.94zm10 10l.94 2.06.94-2.06 2.06-.94-2.06-.94-.94-2.06-.94 2.06-2.06.94z\"/><path d=\"M17.41 7.96l-1.37-1.37c-.4-.4-.92-.59-1.43-.59-.52 0-1.04.2-1.43.59L10.3 9.45l-7.72 7.72c-.78.78-.78 2.05 0 2.83L4 21.41c.39.39.9.59 1.41.59.51 0 1.02-.2 1.41-.59l7.78-7.78 2.81-2.81c.8-.78.8-2.07 0-2.86zM5.41 20L4 18.59l7.72-7.72 1.47 1.35L5.41 20z\"/>\n",
              "  </svg>\n",
              "      </button>\n",
              "      \n",
              "  <style>\n",
              "    .colab-df-container {\n",
              "      display:flex;\n",
              "      flex-wrap:wrap;\n",
              "      gap: 12px;\n",
              "    }\n",
              "\n",
              "    .colab-df-convert {\n",
              "      background-color: #E8F0FE;\n",
              "      border: none;\n",
              "      border-radius: 50%;\n",
              "      cursor: pointer;\n",
              "      display: none;\n",
              "      fill: #1967D2;\n",
              "      height: 32px;\n",
              "      padding: 0 0 0 0;\n",
              "      width: 32px;\n",
              "    }\n",
              "\n",
              "    .colab-df-convert:hover {\n",
              "      background-color: #E2EBFA;\n",
              "      box-shadow: 0px 1px 2px rgba(60, 64, 67, 0.3), 0px 1px 3px 1px rgba(60, 64, 67, 0.15);\n",
              "      fill: #174EA6;\n",
              "    }\n",
              "\n",
              "    [theme=dark] .colab-df-convert {\n",
              "      background-color: #3B4455;\n",
              "      fill: #D2E3FC;\n",
              "    }\n",
              "\n",
              "    [theme=dark] .colab-df-convert:hover {\n",
              "      background-color: #434B5C;\n",
              "      box-shadow: 0px 1px 3px 1px rgba(0, 0, 0, 0.15);\n",
              "      filter: drop-shadow(0px 1px 2px rgba(0, 0, 0, 0.3));\n",
              "      fill: #FFFFFF;\n",
              "    }\n",
              "  </style>\n",
              "\n",
              "      <script>\n",
              "        const buttonEl =\n",
              "          document.querySelector('#df-77d01a4d-665d-433b-8978-8268051729b2 button.colab-df-convert');\n",
              "        buttonEl.style.display =\n",
              "          google.colab.kernel.accessAllowed ? 'block' : 'none';\n",
              "\n",
              "        async function convertToInteractive(key) {\n",
              "          const element = document.querySelector('#df-77d01a4d-665d-433b-8978-8268051729b2');\n",
              "          const dataTable =\n",
              "            await google.colab.kernel.invokeFunction('convertToInteractive',\n",
              "                                                     [key], {});\n",
              "          if (!dataTable) return;\n",
              "\n",
              "          const docLinkHtml = 'Like what you see? Visit the ' +\n",
              "            '<a target=\"_blank\" href=https://colab.research.google.com/notebooks/data_table.ipynb>data table notebook</a>'\n",
              "            + ' to learn more about interactive tables.';\n",
              "          element.innerHTML = '';\n",
              "          dataTable['output_type'] = 'display_data';\n",
              "          await google.colab.output.renderOutput(dataTable, element);\n",
              "          const docLink = document.createElement('div');\n",
              "          docLink.innerHTML = docLinkHtml;\n",
              "          element.appendChild(docLink);\n",
              "        }\n",
              "      </script>\n",
              "    </div>\n",
              "  </div>\n",
              "  "
            ]
          },
          "metadata": {},
          "execution_count": 17
        }
      ]
    },
    {
      "cell_type": "code",
      "source": [
        "iris_DataFrame['sepalLength']+iris_DataFrame['sepalWidth']"
      ],
      "metadata": {
        "colab": {
          "base_uri": "https://localhost:8080/"
        },
        "id": "qOMp2k6US6cJ",
        "outputId": "91132f8a-52e9-4c46-b1b4-86bd0a6915e5"
      },
      "execution_count": 18,
      "outputs": [
        {
          "output_type": "execute_result",
          "data": {
            "text/plain": [
              "0      8.6\n",
              "1      7.9\n",
              "2      7.9\n",
              "3      7.7\n",
              "4      8.6\n",
              "      ... \n",
              "145    9.7\n",
              "146    8.8\n",
              "147    9.5\n",
              "148    9.6\n",
              "149    8.9\n",
              "Length: 150, dtype: float64"
            ]
          },
          "metadata": {},
          "execution_count": 18
        }
      ]
    },
    {
      "cell_type": "markdown",
      "source": [
        "## 2. Processing Nested JSON data \n",
        "#### Oftentimes JSON data is nested. In this case it is advisable to spend some time exploring how the data is structured\n",
        "#### Use pandas.json_normalize() to select and process the data you need for your analysis"
      ],
      "metadata": {
        "id": "zc-ri34gYKDf"
      }
    },
    {
      "cell_type": "code",
      "source": [
        "usFoodDataFrame=pd.read_json('https://raw.githubusercontent.com/wesm/pydata-book/3rd-edition/datasets/usda_food/database.json')\n",
        "\n",
        "\n"
      ],
      "metadata": {
        "id": "LnTCFXzZUL8O"
      },
      "execution_count": 19,
      "outputs": []
    },
    {
      "cell_type": "code",
      "source": [
        "usFoodDataFrame.sample(3)"
      ],
      "metadata": {
        "colab": {
          "base_uri": "https://localhost:8080/",
          "height": 143
        },
        "id": "7TVM69TIXFvf",
        "outputId": "5fb18960-513f-48af-a3e7-3137539deac8"
      },
      "execution_count": 20,
      "outputs": [
        {
          "output_type": "execute_result",
          "data": {
            "text/plain": [
              "         id                                     description tags  \\\n",
              "4116  21081     Fast foods, nachos, with cinnamon and sugar   []   \n",
              "777    7933  Chicken breast, oven-roasted, fat-free, sliced   []   \n",
              "2926  16570        GARDENBURGER, Black Bean Chipotle Burger   []   \n",
              "\n",
              "      manufacturer                        group  \\\n",
              "4116                                 Fast Foods   \n",
              "777                 Sausages and Luncheon Meats   \n",
              "2926  Kellogg, Co.  Legumes and Legume Products   \n",
              "\n",
              "                                               portions  \\\n",
              "4116  [{'amount': 1, 'unit': 'portion (6-8 nachos)',...   \n",
              "777   [{'amount': 1, 'unit': 'serving 2 slices', 'gr...   \n",
              "2926    [{'amount': 1, 'unit': 'patty', 'grams': 71.0}]   \n",
              "\n",
              "                                              nutrients  \n",
              "4116  [{'value': 6.6, 'units': 'g', 'description': '...  \n",
              "777   [{'value': 16.79, 'units': 'g', 'description':...  \n",
              "2926  [{'value': 6.6, 'units': 'g', 'description': '...  "
            ],
            "text/html": [
              "\n",
              "  <div id=\"df-c2c6a00d-40e8-42dc-8cf5-32cbb087481c\">\n",
              "    <div class=\"colab-df-container\">\n",
              "      <div>\n",
              "<style scoped>\n",
              "    .dataframe tbody tr th:only-of-type {\n",
              "        vertical-align: middle;\n",
              "    }\n",
              "\n",
              "    .dataframe tbody tr th {\n",
              "        vertical-align: top;\n",
              "    }\n",
              "\n",
              "    .dataframe thead th {\n",
              "        text-align: right;\n",
              "    }\n",
              "</style>\n",
              "<table border=\"1\" class=\"dataframe\">\n",
              "  <thead>\n",
              "    <tr style=\"text-align: right;\">\n",
              "      <th></th>\n",
              "      <th>id</th>\n",
              "      <th>description</th>\n",
              "      <th>tags</th>\n",
              "      <th>manufacturer</th>\n",
              "      <th>group</th>\n",
              "      <th>portions</th>\n",
              "      <th>nutrients</th>\n",
              "    </tr>\n",
              "  </thead>\n",
              "  <tbody>\n",
              "    <tr>\n",
              "      <th>4116</th>\n",
              "      <td>21081</td>\n",
              "      <td>Fast foods, nachos, with cinnamon and sugar</td>\n",
              "      <td>[]</td>\n",
              "      <td></td>\n",
              "      <td>Fast Foods</td>\n",
              "      <td>[{'amount': 1, 'unit': 'portion (6-8 nachos)',...</td>\n",
              "      <td>[{'value': 6.6, 'units': 'g', 'description': '...</td>\n",
              "    </tr>\n",
              "    <tr>\n",
              "      <th>777</th>\n",
              "      <td>7933</td>\n",
              "      <td>Chicken breast, oven-roasted, fat-free, sliced</td>\n",
              "      <td>[]</td>\n",
              "      <td></td>\n",
              "      <td>Sausages and Luncheon Meats</td>\n",
              "      <td>[{'amount': 1, 'unit': 'serving 2 slices', 'gr...</td>\n",
              "      <td>[{'value': 16.79, 'units': 'g', 'description':...</td>\n",
              "    </tr>\n",
              "    <tr>\n",
              "      <th>2926</th>\n",
              "      <td>16570</td>\n",
              "      <td>GARDENBURGER, Black Bean Chipotle Burger</td>\n",
              "      <td>[]</td>\n",
              "      <td>Kellogg, Co.</td>\n",
              "      <td>Legumes and Legume Products</td>\n",
              "      <td>[{'amount': 1, 'unit': 'patty', 'grams': 71.0}]</td>\n",
              "      <td>[{'value': 6.6, 'units': 'g', 'description': '...</td>\n",
              "    </tr>\n",
              "  </tbody>\n",
              "</table>\n",
              "</div>\n",
              "      <button class=\"colab-df-convert\" onclick=\"convertToInteractive('df-c2c6a00d-40e8-42dc-8cf5-32cbb087481c')\"\n",
              "              title=\"Convert this dataframe to an interactive table.\"\n",
              "              style=\"display:none;\">\n",
              "        \n",
              "  <svg xmlns=\"http://www.w3.org/2000/svg\" height=\"24px\"viewBox=\"0 0 24 24\"\n",
              "       width=\"24px\">\n",
              "    <path d=\"M0 0h24v24H0V0z\" fill=\"none\"/>\n",
              "    <path d=\"M18.56 5.44l.94 2.06.94-2.06 2.06-.94-2.06-.94-.94-2.06-.94 2.06-2.06.94zm-11 1L8.5 8.5l.94-2.06 2.06-.94-2.06-.94L8.5 2.5l-.94 2.06-2.06.94zm10 10l.94 2.06.94-2.06 2.06-.94-2.06-.94-.94-2.06-.94 2.06-2.06.94z\"/><path d=\"M17.41 7.96l-1.37-1.37c-.4-.4-.92-.59-1.43-.59-.52 0-1.04.2-1.43.59L10.3 9.45l-7.72 7.72c-.78.78-.78 2.05 0 2.83L4 21.41c.39.39.9.59 1.41.59.51 0 1.02-.2 1.41-.59l7.78-7.78 2.81-2.81c.8-.78.8-2.07 0-2.86zM5.41 20L4 18.59l7.72-7.72 1.47 1.35L5.41 20z\"/>\n",
              "  </svg>\n",
              "      </button>\n",
              "      \n",
              "  <style>\n",
              "    .colab-df-container {\n",
              "      display:flex;\n",
              "      flex-wrap:wrap;\n",
              "      gap: 12px;\n",
              "    }\n",
              "\n",
              "    .colab-df-convert {\n",
              "      background-color: #E8F0FE;\n",
              "      border: none;\n",
              "      border-radius: 50%;\n",
              "      cursor: pointer;\n",
              "      display: none;\n",
              "      fill: #1967D2;\n",
              "      height: 32px;\n",
              "      padding: 0 0 0 0;\n",
              "      width: 32px;\n",
              "    }\n",
              "\n",
              "    .colab-df-convert:hover {\n",
              "      background-color: #E2EBFA;\n",
              "      box-shadow: 0px 1px 2px rgba(60, 64, 67, 0.3), 0px 1px 3px 1px rgba(60, 64, 67, 0.15);\n",
              "      fill: #174EA6;\n",
              "    }\n",
              "\n",
              "    [theme=dark] .colab-df-convert {\n",
              "      background-color: #3B4455;\n",
              "      fill: #D2E3FC;\n",
              "    }\n",
              "\n",
              "    [theme=dark] .colab-df-convert:hover {\n",
              "      background-color: #434B5C;\n",
              "      box-shadow: 0px 1px 3px 1px rgba(0, 0, 0, 0.15);\n",
              "      filter: drop-shadow(0px 1px 2px rgba(0, 0, 0, 0.3));\n",
              "      fill: #FFFFFF;\n",
              "    }\n",
              "  </style>\n",
              "\n",
              "      <script>\n",
              "        const buttonEl =\n",
              "          document.querySelector('#df-c2c6a00d-40e8-42dc-8cf5-32cbb087481c button.colab-df-convert');\n",
              "        buttonEl.style.display =\n",
              "          google.colab.kernel.accessAllowed ? 'block' : 'none';\n",
              "\n",
              "        async function convertToInteractive(key) {\n",
              "          const element = document.querySelector('#df-c2c6a00d-40e8-42dc-8cf5-32cbb087481c');\n",
              "          const dataTable =\n",
              "            await google.colab.kernel.invokeFunction('convertToInteractive',\n",
              "                                                     [key], {});\n",
              "          if (!dataTable) return;\n",
              "\n",
              "          const docLinkHtml = 'Like what you see? Visit the ' +\n",
              "            '<a target=\"_blank\" href=https://colab.research.google.com/notebooks/data_table.ipynb>data table notebook</a>'\n",
              "            + ' to learn more about interactive tables.';\n",
              "          element.innerHTML = '';\n",
              "          dataTable['output_type'] = 'display_data';\n",
              "          await google.colab.output.renderOutput(dataTable, element);\n",
              "          const docLink = document.createElement('div');\n",
              "          docLink.innerHTML = docLinkHtml;\n",
              "          element.appendChild(docLink);\n",
              "        }\n",
              "      </script>\n",
              "    </div>\n",
              "  </div>\n",
              "  "
            ]
          },
          "metadata": {},
          "execution_count": 20
        }
      ]
    },
    {
      "cell_type": "code",
      "source": [
        "## Let's expand the column display\n",
        "\n",
        "pd.options.display.max_colwidth = 500"
      ],
      "metadata": {
        "id": "Dmp1NX7bcCiy"
      },
      "execution_count": 21,
      "outputs": []
    },
    {
      "cell_type": "code",
      "source": [
        "usFoodDataFrame.sample(3)"
      ],
      "metadata": {
        "colab": {
          "base_uri": "https://localhost:8080/",
          "height": 344
        },
        "id": "wljQRn8kcMNi",
        "outputId": "eabc7eb6-78ca-4d21-9ac9-ccd8bb2507cd"
      },
      "execution_count": 22,
      "outputs": [
        {
          "output_type": "execute_result",
          "data": {
            "text/plain": [
              "         id                                        description  \\\n",
              "2872  16427  Tofu, raw, regular, prepared with calcium sulfate   \n",
              "1265   9087                                 Dates, deglet noor   \n",
              "990    8259   Cereals ready-to-eat, KELLOGG, KELLOGG'S CRISPIX   \n",
              "\n",
              "                                tags  manufacturer  \\\n",
              "2872                              []                 \n",
              "1265                              []                 \n",
              "990   [Includes USDA Commodity B855]  Kellogg, Co.   \n",
              "\n",
              "                            group  \\\n",
              "2872  Legumes and Legume Products   \n",
              "1265      Fruits and Fruit Juices   \n",
              "990             Breakfast Cereals   \n",
              "\n",
              "                                                                                                                             portions  \\\n",
              "2872                                   [{'amount': 1, 'unit': 'cup', 'grams': 124.0}, {'amount': 2, 'unit': 'block', 'grams': 116.0}]   \n",
              "1265                     [{'amount': 1, 'unit': 'cup, chopped', 'grams': 147.0}, {'amount': 2, 'unit': 'date, pitted', 'grams': 7.1}]   \n",
              "990   [{'amount': 1, 'unit': 'cup (1 NLEA serving)', 'grams': 29.0}, {'amount': 2, 'unit': 'cup (laboratory weight)', 'grams': 30.0}]   \n",
              "\n",
              "                                                                                                                                                                                                                                                                                                                                                                                                                                                                                                                nutrients  \n",
              "2872  [{'value': 8.08, 'units': 'g', 'description': 'Protein', 'group': 'Composition'}, {'value': 4.78, 'units': 'g', 'description': 'Total lipid (fat)', 'group': 'Composition'}, {'value': 1.88, 'units': 'g', 'description': 'Carbohydrate, by difference', 'group': 'Composition'}, {'value': 0.72, 'units': 'g', 'description': 'Ash', 'group': 'Other'}, {'value': 76.0, 'units': 'kcal', 'description': 'Energy', 'group': 'Energy'}, {'value': 84.55, 'units': 'g', 'description': 'Water', 'group': 'Composit...  \n",
              "1265  [{'value': 2.45, 'units': 'g', 'description': 'Protein', 'group': 'Composition'}, {'value': 0.39, 'units': 'g', 'description': 'Total lipid (fat)', 'group': 'Composition'}, {'value': 75.03, 'units': 'g', 'description': 'Carbohydrate, by difference', 'group': 'Composition'}, {'value': 1.6, 'units': 'g', 'description': 'Ash', 'group': 'Other'}, {'value': 282.0, 'units': 'kcal', 'description': 'Energy', 'group': 'Energy'}, {'value': 23.84, 'units': 'g', 'description': 'Sucrose', 'group': 'Sugar...  \n",
              "990   [{'value': 6.7, 'units': 'g', 'description': 'Protein', 'group': 'Composition'}, {'value': 1.0, 'units': 'g', 'description': 'Total lipid (fat)', 'group': 'Composition'}, {'value': 85.7, 'units': 'g', 'description': 'Carbohydrate, by difference', 'group': 'Composition'}, {'value': 3.5, 'units': 'g', 'description': 'Ash', 'group': 'Other'}, {'value': 377.0, 'units': 'kcal', 'description': 'Energy', 'group': 'Energy'}, {'value': 0.0, 'units': 'g', 'description': 'Alcohol, ethyl', 'group': 'Oth...  "
            ],
            "text/html": [
              "\n",
              "  <div id=\"df-72b18452-99e5-4895-aa2a-836946242223\">\n",
              "    <div class=\"colab-df-container\">\n",
              "      <div>\n",
              "<style scoped>\n",
              "    .dataframe tbody tr th:only-of-type {\n",
              "        vertical-align: middle;\n",
              "    }\n",
              "\n",
              "    .dataframe tbody tr th {\n",
              "        vertical-align: top;\n",
              "    }\n",
              "\n",
              "    .dataframe thead th {\n",
              "        text-align: right;\n",
              "    }\n",
              "</style>\n",
              "<table border=\"1\" class=\"dataframe\">\n",
              "  <thead>\n",
              "    <tr style=\"text-align: right;\">\n",
              "      <th></th>\n",
              "      <th>id</th>\n",
              "      <th>description</th>\n",
              "      <th>tags</th>\n",
              "      <th>manufacturer</th>\n",
              "      <th>group</th>\n",
              "      <th>portions</th>\n",
              "      <th>nutrients</th>\n",
              "    </tr>\n",
              "  </thead>\n",
              "  <tbody>\n",
              "    <tr>\n",
              "      <th>2872</th>\n",
              "      <td>16427</td>\n",
              "      <td>Tofu, raw, regular, prepared with calcium sulfate</td>\n",
              "      <td>[]</td>\n",
              "      <td></td>\n",
              "      <td>Legumes and Legume Products</td>\n",
              "      <td>[{'amount': 1, 'unit': 'cup', 'grams': 124.0}, {'amount': 2, 'unit': 'block', 'grams': 116.0}]</td>\n",
              "      <td>[{'value': 8.08, 'units': 'g', 'description': 'Protein', 'group': 'Composition'}, {'value': 4.78, 'units': 'g', 'description': 'Total lipid (fat)', 'group': 'Composition'}, {'value': 1.88, 'units': 'g', 'description': 'Carbohydrate, by difference', 'group': 'Composition'}, {'value': 0.72, 'units': 'g', 'description': 'Ash', 'group': 'Other'}, {'value': 76.0, 'units': 'kcal', 'description': 'Energy', 'group': 'Energy'}, {'value': 84.55, 'units': 'g', 'description': 'Water', 'group': 'Composit...</td>\n",
              "    </tr>\n",
              "    <tr>\n",
              "      <th>1265</th>\n",
              "      <td>9087</td>\n",
              "      <td>Dates, deglet noor</td>\n",
              "      <td>[]</td>\n",
              "      <td></td>\n",
              "      <td>Fruits and Fruit Juices</td>\n",
              "      <td>[{'amount': 1, 'unit': 'cup, chopped', 'grams': 147.0}, {'amount': 2, 'unit': 'date, pitted', 'grams': 7.1}]</td>\n",
              "      <td>[{'value': 2.45, 'units': 'g', 'description': 'Protein', 'group': 'Composition'}, {'value': 0.39, 'units': 'g', 'description': 'Total lipid (fat)', 'group': 'Composition'}, {'value': 75.03, 'units': 'g', 'description': 'Carbohydrate, by difference', 'group': 'Composition'}, {'value': 1.6, 'units': 'g', 'description': 'Ash', 'group': 'Other'}, {'value': 282.0, 'units': 'kcal', 'description': 'Energy', 'group': 'Energy'}, {'value': 23.84, 'units': 'g', 'description': 'Sucrose', 'group': 'Sugar...</td>\n",
              "    </tr>\n",
              "    <tr>\n",
              "      <th>990</th>\n",
              "      <td>8259</td>\n",
              "      <td>Cereals ready-to-eat, KELLOGG, KELLOGG'S CRISPIX</td>\n",
              "      <td>[Includes USDA Commodity B855]</td>\n",
              "      <td>Kellogg, Co.</td>\n",
              "      <td>Breakfast Cereals</td>\n",
              "      <td>[{'amount': 1, 'unit': 'cup (1 NLEA serving)', 'grams': 29.0}, {'amount': 2, 'unit': 'cup (laboratory weight)', 'grams': 30.0}]</td>\n",
              "      <td>[{'value': 6.7, 'units': 'g', 'description': 'Protein', 'group': 'Composition'}, {'value': 1.0, 'units': 'g', 'description': 'Total lipid (fat)', 'group': 'Composition'}, {'value': 85.7, 'units': 'g', 'description': 'Carbohydrate, by difference', 'group': 'Composition'}, {'value': 3.5, 'units': 'g', 'description': 'Ash', 'group': 'Other'}, {'value': 377.0, 'units': 'kcal', 'description': 'Energy', 'group': 'Energy'}, {'value': 0.0, 'units': 'g', 'description': 'Alcohol, ethyl', 'group': 'Oth...</td>\n",
              "    </tr>\n",
              "  </tbody>\n",
              "</table>\n",
              "</div>\n",
              "      <button class=\"colab-df-convert\" onclick=\"convertToInteractive('df-72b18452-99e5-4895-aa2a-836946242223')\"\n",
              "              title=\"Convert this dataframe to an interactive table.\"\n",
              "              style=\"display:none;\">\n",
              "        \n",
              "  <svg xmlns=\"http://www.w3.org/2000/svg\" height=\"24px\"viewBox=\"0 0 24 24\"\n",
              "       width=\"24px\">\n",
              "    <path d=\"M0 0h24v24H0V0z\" fill=\"none\"/>\n",
              "    <path d=\"M18.56 5.44l.94 2.06.94-2.06 2.06-.94-2.06-.94-.94-2.06-.94 2.06-2.06.94zm-11 1L8.5 8.5l.94-2.06 2.06-.94-2.06-.94L8.5 2.5l-.94 2.06-2.06.94zm10 10l.94 2.06.94-2.06 2.06-.94-2.06-.94-.94-2.06-.94 2.06-2.06.94z\"/><path d=\"M17.41 7.96l-1.37-1.37c-.4-.4-.92-.59-1.43-.59-.52 0-1.04.2-1.43.59L10.3 9.45l-7.72 7.72c-.78.78-.78 2.05 0 2.83L4 21.41c.39.39.9.59 1.41.59.51 0 1.02-.2 1.41-.59l7.78-7.78 2.81-2.81c.8-.78.8-2.07 0-2.86zM5.41 20L4 18.59l7.72-7.72 1.47 1.35L5.41 20z\"/>\n",
              "  </svg>\n",
              "      </button>\n",
              "      \n",
              "  <style>\n",
              "    .colab-df-container {\n",
              "      display:flex;\n",
              "      flex-wrap:wrap;\n",
              "      gap: 12px;\n",
              "    }\n",
              "\n",
              "    .colab-df-convert {\n",
              "      background-color: #E8F0FE;\n",
              "      border: none;\n",
              "      border-radius: 50%;\n",
              "      cursor: pointer;\n",
              "      display: none;\n",
              "      fill: #1967D2;\n",
              "      height: 32px;\n",
              "      padding: 0 0 0 0;\n",
              "      width: 32px;\n",
              "    }\n",
              "\n",
              "    .colab-df-convert:hover {\n",
              "      background-color: #E2EBFA;\n",
              "      box-shadow: 0px 1px 2px rgba(60, 64, 67, 0.3), 0px 1px 3px 1px rgba(60, 64, 67, 0.15);\n",
              "      fill: #174EA6;\n",
              "    }\n",
              "\n",
              "    [theme=dark] .colab-df-convert {\n",
              "      background-color: #3B4455;\n",
              "      fill: #D2E3FC;\n",
              "    }\n",
              "\n",
              "    [theme=dark] .colab-df-convert:hover {\n",
              "      background-color: #434B5C;\n",
              "      box-shadow: 0px 1px 3px 1px rgba(0, 0, 0, 0.15);\n",
              "      filter: drop-shadow(0px 1px 2px rgba(0, 0, 0, 0.3));\n",
              "      fill: #FFFFFF;\n",
              "    }\n",
              "  </style>\n",
              "\n",
              "      <script>\n",
              "        const buttonEl =\n",
              "          document.querySelector('#df-72b18452-99e5-4895-aa2a-836946242223 button.colab-df-convert');\n",
              "        buttonEl.style.display =\n",
              "          google.colab.kernel.accessAllowed ? 'block' : 'none';\n",
              "\n",
              "        async function convertToInteractive(key) {\n",
              "          const element = document.querySelector('#df-72b18452-99e5-4895-aa2a-836946242223');\n",
              "          const dataTable =\n",
              "            await google.colab.kernel.invokeFunction('convertToInteractive',\n",
              "                                                     [key], {});\n",
              "          if (!dataTable) return;\n",
              "\n",
              "          const docLinkHtml = 'Like what you see? Visit the ' +\n",
              "            '<a target=\"_blank\" href=https://colab.research.google.com/notebooks/data_table.ipynb>data table notebook</a>'\n",
              "            + ' to learn more about interactive tables.';\n",
              "          element.innerHTML = '';\n",
              "          dataTable['output_type'] = 'display_data';\n",
              "          await google.colab.output.renderOutput(dataTable, element);\n",
              "          const docLink = document.createElement('div');\n",
              "          docLink.innerHTML = docLinkHtml;\n",
              "          element.appendChild(docLink);\n",
              "        }\n",
              "      </script>\n",
              "    </div>\n",
              "  </div>\n",
              "  "
            ]
          },
          "metadata": {},
          "execution_count": 22
        }
      ]
    },
    {
      "cell_type": "code",
      "source": [
        "usFoodDataFrame.info()"
      ],
      "metadata": {
        "colab": {
          "base_uri": "https://localhost:8080/"
        },
        "id": "DK6M_OcCY1o-",
        "outputId": "484d4c29-25fe-4f8c-c75b-d135d287bae8"
      },
      "execution_count": 23,
      "outputs": [
        {
          "output_type": "stream",
          "name": "stdout",
          "text": [
            "<class 'pandas.core.frame.DataFrame'>\n",
            "RangeIndex: 6636 entries, 0 to 6635\n",
            "Data columns (total 7 columns):\n",
            " #   Column        Non-Null Count  Dtype \n",
            "---  ------        --------------  ----- \n",
            " 0   id            6636 non-null   int64 \n",
            " 1   description   6636 non-null   object\n",
            " 2   tags          6636 non-null   object\n",
            " 3   manufacturer  5195 non-null   object\n",
            " 4   group         6636 non-null   object\n",
            " 5   portions      6636 non-null   object\n",
            " 6   nutrients     6636 non-null   object\n",
            "dtypes: int64(1), object(6)\n",
            "memory usage: 363.0+ KB\n"
          ]
        }
      ]
    },
    {
      "cell_type": "markdown",
      "source": [
        "#### We notice that this data has two nested variables: portions and nutrients\n"
      ],
      "metadata": {
        "id": "dySziGx1ZSfC"
      }
    },
    {
      "cell_type": "code",
      "source": [
        "import urllib.request, json \n",
        "with urllib.request.urlopen(\"https://raw.githubusercontent.com/wesm/pydata-book/3rd-edition/datasets/usda_food/database.json\") as url:\n",
        "    foodDataSet_json = json.load(url)"
      ],
      "metadata": {
        "id": "c-vgcKYHYnzw"
      },
      "execution_count": 24,
      "outputs": []
    },
    {
      "cell_type": "code",
      "source": [
        "type(foodDataSet_json)"
      ],
      "metadata": {
        "colab": {
          "base_uri": "https://localhost:8080/"
        },
        "id": "mqRvn2SYYnvU",
        "outputId": "425043d2-85e8-49d9-ac4f-44c390163274"
      },
      "execution_count": 25,
      "outputs": [
        {
          "output_type": "execute_result",
          "data": {
            "text/plain": [
              "list"
            ]
          },
          "metadata": {},
          "execution_count": 25
        }
      ]
    },
    {
      "cell_type": "code",
      "source": [
        "type(foodDataSet_json[0])"
      ],
      "metadata": {
        "colab": {
          "base_uri": "https://localhost:8080/"
        },
        "id": "WVmfrDPeZ8de",
        "outputId": "82a3dccf-b958-46be-8070-ebe05bb063cd"
      },
      "execution_count": 26,
      "outputs": [
        {
          "output_type": "execute_result",
          "data": {
            "text/plain": [
              "dict"
            ]
          },
          "metadata": {},
          "execution_count": 26
        }
      ]
    },
    {
      "cell_type": "markdown",
      "source": [
        "#### From the previous result we notice that foodDataSet_json is a list of dictionaries\n",
        "\n",
        "#### We process the JSON object using pandas.json_normalize() method"
      ],
      "metadata": {
        "id": "HRscUglZZtJO"
      }
    },
    {
      "cell_type": "code",
      "source": [
        "pd.json_normalize(foodDataSet_json)"
      ],
      "metadata": {
        "colab": {
          "base_uri": "https://localhost:8080/",
          "height": 1000
        },
        "id": "tWrtJtgiYnpm",
        "outputId": "16abc19c-2d3f-4861-f90e-a0210489fc73"
      },
      "execution_count": 27,
      "outputs": [
        {
          "output_type": "execute_result",
          "data": {
            "text/plain": [
              "         id                                                  description tags  \\\n",
              "0      1008                                              Cheese, caraway   []   \n",
              "1      1009                                              Cheese, cheddar   []   \n",
              "2      1018                                                 Cheese, edam   []   \n",
              "3      1019                                                 Cheese, feta   []   \n",
              "4      1028                           Cheese, mozzarella, part skim milk   []   \n",
              "...     ...                                                          ...  ...   \n",
              "6631  42161                                       Bologna, beef, low fat   []   \n",
              "6632  42173  Turkey and pork sausage, fresh, bulk, patty or link, cooked   []   \n",
              "6633  43408                                        Babyfood, juice, pear   []   \n",
              "6634  43539                   Babyfood, dessert, banana yogurt, strained   []   \n",
              "6635  43546                        Babyfood, banana no tapioca, strained   []   \n",
              "\n",
              "     manufacturer                        group  \\\n",
              "0                       Dairy and Egg Products   \n",
              "1                       Dairy and Egg Products   \n",
              "2                       Dairy and Egg Products   \n",
              "3                       Dairy and Egg Products   \n",
              "4                       Dairy and Egg Products   \n",
              "...           ...                          ...   \n",
              "6631               Sausages and Luncheon Meats   \n",
              "6632               Sausages and Luncheon Meats   \n",
              "6633         None                   Baby Foods   \n",
              "6634         None                   Baby Foods   \n",
              "6635         None                   Baby Foods   \n",
              "\n",
              "                                                                                                                                                                                                                                                                                                                                                                                                                                                                      portions  \\\n",
              "0                                                                                                                                                                                                                                                                                                                                                                                                                                [{'amount': 1, 'unit': 'oz', 'grams': 28.35}]   \n",
              "1                                                                                                                                                   [{'amount': 1, 'unit': 'cup, diced', 'grams': 132.0}, {'amount': 2, 'unit': 'cup, melted', 'grams': 244.0}, {'amount': 3, 'unit': 'cup, shredded', 'grams': 113.0}, {'amount': 4, 'unit': 'oz', 'grams': 28.35}, {'amount': 5, 'unit': 'cubic inch', 'grams': 17.0}, {'amount': 6, 'unit': 'slice (1 oz)', 'grams': 28.0}]   \n",
              "2                                                                                                                                                                                                                                                                                                                                                                       [{'amount': 1, 'unit': 'oz', 'grams': 28.35}, {'amount': 2, 'unit': 'package (7 oz)', 'grams': 198.0}]   \n",
              "3                                                                                                                                                                                                                                                           [{'amount': 1, 'unit': 'cup, crumbled', 'grams': 150.0}, {'amount': 2, 'unit': 'oz', 'grams': 28.35}, {'amount': 3, 'unit': 'cubic inch', 'grams': 17.0}, {'amount': 4, 'unit': 'wedge (1.33 oz)', 'grams': 38.0}]   \n",
              "4                                                                                                                                                                                                                                                                                                                                                                                                                                [{'amount': 1, 'unit': 'oz', 'grams': 28.35}]   \n",
              "...                                                                                                                                                                                                                                                                                                                                                                                                                                                                        ...   \n",
              "6631                                                                                                                                                                                                     [{'amount': 1, 'unit': 'slice', 'grams': 28.0}, {'amount': 2, 'unit': 'cubic inch', 'grams': 14.0}, {'amount': 3, 'unit': 'slice, medium', 'grams': 28.0}, {'amount': 5, 'unit': 'slice, thick', 'grams': 43.0}, {'amount': 6, 'unit': 'slice, thin', 'grams': 14.0}]   \n",
              "6632                                                                                                                                                                                                                                                       [{'amount': 1, 'unit': 'cup, cooked', 'grams': 130.0}, {'amount': 2, 'unit': 'oz', 'grams': 28.0}, {'amount': 3, 'unit': 'oz cooked, yield', 'grams': 21.0}, {'amount': 4, 'unit': 'patty, cooked', 'grams': 25.0}]   \n",
              "6633                                                        [{'amount': 1, 'unit': 'fl oz', 'grams': 31.2}, {'amount': 2, 'unit': 'bottle Earth's Best (4.2 fl oz)', 'grams': 131.0}, {'amount': 3, 'unit': 'bottle Heinz Strained (4 fl oz)', 'grams': 125.0}, {'amount': 4, 'unit': 'bottle Gerber First Food (4 fl oz)', 'grams': 125.0}, {'amount': 5, 'unit': 'bottle Beech-Nut Stage I (4 fl oz)', 'grams': 125.0}, {'amount': 6, 'unit': 'bottle NFS', 'grams': 125.0}]   \n",
              "6634                                                                                                                                                  [{'amount': 1, 'unit': 'tbsp', 'grams': 15.0}, {'amount': 2, 'unit': 'jar NFS', 'grams': 113.0}, {'amount': 3, 'unit': 'jar Gerber Second Food (4 oz)', 'grams': 113.0}, {'amount': 4, 'unit': 'jar Beech-Nut Stage 2 (4 oz)', 'grams': 113.0}, {'amount': 5, 'unit': 'jar Heinz Strained-2 (4.25 oz)', 'grams': 120.0}]   \n",
              "6635  [{'amount': 1, 'unit': 'tbsp', 'grams': 15.0}, {'amount': 2, 'unit': 'jar NFS', 'grams': 113.0}, {'amount': 3, 'unit': 'jar Beech-Nut Baby's First (2.5 oz)', 'grams': 71.0}, {'amount': 4, 'unit': 'jar Beech-Nut Stage I (4 oz)', 'grams': 113.0}, {'amount': 5, 'unit': 'jar Gerber First Foods (2.5 oz)', 'grams': 71.0}, {'amount': 6, 'unit': 'jar Earth's Best (4.5 oz)', 'grams': 128.0}, {'amount': 7, 'unit': 'jar Heinz Beginner-1 (2.5 oz)', 'grams': 71.0}]   \n",
              "\n",
              "                                                                                                                                                                                                                                                                                                                                                                                                                                                                                                                nutrients  \n",
              "0     [{'value': 25.18, 'units': 'g', 'description': 'Protein', 'group': 'Composition'}, {'value': 29.2, 'units': 'g', 'description': 'Total lipid (fat)', 'group': 'Composition'}, {'value': 3.06, 'units': 'g', 'description': 'Carbohydrate, by difference', 'group': 'Composition'}, {'value': 3.28, 'units': 'g', 'description': 'Ash', 'group': 'Other'}, {'value': 376.0, 'units': 'kcal', 'description': 'Energy', 'group': 'Energy'}, {'value': 39.28, 'units': 'g', 'description': 'Water', 'group': 'Compos...  \n",
              "1     [{'value': 24.9, 'units': 'g', 'description': 'Protein', 'group': 'Composition'}, {'value': 33.14, 'units': 'g', 'description': 'Total lipid (fat)', 'group': 'Composition'}, {'value': 1.28, 'units': 'g', 'description': 'Carbohydrate, by difference', 'group': 'Composition'}, {'value': 3.93, 'units': 'g', 'description': 'Ash', 'group': 'Other'}, {'value': 403.0, 'units': 'kcal', 'description': 'Energy', 'group': 'Energy'}, {'value': 0.24, 'units': 'g', 'description': 'Sucrose', 'group': 'Sugar...  \n",
              "2     [{'value': 4.22, 'units': 'g', 'description': 'Ash', 'group': 'Other'}, {'value': 24.99, 'units': 'g', 'description': 'Protein', 'group': 'Composition'}, {'value': 27.8, 'units': 'g', 'description': 'Total lipid (fat)', 'group': 'Composition'}, {'value': 1.43, 'units': 'g', 'description': 'Carbohydrate, by difference', 'group': 'Composition'}, {'value': 4.22, 'units': 'g', 'description': 'Ash', 'group': 'Other'}, {'value': 357.0, 'units': 'kcal', 'description': 'Energy', 'group': 'Energy'}, ...  \n",
              "3     [{'value': 5.2, 'units': 'g', 'description': 'Ash', 'group': 'Other'}, {'value': 14.21, 'units': 'g', 'description': 'Protein', 'group': 'Composition'}, {'value': 21.28, 'units': 'g', 'description': 'Total lipid (fat)', 'group': 'Composition'}, {'value': 4.09, 'units': 'g', 'description': 'Carbohydrate, by difference', 'group': 'Composition'}, {'value': 5.2, 'units': 'g', 'description': 'Ash', 'group': 'Other'}, {'value': 264.0, 'units': 'kcal', 'description': 'Energy', 'group': 'Energy'}, {...  \n",
              "4     [{'value': 3.27, 'units': 'g', 'description': 'Ash', 'group': 'Other'}, {'value': 24.26, 'units': 'g', 'description': 'Protein', 'group': 'Composition'}, {'value': 15.92, 'units': 'g', 'description': 'Total lipid (fat)', 'group': 'Composition'}, {'value': 2.77, 'units': 'g', 'description': 'Carbohydrate, by difference', 'group': 'Composition'}, {'value': 3.27, 'units': 'g', 'description': 'Ash', 'group': 'Other'}, {'value': 254.0, 'units': 'kcal', 'description': 'Energy', 'group': 'Energy'},...  \n",
              "...                                                                                                                                                                                                                                                                                                                                                                                                                                                                                                                   ...  \n",
              "6631  [{'value': 11.8, 'units': 'g', 'description': 'Protein', 'group': 'Composition'}, {'value': 14.8, 'units': 'g', 'description': 'Total lipid (fat)', 'group': 'Composition'}, {'value': 5.2, 'units': 'g', 'description': 'Carbohydrate, by difference', 'group': 'Composition'}, {'value': 3.2, 'units': 'g', 'description': 'Ash', 'group': 'Other'}, {'value': 204.0, 'units': 'kcal', 'description': 'Energy', 'group': 'Energy'}, {'value': 0.0, 'units': 'g', 'description': 'Alcohol, ethyl', 'group': 'Ot...  \n",
              "6632  [{'value': 22.7, 'units': 'g', 'description': 'Protein', 'group': 'Composition'}, {'value': 23.0, 'units': 'g', 'description': 'Total lipid (fat)', 'group': 'Composition'}, {'value': 0.7, 'units': 'g', 'description': 'Carbohydrate, by difference', 'group': 'Composition'}, {'value': 2.7, 'units': 'g', 'description': 'Ash', 'group': 'Other'}, {'value': 307.0, 'units': 'kcal', 'description': 'Energy', 'group': 'Energy'}, {'value': 0.0, 'units': 'g', 'description': 'Alcohol, ethyl', 'group': 'Ot...  \n",
              "6633  [{'value': 0.0, 'units': 'g', 'description': 'Protein', 'group': 'Composition'}, {'value': 0.0, 'units': 'g', 'description': 'Total lipid (fat)', 'group': 'Composition'}, {'value': 11.86, 'units': 'g', 'description': 'Carbohydrate, by difference', 'group': 'Composition'}, {'value': 0.24, 'units': 'g', 'description': 'Ash', 'group': 'Other'}, {'value': 47.0, 'units': 'kcal', 'description': 'Energy', 'group': 'Energy'}, {'value': 0.0, 'units': 'g', 'description': 'Alcohol, ethyl', 'group': 'Ot...  \n",
              "6634  [{'value': 1.1, 'units': 'g', 'description': 'Protein', 'group': 'Composition'}, {'value': 0.52, 'units': 'g', 'description': 'Total lipid (fat)', 'group': 'Composition'}, {'value': 17.4, 'units': 'g', 'description': 'Carbohydrate, by difference', 'group': 'Composition'}, {'value': 0.33, 'units': 'g', 'description': 'Ash', 'group': 'Other'}, {'value': 79.0, 'units': 'kcal', 'description': 'Energy', 'group': 'Energy'}, {'value': 0.0, 'units': 'g', 'description': 'Alcohol, ethyl', 'group': 'Ot...  \n",
              "6635  [{'value': 1.0, 'units': 'g', 'description': 'Protein', 'group': 'Composition'}, {'value': 0.2, 'units': 'g', 'description': 'Total lipid (fat)', 'group': 'Composition'}, {'value': 21.34, 'units': 'g', 'description': 'Carbohydrate, by difference', 'group': 'Composition'}, {'value': 0.76, 'units': 'g', 'description': 'Ash', 'group': 'Other'}, {'value': 91.0, 'units': 'kcal', 'description': 'Energy', 'group': 'Energy'}, {'value': 0.0, 'units': 'g', 'description': 'Alcohol, ethyl', 'group': 'Ot...  \n",
              "\n",
              "[6636 rows x 7 columns]"
            ],
            "text/html": [
              "\n",
              "  <div id=\"df-8c1073b2-e339-4b5d-a2f9-f5ecd4b2d88a\">\n",
              "    <div class=\"colab-df-container\">\n",
              "      <div>\n",
              "<style scoped>\n",
              "    .dataframe tbody tr th:only-of-type {\n",
              "        vertical-align: middle;\n",
              "    }\n",
              "\n",
              "    .dataframe tbody tr th {\n",
              "        vertical-align: top;\n",
              "    }\n",
              "\n",
              "    .dataframe thead th {\n",
              "        text-align: right;\n",
              "    }\n",
              "</style>\n",
              "<table border=\"1\" class=\"dataframe\">\n",
              "  <thead>\n",
              "    <tr style=\"text-align: right;\">\n",
              "      <th></th>\n",
              "      <th>id</th>\n",
              "      <th>description</th>\n",
              "      <th>tags</th>\n",
              "      <th>manufacturer</th>\n",
              "      <th>group</th>\n",
              "      <th>portions</th>\n",
              "      <th>nutrients</th>\n",
              "    </tr>\n",
              "  </thead>\n",
              "  <tbody>\n",
              "    <tr>\n",
              "      <th>0</th>\n",
              "      <td>1008</td>\n",
              "      <td>Cheese, caraway</td>\n",
              "      <td>[]</td>\n",
              "      <td></td>\n",
              "      <td>Dairy and Egg Products</td>\n",
              "      <td>[{'amount': 1, 'unit': 'oz', 'grams': 28.35}]</td>\n",
              "      <td>[{'value': 25.18, 'units': 'g', 'description': 'Protein', 'group': 'Composition'}, {'value': 29.2, 'units': 'g', 'description': 'Total lipid (fat)', 'group': 'Composition'}, {'value': 3.06, 'units': 'g', 'description': 'Carbohydrate, by difference', 'group': 'Composition'}, {'value': 3.28, 'units': 'g', 'description': 'Ash', 'group': 'Other'}, {'value': 376.0, 'units': 'kcal', 'description': 'Energy', 'group': 'Energy'}, {'value': 39.28, 'units': 'g', 'description': 'Water', 'group': 'Compos...</td>\n",
              "    </tr>\n",
              "    <tr>\n",
              "      <th>1</th>\n",
              "      <td>1009</td>\n",
              "      <td>Cheese, cheddar</td>\n",
              "      <td>[]</td>\n",
              "      <td></td>\n",
              "      <td>Dairy and Egg Products</td>\n",
              "      <td>[{'amount': 1, 'unit': 'cup, diced', 'grams': 132.0}, {'amount': 2, 'unit': 'cup, melted', 'grams': 244.0}, {'amount': 3, 'unit': 'cup, shredded', 'grams': 113.0}, {'amount': 4, 'unit': 'oz', 'grams': 28.35}, {'amount': 5, 'unit': 'cubic inch', 'grams': 17.0}, {'amount': 6, 'unit': 'slice (1 oz)', 'grams': 28.0}]</td>\n",
              "      <td>[{'value': 24.9, 'units': 'g', 'description': 'Protein', 'group': 'Composition'}, {'value': 33.14, 'units': 'g', 'description': 'Total lipid (fat)', 'group': 'Composition'}, {'value': 1.28, 'units': 'g', 'description': 'Carbohydrate, by difference', 'group': 'Composition'}, {'value': 3.93, 'units': 'g', 'description': 'Ash', 'group': 'Other'}, {'value': 403.0, 'units': 'kcal', 'description': 'Energy', 'group': 'Energy'}, {'value': 0.24, 'units': 'g', 'description': 'Sucrose', 'group': 'Sugar...</td>\n",
              "    </tr>\n",
              "    <tr>\n",
              "      <th>2</th>\n",
              "      <td>1018</td>\n",
              "      <td>Cheese, edam</td>\n",
              "      <td>[]</td>\n",
              "      <td></td>\n",
              "      <td>Dairy and Egg Products</td>\n",
              "      <td>[{'amount': 1, 'unit': 'oz', 'grams': 28.35}, {'amount': 2, 'unit': 'package (7 oz)', 'grams': 198.0}]</td>\n",
              "      <td>[{'value': 4.22, 'units': 'g', 'description': 'Ash', 'group': 'Other'}, {'value': 24.99, 'units': 'g', 'description': 'Protein', 'group': 'Composition'}, {'value': 27.8, 'units': 'g', 'description': 'Total lipid (fat)', 'group': 'Composition'}, {'value': 1.43, 'units': 'g', 'description': 'Carbohydrate, by difference', 'group': 'Composition'}, {'value': 4.22, 'units': 'g', 'description': 'Ash', 'group': 'Other'}, {'value': 357.0, 'units': 'kcal', 'description': 'Energy', 'group': 'Energy'}, ...</td>\n",
              "    </tr>\n",
              "    <tr>\n",
              "      <th>3</th>\n",
              "      <td>1019</td>\n",
              "      <td>Cheese, feta</td>\n",
              "      <td>[]</td>\n",
              "      <td></td>\n",
              "      <td>Dairy and Egg Products</td>\n",
              "      <td>[{'amount': 1, 'unit': 'cup, crumbled', 'grams': 150.0}, {'amount': 2, 'unit': 'oz', 'grams': 28.35}, {'amount': 3, 'unit': 'cubic inch', 'grams': 17.0}, {'amount': 4, 'unit': 'wedge (1.33 oz)', 'grams': 38.0}]</td>\n",
              "      <td>[{'value': 5.2, 'units': 'g', 'description': 'Ash', 'group': 'Other'}, {'value': 14.21, 'units': 'g', 'description': 'Protein', 'group': 'Composition'}, {'value': 21.28, 'units': 'g', 'description': 'Total lipid (fat)', 'group': 'Composition'}, {'value': 4.09, 'units': 'g', 'description': 'Carbohydrate, by difference', 'group': 'Composition'}, {'value': 5.2, 'units': 'g', 'description': 'Ash', 'group': 'Other'}, {'value': 264.0, 'units': 'kcal', 'description': 'Energy', 'group': 'Energy'}, {...</td>\n",
              "    </tr>\n",
              "    <tr>\n",
              "      <th>4</th>\n",
              "      <td>1028</td>\n",
              "      <td>Cheese, mozzarella, part skim milk</td>\n",
              "      <td>[]</td>\n",
              "      <td></td>\n",
              "      <td>Dairy and Egg Products</td>\n",
              "      <td>[{'amount': 1, 'unit': 'oz', 'grams': 28.35}]</td>\n",
              "      <td>[{'value': 3.27, 'units': 'g', 'description': 'Ash', 'group': 'Other'}, {'value': 24.26, 'units': 'g', 'description': 'Protein', 'group': 'Composition'}, {'value': 15.92, 'units': 'g', 'description': 'Total lipid (fat)', 'group': 'Composition'}, {'value': 2.77, 'units': 'g', 'description': 'Carbohydrate, by difference', 'group': 'Composition'}, {'value': 3.27, 'units': 'g', 'description': 'Ash', 'group': 'Other'}, {'value': 254.0, 'units': 'kcal', 'description': 'Energy', 'group': 'Energy'},...</td>\n",
              "    </tr>\n",
              "    <tr>\n",
              "      <th>...</th>\n",
              "      <td>...</td>\n",
              "      <td>...</td>\n",
              "      <td>...</td>\n",
              "      <td>...</td>\n",
              "      <td>...</td>\n",
              "      <td>...</td>\n",
              "      <td>...</td>\n",
              "    </tr>\n",
              "    <tr>\n",
              "      <th>6631</th>\n",
              "      <td>42161</td>\n",
              "      <td>Bologna, beef, low fat</td>\n",
              "      <td>[]</td>\n",
              "      <td></td>\n",
              "      <td>Sausages and Luncheon Meats</td>\n",
              "      <td>[{'amount': 1, 'unit': 'slice', 'grams': 28.0}, {'amount': 2, 'unit': 'cubic inch', 'grams': 14.0}, {'amount': 3, 'unit': 'slice, medium', 'grams': 28.0}, {'amount': 5, 'unit': 'slice, thick', 'grams': 43.0}, {'amount': 6, 'unit': 'slice, thin', 'grams': 14.0}]</td>\n",
              "      <td>[{'value': 11.8, 'units': 'g', 'description': 'Protein', 'group': 'Composition'}, {'value': 14.8, 'units': 'g', 'description': 'Total lipid (fat)', 'group': 'Composition'}, {'value': 5.2, 'units': 'g', 'description': 'Carbohydrate, by difference', 'group': 'Composition'}, {'value': 3.2, 'units': 'g', 'description': 'Ash', 'group': 'Other'}, {'value': 204.0, 'units': 'kcal', 'description': 'Energy', 'group': 'Energy'}, {'value': 0.0, 'units': 'g', 'description': 'Alcohol, ethyl', 'group': 'Ot...</td>\n",
              "    </tr>\n",
              "    <tr>\n",
              "      <th>6632</th>\n",
              "      <td>42173</td>\n",
              "      <td>Turkey and pork sausage, fresh, bulk, patty or link, cooked</td>\n",
              "      <td>[]</td>\n",
              "      <td></td>\n",
              "      <td>Sausages and Luncheon Meats</td>\n",
              "      <td>[{'amount': 1, 'unit': 'cup, cooked', 'grams': 130.0}, {'amount': 2, 'unit': 'oz', 'grams': 28.0}, {'amount': 3, 'unit': 'oz cooked, yield', 'grams': 21.0}, {'amount': 4, 'unit': 'patty, cooked', 'grams': 25.0}]</td>\n",
              "      <td>[{'value': 22.7, 'units': 'g', 'description': 'Protein', 'group': 'Composition'}, {'value': 23.0, 'units': 'g', 'description': 'Total lipid (fat)', 'group': 'Composition'}, {'value': 0.7, 'units': 'g', 'description': 'Carbohydrate, by difference', 'group': 'Composition'}, {'value': 2.7, 'units': 'g', 'description': 'Ash', 'group': 'Other'}, {'value': 307.0, 'units': 'kcal', 'description': 'Energy', 'group': 'Energy'}, {'value': 0.0, 'units': 'g', 'description': 'Alcohol, ethyl', 'group': 'Ot...</td>\n",
              "    </tr>\n",
              "    <tr>\n",
              "      <th>6633</th>\n",
              "      <td>43408</td>\n",
              "      <td>Babyfood, juice, pear</td>\n",
              "      <td>[]</td>\n",
              "      <td>None</td>\n",
              "      <td>Baby Foods</td>\n",
              "      <td>[{'amount': 1, 'unit': 'fl oz', 'grams': 31.2}, {'amount': 2, 'unit': 'bottle Earth's Best (4.2 fl oz)', 'grams': 131.0}, {'amount': 3, 'unit': 'bottle Heinz Strained (4 fl oz)', 'grams': 125.0}, {'amount': 4, 'unit': 'bottle Gerber First Food (4 fl oz)', 'grams': 125.0}, {'amount': 5, 'unit': 'bottle Beech-Nut Stage I (4 fl oz)', 'grams': 125.0}, {'amount': 6, 'unit': 'bottle NFS', 'grams': 125.0}]</td>\n",
              "      <td>[{'value': 0.0, 'units': 'g', 'description': 'Protein', 'group': 'Composition'}, {'value': 0.0, 'units': 'g', 'description': 'Total lipid (fat)', 'group': 'Composition'}, {'value': 11.86, 'units': 'g', 'description': 'Carbohydrate, by difference', 'group': 'Composition'}, {'value': 0.24, 'units': 'g', 'description': 'Ash', 'group': 'Other'}, {'value': 47.0, 'units': 'kcal', 'description': 'Energy', 'group': 'Energy'}, {'value': 0.0, 'units': 'g', 'description': 'Alcohol, ethyl', 'group': 'Ot...</td>\n",
              "    </tr>\n",
              "    <tr>\n",
              "      <th>6634</th>\n",
              "      <td>43539</td>\n",
              "      <td>Babyfood, dessert, banana yogurt, strained</td>\n",
              "      <td>[]</td>\n",
              "      <td>None</td>\n",
              "      <td>Baby Foods</td>\n",
              "      <td>[{'amount': 1, 'unit': 'tbsp', 'grams': 15.0}, {'amount': 2, 'unit': 'jar NFS', 'grams': 113.0}, {'amount': 3, 'unit': 'jar Gerber Second Food (4 oz)', 'grams': 113.0}, {'amount': 4, 'unit': 'jar Beech-Nut Stage 2 (4 oz)', 'grams': 113.0}, {'amount': 5, 'unit': 'jar Heinz Strained-2 (4.25 oz)', 'grams': 120.0}]</td>\n",
              "      <td>[{'value': 1.1, 'units': 'g', 'description': 'Protein', 'group': 'Composition'}, {'value': 0.52, 'units': 'g', 'description': 'Total lipid (fat)', 'group': 'Composition'}, {'value': 17.4, 'units': 'g', 'description': 'Carbohydrate, by difference', 'group': 'Composition'}, {'value': 0.33, 'units': 'g', 'description': 'Ash', 'group': 'Other'}, {'value': 79.0, 'units': 'kcal', 'description': 'Energy', 'group': 'Energy'}, {'value': 0.0, 'units': 'g', 'description': 'Alcohol, ethyl', 'group': 'Ot...</td>\n",
              "    </tr>\n",
              "    <tr>\n",
              "      <th>6635</th>\n",
              "      <td>43546</td>\n",
              "      <td>Babyfood, banana no tapioca, strained</td>\n",
              "      <td>[]</td>\n",
              "      <td>None</td>\n",
              "      <td>Baby Foods</td>\n",
              "      <td>[{'amount': 1, 'unit': 'tbsp', 'grams': 15.0}, {'amount': 2, 'unit': 'jar NFS', 'grams': 113.0}, {'amount': 3, 'unit': 'jar Beech-Nut Baby's First (2.5 oz)', 'grams': 71.0}, {'amount': 4, 'unit': 'jar Beech-Nut Stage I (4 oz)', 'grams': 113.0}, {'amount': 5, 'unit': 'jar Gerber First Foods (2.5 oz)', 'grams': 71.0}, {'amount': 6, 'unit': 'jar Earth's Best (4.5 oz)', 'grams': 128.0}, {'amount': 7, 'unit': 'jar Heinz Beginner-1 (2.5 oz)', 'grams': 71.0}]</td>\n",
              "      <td>[{'value': 1.0, 'units': 'g', 'description': 'Protein', 'group': 'Composition'}, {'value': 0.2, 'units': 'g', 'description': 'Total lipid (fat)', 'group': 'Composition'}, {'value': 21.34, 'units': 'g', 'description': 'Carbohydrate, by difference', 'group': 'Composition'}, {'value': 0.76, 'units': 'g', 'description': 'Ash', 'group': 'Other'}, {'value': 91.0, 'units': 'kcal', 'description': 'Energy', 'group': 'Energy'}, {'value': 0.0, 'units': 'g', 'description': 'Alcohol, ethyl', 'group': 'Ot...</td>\n",
              "    </tr>\n",
              "  </tbody>\n",
              "</table>\n",
              "<p>6636 rows × 7 columns</p>\n",
              "</div>\n",
              "      <button class=\"colab-df-convert\" onclick=\"convertToInteractive('df-8c1073b2-e339-4b5d-a2f9-f5ecd4b2d88a')\"\n",
              "              title=\"Convert this dataframe to an interactive table.\"\n",
              "              style=\"display:none;\">\n",
              "        \n",
              "  <svg xmlns=\"http://www.w3.org/2000/svg\" height=\"24px\"viewBox=\"0 0 24 24\"\n",
              "       width=\"24px\">\n",
              "    <path d=\"M0 0h24v24H0V0z\" fill=\"none\"/>\n",
              "    <path d=\"M18.56 5.44l.94 2.06.94-2.06 2.06-.94-2.06-.94-.94-2.06-.94 2.06-2.06.94zm-11 1L8.5 8.5l.94-2.06 2.06-.94-2.06-.94L8.5 2.5l-.94 2.06-2.06.94zm10 10l.94 2.06.94-2.06 2.06-.94-2.06-.94-.94-2.06-.94 2.06-2.06.94z\"/><path d=\"M17.41 7.96l-1.37-1.37c-.4-.4-.92-.59-1.43-.59-.52 0-1.04.2-1.43.59L10.3 9.45l-7.72 7.72c-.78.78-.78 2.05 0 2.83L4 21.41c.39.39.9.59 1.41.59.51 0 1.02-.2 1.41-.59l7.78-7.78 2.81-2.81c.8-.78.8-2.07 0-2.86zM5.41 20L4 18.59l7.72-7.72 1.47 1.35L5.41 20z\"/>\n",
              "  </svg>\n",
              "      </button>\n",
              "      \n",
              "  <style>\n",
              "    .colab-df-container {\n",
              "      display:flex;\n",
              "      flex-wrap:wrap;\n",
              "      gap: 12px;\n",
              "    }\n",
              "\n",
              "    .colab-df-convert {\n",
              "      background-color: #E8F0FE;\n",
              "      border: none;\n",
              "      border-radius: 50%;\n",
              "      cursor: pointer;\n",
              "      display: none;\n",
              "      fill: #1967D2;\n",
              "      height: 32px;\n",
              "      padding: 0 0 0 0;\n",
              "      width: 32px;\n",
              "    }\n",
              "\n",
              "    .colab-df-convert:hover {\n",
              "      background-color: #E2EBFA;\n",
              "      box-shadow: 0px 1px 2px rgba(60, 64, 67, 0.3), 0px 1px 3px 1px rgba(60, 64, 67, 0.15);\n",
              "      fill: #174EA6;\n",
              "    }\n",
              "\n",
              "    [theme=dark] .colab-df-convert {\n",
              "      background-color: #3B4455;\n",
              "      fill: #D2E3FC;\n",
              "    }\n",
              "\n",
              "    [theme=dark] .colab-df-convert:hover {\n",
              "      background-color: #434B5C;\n",
              "      box-shadow: 0px 1px 3px 1px rgba(0, 0, 0, 0.15);\n",
              "      filter: drop-shadow(0px 1px 2px rgba(0, 0, 0, 0.3));\n",
              "      fill: #FFFFFF;\n",
              "    }\n",
              "  </style>\n",
              "\n",
              "      <script>\n",
              "        const buttonEl =\n",
              "          document.querySelector('#df-8c1073b2-e339-4b5d-a2f9-f5ecd4b2d88a button.colab-df-convert');\n",
              "        buttonEl.style.display =\n",
              "          google.colab.kernel.accessAllowed ? 'block' : 'none';\n",
              "\n",
              "        async function convertToInteractive(key) {\n",
              "          const element = document.querySelector('#df-8c1073b2-e339-4b5d-a2f9-f5ecd4b2d88a');\n",
              "          const dataTable =\n",
              "            await google.colab.kernel.invokeFunction('convertToInteractive',\n",
              "                                                     [key], {});\n",
              "          if (!dataTable) return;\n",
              "\n",
              "          const docLinkHtml = 'Like what you see? Visit the ' +\n",
              "            '<a target=\"_blank\" href=https://colab.research.google.com/notebooks/data_table.ipynb>data table notebook</a>'\n",
              "            + ' to learn more about interactive tables.';\n",
              "          element.innerHTML = '';\n",
              "          dataTable['output_type'] = 'display_data';\n",
              "          await google.colab.output.renderOutput(dataTable, element);\n",
              "          const docLink = document.createElement('div');\n",
              "          docLink.innerHTML = docLinkHtml;\n",
              "          element.appendChild(docLink);\n",
              "        }\n",
              "      </script>\n",
              "    </div>\n",
              "  </div>\n",
              "  "
            ]
          },
          "metadata": {},
          "execution_count": 27
        }
      ]
    },
    {
      "cell_type": "markdown",
      "source": [
        "### Let's extract portions"
      ],
      "metadata": {
        "id": "XiGAav7Xaj5s"
      }
    },
    {
      "cell_type": "code",
      "source": [
        "type(foodDataSet_json)"
      ],
      "metadata": {
        "colab": {
          "base_uri": "https://localhost:8080/"
        },
        "id": "08uGSoJVfsoi",
        "outputId": "46b1fa9e-c1f9-485a-f775-6c2cdf9415eb"
      },
      "execution_count": 28,
      "outputs": [
        {
          "output_type": "execute_result",
          "data": {
            "text/plain": [
              "list"
            ]
          },
          "metadata": {},
          "execution_count": 28
        }
      ]
    },
    {
      "cell_type": "code",
      "source": [
        "type(foodDataSet_json[0])"
      ],
      "metadata": {
        "colab": {
          "base_uri": "https://localhost:8080/"
        },
        "id": "9XpSZpTffsi5",
        "outputId": "2ce188be-2557-4c99-d036-c868c17e4f71"
      },
      "execution_count": 29,
      "outputs": [
        {
          "output_type": "execute_result",
          "data": {
            "text/plain": [
              "dict"
            ]
          },
          "metadata": {},
          "execution_count": 29
        }
      ]
    },
    {
      "cell_type": "code",
      "source": [
        "foodDataSet_json[0].keys()"
      ],
      "metadata": {
        "colab": {
          "base_uri": "https://localhost:8080/"
        },
        "id": "6GFPloU9f_Y3",
        "outputId": "ba66f3e5-5f90-4c49-bc7e-174b2e7bcbc6"
      },
      "execution_count": 30,
      "outputs": [
        {
          "output_type": "execute_result",
          "data": {
            "text/plain": [
              "dict_keys(['id', 'description', 'tags', 'manufacturer', 'group', 'portions', 'nutrients'])"
            ]
          },
          "metadata": {},
          "execution_count": 30
        }
      ]
    },
    {
      "cell_type": "code",
      "source": [
        "foodDataSet_json[0]['portions']"
      ],
      "metadata": {
        "colab": {
          "base_uri": "https://localhost:8080/"
        },
        "id": "ADX_fQywgDPf",
        "outputId": "bcfe8ebb-af16-49be-ff5b-f2ae61584c7b"
      },
      "execution_count": 31,
      "outputs": [
        {
          "output_type": "execute_result",
          "data": {
            "text/plain": [
              "[{'amount': 1, 'unit': 'oz', 'grams': 28.35}]"
            ]
          },
          "metadata": {},
          "execution_count": 31
        }
      ]
    },
    {
      "cell_type": "code",
      "source": [
        "foodDataSet_json[1]['portions']"
      ],
      "metadata": {
        "colab": {
          "base_uri": "https://localhost:8080/"
        },
        "id": "fE1wUs-ygIPd",
        "outputId": "d1de1153-7c4f-4989-c836-a6b125eb8482"
      },
      "execution_count": 32,
      "outputs": [
        {
          "output_type": "execute_result",
          "data": {
            "text/plain": [
              "[{'amount': 1, 'unit': 'cup, diced', 'grams': 132.0},\n",
              " {'amount': 2, 'unit': 'cup, melted', 'grams': 244.0},\n",
              " {'amount': 3, 'unit': 'cup, shredded', 'grams': 113.0},\n",
              " {'amount': 4, 'unit': 'oz', 'grams': 28.35},\n",
              " {'amount': 5, 'unit': 'cubic inch', 'grams': 17.0},\n",
              " {'amount': 6, 'unit': 'slice (1 oz)', 'grams': 28.0}]"
            ]
          },
          "metadata": {},
          "execution_count": 32
        }
      ]
    },
    {
      "cell_type": "code",
      "source": [
        "# Flatten portions\n",
        "pd.json_normalize(foodDataSet_json, record_path=['portions'])"
      ],
      "metadata": {
        "colab": {
          "base_uri": "https://localhost:8080/",
          "height": 423
        },
        "id": "gRH5_9tOYnm_",
        "outputId": "26c0fbb5-d080-42a0-9f7b-1240fb65da27"
      },
      "execution_count": 33,
      "outputs": [
        {
          "output_type": "execute_result",
          "data": {
            "text/plain": [
              "       amount                                 unit   grams\n",
              "0           1                                   oz   28.35\n",
              "1           1                           cup, diced  132.00\n",
              "2           2                          cup, melted  244.00\n",
              "3           3                        cup, shredded  113.00\n",
              "4           4                                   oz   28.35\n",
              "...       ...                                  ...     ...\n",
              "11140       3  jar Beech-Nut Baby's First (2.5 oz)   71.00\n",
              "11141       4         jar Beech-Nut Stage I (4 oz)  113.00\n",
              "11142       5      jar Gerber First Foods (2.5 oz)   71.00\n",
              "11143       6            jar Earth's Best (4.5 oz)  128.00\n",
              "11144       7        jar Heinz Beginner-1 (2.5 oz)   71.00\n",
              "\n",
              "[11145 rows x 3 columns]"
            ],
            "text/html": [
              "\n",
              "  <div id=\"df-e3c83228-29fd-4354-94e9-531c808f50a2\">\n",
              "    <div class=\"colab-df-container\">\n",
              "      <div>\n",
              "<style scoped>\n",
              "    .dataframe tbody tr th:only-of-type {\n",
              "        vertical-align: middle;\n",
              "    }\n",
              "\n",
              "    .dataframe tbody tr th {\n",
              "        vertical-align: top;\n",
              "    }\n",
              "\n",
              "    .dataframe thead th {\n",
              "        text-align: right;\n",
              "    }\n",
              "</style>\n",
              "<table border=\"1\" class=\"dataframe\">\n",
              "  <thead>\n",
              "    <tr style=\"text-align: right;\">\n",
              "      <th></th>\n",
              "      <th>amount</th>\n",
              "      <th>unit</th>\n",
              "      <th>grams</th>\n",
              "    </tr>\n",
              "  </thead>\n",
              "  <tbody>\n",
              "    <tr>\n",
              "      <th>0</th>\n",
              "      <td>1</td>\n",
              "      <td>oz</td>\n",
              "      <td>28.35</td>\n",
              "    </tr>\n",
              "    <tr>\n",
              "      <th>1</th>\n",
              "      <td>1</td>\n",
              "      <td>cup, diced</td>\n",
              "      <td>132.00</td>\n",
              "    </tr>\n",
              "    <tr>\n",
              "      <th>2</th>\n",
              "      <td>2</td>\n",
              "      <td>cup, melted</td>\n",
              "      <td>244.00</td>\n",
              "    </tr>\n",
              "    <tr>\n",
              "      <th>3</th>\n",
              "      <td>3</td>\n",
              "      <td>cup, shredded</td>\n",
              "      <td>113.00</td>\n",
              "    </tr>\n",
              "    <tr>\n",
              "      <th>4</th>\n",
              "      <td>4</td>\n",
              "      <td>oz</td>\n",
              "      <td>28.35</td>\n",
              "    </tr>\n",
              "    <tr>\n",
              "      <th>...</th>\n",
              "      <td>...</td>\n",
              "      <td>...</td>\n",
              "      <td>...</td>\n",
              "    </tr>\n",
              "    <tr>\n",
              "      <th>11140</th>\n",
              "      <td>3</td>\n",
              "      <td>jar Beech-Nut Baby's First (2.5 oz)</td>\n",
              "      <td>71.00</td>\n",
              "    </tr>\n",
              "    <tr>\n",
              "      <th>11141</th>\n",
              "      <td>4</td>\n",
              "      <td>jar Beech-Nut Stage I (4 oz)</td>\n",
              "      <td>113.00</td>\n",
              "    </tr>\n",
              "    <tr>\n",
              "      <th>11142</th>\n",
              "      <td>5</td>\n",
              "      <td>jar Gerber First Foods (2.5 oz)</td>\n",
              "      <td>71.00</td>\n",
              "    </tr>\n",
              "    <tr>\n",
              "      <th>11143</th>\n",
              "      <td>6</td>\n",
              "      <td>jar Earth's Best (4.5 oz)</td>\n",
              "      <td>128.00</td>\n",
              "    </tr>\n",
              "    <tr>\n",
              "      <th>11144</th>\n",
              "      <td>7</td>\n",
              "      <td>jar Heinz Beginner-1 (2.5 oz)</td>\n",
              "      <td>71.00</td>\n",
              "    </tr>\n",
              "  </tbody>\n",
              "</table>\n",
              "<p>11145 rows × 3 columns</p>\n",
              "</div>\n",
              "      <button class=\"colab-df-convert\" onclick=\"convertToInteractive('df-e3c83228-29fd-4354-94e9-531c808f50a2')\"\n",
              "              title=\"Convert this dataframe to an interactive table.\"\n",
              "              style=\"display:none;\">\n",
              "        \n",
              "  <svg xmlns=\"http://www.w3.org/2000/svg\" height=\"24px\"viewBox=\"0 0 24 24\"\n",
              "       width=\"24px\">\n",
              "    <path d=\"M0 0h24v24H0V0z\" fill=\"none\"/>\n",
              "    <path d=\"M18.56 5.44l.94 2.06.94-2.06 2.06-.94-2.06-.94-.94-2.06-.94 2.06-2.06.94zm-11 1L8.5 8.5l.94-2.06 2.06-.94-2.06-.94L8.5 2.5l-.94 2.06-2.06.94zm10 10l.94 2.06.94-2.06 2.06-.94-2.06-.94-.94-2.06-.94 2.06-2.06.94z\"/><path d=\"M17.41 7.96l-1.37-1.37c-.4-.4-.92-.59-1.43-.59-.52 0-1.04.2-1.43.59L10.3 9.45l-7.72 7.72c-.78.78-.78 2.05 0 2.83L4 21.41c.39.39.9.59 1.41.59.51 0 1.02-.2 1.41-.59l7.78-7.78 2.81-2.81c.8-.78.8-2.07 0-2.86zM5.41 20L4 18.59l7.72-7.72 1.47 1.35L5.41 20z\"/>\n",
              "  </svg>\n",
              "      </button>\n",
              "      \n",
              "  <style>\n",
              "    .colab-df-container {\n",
              "      display:flex;\n",
              "      flex-wrap:wrap;\n",
              "      gap: 12px;\n",
              "    }\n",
              "\n",
              "    .colab-df-convert {\n",
              "      background-color: #E8F0FE;\n",
              "      border: none;\n",
              "      border-radius: 50%;\n",
              "      cursor: pointer;\n",
              "      display: none;\n",
              "      fill: #1967D2;\n",
              "      height: 32px;\n",
              "      padding: 0 0 0 0;\n",
              "      width: 32px;\n",
              "    }\n",
              "\n",
              "    .colab-df-convert:hover {\n",
              "      background-color: #E2EBFA;\n",
              "      box-shadow: 0px 1px 2px rgba(60, 64, 67, 0.3), 0px 1px 3px 1px rgba(60, 64, 67, 0.15);\n",
              "      fill: #174EA6;\n",
              "    }\n",
              "\n",
              "    [theme=dark] .colab-df-convert {\n",
              "      background-color: #3B4455;\n",
              "      fill: #D2E3FC;\n",
              "    }\n",
              "\n",
              "    [theme=dark] .colab-df-convert:hover {\n",
              "      background-color: #434B5C;\n",
              "      box-shadow: 0px 1px 3px 1px rgba(0, 0, 0, 0.15);\n",
              "      filter: drop-shadow(0px 1px 2px rgba(0, 0, 0, 0.3));\n",
              "      fill: #FFFFFF;\n",
              "    }\n",
              "  </style>\n",
              "\n",
              "      <script>\n",
              "        const buttonEl =\n",
              "          document.querySelector('#df-e3c83228-29fd-4354-94e9-531c808f50a2 button.colab-df-convert');\n",
              "        buttonEl.style.display =\n",
              "          google.colab.kernel.accessAllowed ? 'block' : 'none';\n",
              "\n",
              "        async function convertToInteractive(key) {\n",
              "          const element = document.querySelector('#df-e3c83228-29fd-4354-94e9-531c808f50a2');\n",
              "          const dataTable =\n",
              "            await google.colab.kernel.invokeFunction('convertToInteractive',\n",
              "                                                     [key], {});\n",
              "          if (!dataTable) return;\n",
              "\n",
              "          const docLinkHtml = 'Like what you see? Visit the ' +\n",
              "            '<a target=\"_blank\" href=https://colab.research.google.com/notebooks/data_table.ipynb>data table notebook</a>'\n",
              "            + ' to learn more about interactive tables.';\n",
              "          element.innerHTML = '';\n",
              "          dataTable['output_type'] = 'display_data';\n",
              "          await google.colab.output.renderOutput(dataTable, element);\n",
              "          const docLink = document.createElement('div');\n",
              "          docLink.innerHTML = docLinkHtml;\n",
              "          element.appendChild(docLink);\n",
              "        }\n",
              "      </script>\n",
              "    </div>\n",
              "  </div>\n",
              "  "
            ]
          },
          "metadata": {},
          "execution_count": 33
        }
      ]
    },
    {
      "cell_type": "markdown",
      "source": [
        "#### The result looks great but doesn’t include the id which is required to uniquely identify each food. To include it, we can use the argument meta to specify a list of metadata we want in the result."
      ],
      "metadata": {
        "id": "xV_U2_J3b6Sn"
      }
    },
    {
      "cell_type": "code",
      "source": [
        "pd.json_normalize(\n",
        "    foodDataSet_json, \n",
        "    record_path =['portions'],\n",
        "    meta=['id'],\n",
        ")\n"
      ],
      "metadata": {
        "colab": {
          "base_uri": "https://localhost:8080/",
          "height": 423
        },
        "id": "gnc77bjDYnkq",
        "outputId": "6bb90902-e255-428e-8319-f22c63755dfc"
      },
      "execution_count": 34,
      "outputs": [
        {
          "output_type": "execute_result",
          "data": {
            "text/plain": [
              "       amount                                 unit   grams     id\n",
              "0           1                                   oz   28.35   1008\n",
              "1           1                           cup, diced  132.00   1009\n",
              "2           2                          cup, melted  244.00   1009\n",
              "3           3                        cup, shredded  113.00   1009\n",
              "4           4                                   oz   28.35   1009\n",
              "...       ...                                  ...     ...    ...\n",
              "11140       3  jar Beech-Nut Baby's First (2.5 oz)   71.00  43546\n",
              "11141       4         jar Beech-Nut Stage I (4 oz)  113.00  43546\n",
              "11142       5      jar Gerber First Foods (2.5 oz)   71.00  43546\n",
              "11143       6            jar Earth's Best (4.5 oz)  128.00  43546\n",
              "11144       7        jar Heinz Beginner-1 (2.5 oz)   71.00  43546\n",
              "\n",
              "[11145 rows x 4 columns]"
            ],
            "text/html": [
              "\n",
              "  <div id=\"df-f7da5657-bdca-48d4-9fb1-1cf51a922c61\">\n",
              "    <div class=\"colab-df-container\">\n",
              "      <div>\n",
              "<style scoped>\n",
              "    .dataframe tbody tr th:only-of-type {\n",
              "        vertical-align: middle;\n",
              "    }\n",
              "\n",
              "    .dataframe tbody tr th {\n",
              "        vertical-align: top;\n",
              "    }\n",
              "\n",
              "    .dataframe thead th {\n",
              "        text-align: right;\n",
              "    }\n",
              "</style>\n",
              "<table border=\"1\" class=\"dataframe\">\n",
              "  <thead>\n",
              "    <tr style=\"text-align: right;\">\n",
              "      <th></th>\n",
              "      <th>amount</th>\n",
              "      <th>unit</th>\n",
              "      <th>grams</th>\n",
              "      <th>id</th>\n",
              "    </tr>\n",
              "  </thead>\n",
              "  <tbody>\n",
              "    <tr>\n",
              "      <th>0</th>\n",
              "      <td>1</td>\n",
              "      <td>oz</td>\n",
              "      <td>28.35</td>\n",
              "      <td>1008</td>\n",
              "    </tr>\n",
              "    <tr>\n",
              "      <th>1</th>\n",
              "      <td>1</td>\n",
              "      <td>cup, diced</td>\n",
              "      <td>132.00</td>\n",
              "      <td>1009</td>\n",
              "    </tr>\n",
              "    <tr>\n",
              "      <th>2</th>\n",
              "      <td>2</td>\n",
              "      <td>cup, melted</td>\n",
              "      <td>244.00</td>\n",
              "      <td>1009</td>\n",
              "    </tr>\n",
              "    <tr>\n",
              "      <th>3</th>\n",
              "      <td>3</td>\n",
              "      <td>cup, shredded</td>\n",
              "      <td>113.00</td>\n",
              "      <td>1009</td>\n",
              "    </tr>\n",
              "    <tr>\n",
              "      <th>4</th>\n",
              "      <td>4</td>\n",
              "      <td>oz</td>\n",
              "      <td>28.35</td>\n",
              "      <td>1009</td>\n",
              "    </tr>\n",
              "    <tr>\n",
              "      <th>...</th>\n",
              "      <td>...</td>\n",
              "      <td>...</td>\n",
              "      <td>...</td>\n",
              "      <td>...</td>\n",
              "    </tr>\n",
              "    <tr>\n",
              "      <th>11140</th>\n",
              "      <td>3</td>\n",
              "      <td>jar Beech-Nut Baby's First (2.5 oz)</td>\n",
              "      <td>71.00</td>\n",
              "      <td>43546</td>\n",
              "    </tr>\n",
              "    <tr>\n",
              "      <th>11141</th>\n",
              "      <td>4</td>\n",
              "      <td>jar Beech-Nut Stage I (4 oz)</td>\n",
              "      <td>113.00</td>\n",
              "      <td>43546</td>\n",
              "    </tr>\n",
              "    <tr>\n",
              "      <th>11142</th>\n",
              "      <td>5</td>\n",
              "      <td>jar Gerber First Foods (2.5 oz)</td>\n",
              "      <td>71.00</td>\n",
              "      <td>43546</td>\n",
              "    </tr>\n",
              "    <tr>\n",
              "      <th>11143</th>\n",
              "      <td>6</td>\n",
              "      <td>jar Earth's Best (4.5 oz)</td>\n",
              "      <td>128.00</td>\n",
              "      <td>43546</td>\n",
              "    </tr>\n",
              "    <tr>\n",
              "      <th>11144</th>\n",
              "      <td>7</td>\n",
              "      <td>jar Heinz Beginner-1 (2.5 oz)</td>\n",
              "      <td>71.00</td>\n",
              "      <td>43546</td>\n",
              "    </tr>\n",
              "  </tbody>\n",
              "</table>\n",
              "<p>11145 rows × 4 columns</p>\n",
              "</div>\n",
              "      <button class=\"colab-df-convert\" onclick=\"convertToInteractive('df-f7da5657-bdca-48d4-9fb1-1cf51a922c61')\"\n",
              "              title=\"Convert this dataframe to an interactive table.\"\n",
              "              style=\"display:none;\">\n",
              "        \n",
              "  <svg xmlns=\"http://www.w3.org/2000/svg\" height=\"24px\"viewBox=\"0 0 24 24\"\n",
              "       width=\"24px\">\n",
              "    <path d=\"M0 0h24v24H0V0z\" fill=\"none\"/>\n",
              "    <path d=\"M18.56 5.44l.94 2.06.94-2.06 2.06-.94-2.06-.94-.94-2.06-.94 2.06-2.06.94zm-11 1L8.5 8.5l.94-2.06 2.06-.94-2.06-.94L8.5 2.5l-.94 2.06-2.06.94zm10 10l.94 2.06.94-2.06 2.06-.94-2.06-.94-.94-2.06-.94 2.06-2.06.94z\"/><path d=\"M17.41 7.96l-1.37-1.37c-.4-.4-.92-.59-1.43-.59-.52 0-1.04.2-1.43.59L10.3 9.45l-7.72 7.72c-.78.78-.78 2.05 0 2.83L4 21.41c.39.39.9.59 1.41.59.51 0 1.02-.2 1.41-.59l7.78-7.78 2.81-2.81c.8-.78.8-2.07 0-2.86zM5.41 20L4 18.59l7.72-7.72 1.47 1.35L5.41 20z\"/>\n",
              "  </svg>\n",
              "      </button>\n",
              "      \n",
              "  <style>\n",
              "    .colab-df-container {\n",
              "      display:flex;\n",
              "      flex-wrap:wrap;\n",
              "      gap: 12px;\n",
              "    }\n",
              "\n",
              "    .colab-df-convert {\n",
              "      background-color: #E8F0FE;\n",
              "      border: none;\n",
              "      border-radius: 50%;\n",
              "      cursor: pointer;\n",
              "      display: none;\n",
              "      fill: #1967D2;\n",
              "      height: 32px;\n",
              "      padding: 0 0 0 0;\n",
              "      width: 32px;\n",
              "    }\n",
              "\n",
              "    .colab-df-convert:hover {\n",
              "      background-color: #E2EBFA;\n",
              "      box-shadow: 0px 1px 2px rgba(60, 64, 67, 0.3), 0px 1px 3px 1px rgba(60, 64, 67, 0.15);\n",
              "      fill: #174EA6;\n",
              "    }\n",
              "\n",
              "    [theme=dark] .colab-df-convert {\n",
              "      background-color: #3B4455;\n",
              "      fill: #D2E3FC;\n",
              "    }\n",
              "\n",
              "    [theme=dark] .colab-df-convert:hover {\n",
              "      background-color: #434B5C;\n",
              "      box-shadow: 0px 1px 3px 1px rgba(0, 0, 0, 0.15);\n",
              "      filter: drop-shadow(0px 1px 2px rgba(0, 0, 0, 0.3));\n",
              "      fill: #FFFFFF;\n",
              "    }\n",
              "  </style>\n",
              "\n",
              "      <script>\n",
              "        const buttonEl =\n",
              "          document.querySelector('#df-f7da5657-bdca-48d4-9fb1-1cf51a922c61 button.colab-df-convert');\n",
              "        buttonEl.style.display =\n",
              "          google.colab.kernel.accessAllowed ? 'block' : 'none';\n",
              "\n",
              "        async function convertToInteractive(key) {\n",
              "          const element = document.querySelector('#df-f7da5657-bdca-48d4-9fb1-1cf51a922c61');\n",
              "          const dataTable =\n",
              "            await google.colab.kernel.invokeFunction('convertToInteractive',\n",
              "                                                     [key], {});\n",
              "          if (!dataTable) return;\n",
              "\n",
              "          const docLinkHtml = 'Like what you see? Visit the ' +\n",
              "            '<a target=\"_blank\" href=https://colab.research.google.com/notebooks/data_table.ipynb>data table notebook</a>'\n",
              "            + ' to learn more about interactive tables.';\n",
              "          element.innerHTML = '';\n",
              "          dataTable['output_type'] = 'display_data';\n",
              "          await google.colab.output.renderOutput(dataTable, element);\n",
              "          const docLink = document.createElement('div');\n",
              "          docLink.innerHTML = docLinkHtml;\n",
              "          element.appendChild(docLink);\n",
              "        }\n",
              "      </script>\n",
              "    </div>\n",
              "  </div>\n",
              "  "
            ]
          },
          "metadata": {},
          "execution_count": 34
        }
      ]
    },
    {
      "cell_type": "code",
      "source": [
        "pd.json_normalize(\n",
        "    foodDataSet_json, \n",
        "    record_path =['portions'],\n",
        "    meta=['id','description'],\n",
        ")"
      ],
      "metadata": {
        "colab": {
          "base_uri": "https://localhost:8080/",
          "height": 423
        },
        "id": "n2j5Q7pZYniC",
        "outputId": "3dfba9bb-069a-47f2-99df-12e73a72f26e"
      },
      "execution_count": 35,
      "outputs": [
        {
          "output_type": "execute_result",
          "data": {
            "text/plain": [
              "       amount                                 unit   grams     id  \\\n",
              "0           1                                   oz   28.35   1008   \n",
              "1           1                           cup, diced  132.00   1009   \n",
              "2           2                          cup, melted  244.00   1009   \n",
              "3           3                        cup, shredded  113.00   1009   \n",
              "4           4                                   oz   28.35   1009   \n",
              "...       ...                                  ...     ...    ...   \n",
              "11140       3  jar Beech-Nut Baby's First (2.5 oz)   71.00  43546   \n",
              "11141       4         jar Beech-Nut Stage I (4 oz)  113.00  43546   \n",
              "11142       5      jar Gerber First Foods (2.5 oz)   71.00  43546   \n",
              "11143       6            jar Earth's Best (4.5 oz)  128.00  43546   \n",
              "11144       7        jar Heinz Beginner-1 (2.5 oz)   71.00  43546   \n",
              "\n",
              "                                 description  \n",
              "0                            Cheese, caraway  \n",
              "1                            Cheese, cheddar  \n",
              "2                            Cheese, cheddar  \n",
              "3                            Cheese, cheddar  \n",
              "4                            Cheese, cheddar  \n",
              "...                                      ...  \n",
              "11140  Babyfood, banana no tapioca, strained  \n",
              "11141  Babyfood, banana no tapioca, strained  \n",
              "11142  Babyfood, banana no tapioca, strained  \n",
              "11143  Babyfood, banana no tapioca, strained  \n",
              "11144  Babyfood, banana no tapioca, strained  \n",
              "\n",
              "[11145 rows x 5 columns]"
            ],
            "text/html": [
              "\n",
              "  <div id=\"df-01135b86-21ab-4873-9234-056e6c726b11\">\n",
              "    <div class=\"colab-df-container\">\n",
              "      <div>\n",
              "<style scoped>\n",
              "    .dataframe tbody tr th:only-of-type {\n",
              "        vertical-align: middle;\n",
              "    }\n",
              "\n",
              "    .dataframe tbody tr th {\n",
              "        vertical-align: top;\n",
              "    }\n",
              "\n",
              "    .dataframe thead th {\n",
              "        text-align: right;\n",
              "    }\n",
              "</style>\n",
              "<table border=\"1\" class=\"dataframe\">\n",
              "  <thead>\n",
              "    <tr style=\"text-align: right;\">\n",
              "      <th></th>\n",
              "      <th>amount</th>\n",
              "      <th>unit</th>\n",
              "      <th>grams</th>\n",
              "      <th>id</th>\n",
              "      <th>description</th>\n",
              "    </tr>\n",
              "  </thead>\n",
              "  <tbody>\n",
              "    <tr>\n",
              "      <th>0</th>\n",
              "      <td>1</td>\n",
              "      <td>oz</td>\n",
              "      <td>28.35</td>\n",
              "      <td>1008</td>\n",
              "      <td>Cheese, caraway</td>\n",
              "    </tr>\n",
              "    <tr>\n",
              "      <th>1</th>\n",
              "      <td>1</td>\n",
              "      <td>cup, diced</td>\n",
              "      <td>132.00</td>\n",
              "      <td>1009</td>\n",
              "      <td>Cheese, cheddar</td>\n",
              "    </tr>\n",
              "    <tr>\n",
              "      <th>2</th>\n",
              "      <td>2</td>\n",
              "      <td>cup, melted</td>\n",
              "      <td>244.00</td>\n",
              "      <td>1009</td>\n",
              "      <td>Cheese, cheddar</td>\n",
              "    </tr>\n",
              "    <tr>\n",
              "      <th>3</th>\n",
              "      <td>3</td>\n",
              "      <td>cup, shredded</td>\n",
              "      <td>113.00</td>\n",
              "      <td>1009</td>\n",
              "      <td>Cheese, cheddar</td>\n",
              "    </tr>\n",
              "    <tr>\n",
              "      <th>4</th>\n",
              "      <td>4</td>\n",
              "      <td>oz</td>\n",
              "      <td>28.35</td>\n",
              "      <td>1009</td>\n",
              "      <td>Cheese, cheddar</td>\n",
              "    </tr>\n",
              "    <tr>\n",
              "      <th>...</th>\n",
              "      <td>...</td>\n",
              "      <td>...</td>\n",
              "      <td>...</td>\n",
              "      <td>...</td>\n",
              "      <td>...</td>\n",
              "    </tr>\n",
              "    <tr>\n",
              "      <th>11140</th>\n",
              "      <td>3</td>\n",
              "      <td>jar Beech-Nut Baby's First (2.5 oz)</td>\n",
              "      <td>71.00</td>\n",
              "      <td>43546</td>\n",
              "      <td>Babyfood, banana no tapioca, strained</td>\n",
              "    </tr>\n",
              "    <tr>\n",
              "      <th>11141</th>\n",
              "      <td>4</td>\n",
              "      <td>jar Beech-Nut Stage I (4 oz)</td>\n",
              "      <td>113.00</td>\n",
              "      <td>43546</td>\n",
              "      <td>Babyfood, banana no tapioca, strained</td>\n",
              "    </tr>\n",
              "    <tr>\n",
              "      <th>11142</th>\n",
              "      <td>5</td>\n",
              "      <td>jar Gerber First Foods (2.5 oz)</td>\n",
              "      <td>71.00</td>\n",
              "      <td>43546</td>\n",
              "      <td>Babyfood, banana no tapioca, strained</td>\n",
              "    </tr>\n",
              "    <tr>\n",
              "      <th>11143</th>\n",
              "      <td>6</td>\n",
              "      <td>jar Earth's Best (4.5 oz)</td>\n",
              "      <td>128.00</td>\n",
              "      <td>43546</td>\n",
              "      <td>Babyfood, banana no tapioca, strained</td>\n",
              "    </tr>\n",
              "    <tr>\n",
              "      <th>11144</th>\n",
              "      <td>7</td>\n",
              "      <td>jar Heinz Beginner-1 (2.5 oz)</td>\n",
              "      <td>71.00</td>\n",
              "      <td>43546</td>\n",
              "      <td>Babyfood, banana no tapioca, strained</td>\n",
              "    </tr>\n",
              "  </tbody>\n",
              "</table>\n",
              "<p>11145 rows × 5 columns</p>\n",
              "</div>\n",
              "      <button class=\"colab-df-convert\" onclick=\"convertToInteractive('df-01135b86-21ab-4873-9234-056e6c726b11')\"\n",
              "              title=\"Convert this dataframe to an interactive table.\"\n",
              "              style=\"display:none;\">\n",
              "        \n",
              "  <svg xmlns=\"http://www.w3.org/2000/svg\" height=\"24px\"viewBox=\"0 0 24 24\"\n",
              "       width=\"24px\">\n",
              "    <path d=\"M0 0h24v24H0V0z\" fill=\"none\"/>\n",
              "    <path d=\"M18.56 5.44l.94 2.06.94-2.06 2.06-.94-2.06-.94-.94-2.06-.94 2.06-2.06.94zm-11 1L8.5 8.5l.94-2.06 2.06-.94-2.06-.94L8.5 2.5l-.94 2.06-2.06.94zm10 10l.94 2.06.94-2.06 2.06-.94-2.06-.94-.94-2.06-.94 2.06-2.06.94z\"/><path d=\"M17.41 7.96l-1.37-1.37c-.4-.4-.92-.59-1.43-.59-.52 0-1.04.2-1.43.59L10.3 9.45l-7.72 7.72c-.78.78-.78 2.05 0 2.83L4 21.41c.39.39.9.59 1.41.59.51 0 1.02-.2 1.41-.59l7.78-7.78 2.81-2.81c.8-.78.8-2.07 0-2.86zM5.41 20L4 18.59l7.72-7.72 1.47 1.35L5.41 20z\"/>\n",
              "  </svg>\n",
              "      </button>\n",
              "      \n",
              "  <style>\n",
              "    .colab-df-container {\n",
              "      display:flex;\n",
              "      flex-wrap:wrap;\n",
              "      gap: 12px;\n",
              "    }\n",
              "\n",
              "    .colab-df-convert {\n",
              "      background-color: #E8F0FE;\n",
              "      border: none;\n",
              "      border-radius: 50%;\n",
              "      cursor: pointer;\n",
              "      display: none;\n",
              "      fill: #1967D2;\n",
              "      height: 32px;\n",
              "      padding: 0 0 0 0;\n",
              "      width: 32px;\n",
              "    }\n",
              "\n",
              "    .colab-df-convert:hover {\n",
              "      background-color: #E2EBFA;\n",
              "      box-shadow: 0px 1px 2px rgba(60, 64, 67, 0.3), 0px 1px 3px 1px rgba(60, 64, 67, 0.15);\n",
              "      fill: #174EA6;\n",
              "    }\n",
              "\n",
              "    [theme=dark] .colab-df-convert {\n",
              "      background-color: #3B4455;\n",
              "      fill: #D2E3FC;\n",
              "    }\n",
              "\n",
              "    [theme=dark] .colab-df-convert:hover {\n",
              "      background-color: #434B5C;\n",
              "      box-shadow: 0px 1px 3px 1px rgba(0, 0, 0, 0.15);\n",
              "      filter: drop-shadow(0px 1px 2px rgba(0, 0, 0, 0.3));\n",
              "      fill: #FFFFFF;\n",
              "    }\n",
              "  </style>\n",
              "\n",
              "      <script>\n",
              "        const buttonEl =\n",
              "          document.querySelector('#df-01135b86-21ab-4873-9234-056e6c726b11 button.colab-df-convert');\n",
              "        buttonEl.style.display =\n",
              "          google.colab.kernel.accessAllowed ? 'block' : 'none';\n",
              "\n",
              "        async function convertToInteractive(key) {\n",
              "          const element = document.querySelector('#df-01135b86-21ab-4873-9234-056e6c726b11');\n",
              "          const dataTable =\n",
              "            await google.colab.kernel.invokeFunction('convertToInteractive',\n",
              "                                                     [key], {});\n",
              "          if (!dataTable) return;\n",
              "\n",
              "          const docLinkHtml = 'Like what you see? Visit the ' +\n",
              "            '<a target=\"_blank\" href=https://colab.research.google.com/notebooks/data_table.ipynb>data table notebook</a>'\n",
              "            + ' to learn more about interactive tables.';\n",
              "          element.innerHTML = '';\n",
              "          dataTable['output_type'] = 'display_data';\n",
              "          await google.colab.output.renderOutput(dataTable, element);\n",
              "          const docLink = document.createElement('div');\n",
              "          docLink.innerHTML = docLinkHtml;\n",
              "          element.appendChild(docLink);\n",
              "        }\n",
              "      </script>\n",
              "    </div>\n",
              "  </div>\n",
              "  "
            ]
          },
          "metadata": {},
          "execution_count": 35
        }
      ]
    },
    {
      "cell_type": "code",
      "source": [
        "foodPortionsDataFrame=pd.json_normalize(\n",
        "    foodDataSet_json, \n",
        "    record_path =['portions'],\n",
        "    meta=['id','description'],\n",
        ")"
      ],
      "metadata": {
        "id": "tgGhil52Ynfu"
      },
      "execution_count": 36,
      "outputs": []
    },
    {
      "cell_type": "code",
      "source": [
        "foodPortionsDataFrame"
      ],
      "metadata": {
        "colab": {
          "base_uri": "https://localhost:8080/",
          "height": 423
        },
        "id": "JKSr5mP7YndY",
        "outputId": "ca6a0167-4755-4fcb-c134-4f638a5eb83e"
      },
      "execution_count": 37,
      "outputs": [
        {
          "output_type": "execute_result",
          "data": {
            "text/plain": [
              "       amount                                 unit   grams     id  \\\n",
              "0           1                                   oz   28.35   1008   \n",
              "1           1                           cup, diced  132.00   1009   \n",
              "2           2                          cup, melted  244.00   1009   \n",
              "3           3                        cup, shredded  113.00   1009   \n",
              "4           4                                   oz   28.35   1009   \n",
              "...       ...                                  ...     ...    ...   \n",
              "11140       3  jar Beech-Nut Baby's First (2.5 oz)   71.00  43546   \n",
              "11141       4         jar Beech-Nut Stage I (4 oz)  113.00  43546   \n",
              "11142       5      jar Gerber First Foods (2.5 oz)   71.00  43546   \n",
              "11143       6            jar Earth's Best (4.5 oz)  128.00  43546   \n",
              "11144       7        jar Heinz Beginner-1 (2.5 oz)   71.00  43546   \n",
              "\n",
              "                                 description  \n",
              "0                            Cheese, caraway  \n",
              "1                            Cheese, cheddar  \n",
              "2                            Cheese, cheddar  \n",
              "3                            Cheese, cheddar  \n",
              "4                            Cheese, cheddar  \n",
              "...                                      ...  \n",
              "11140  Babyfood, banana no tapioca, strained  \n",
              "11141  Babyfood, banana no tapioca, strained  \n",
              "11142  Babyfood, banana no tapioca, strained  \n",
              "11143  Babyfood, banana no tapioca, strained  \n",
              "11144  Babyfood, banana no tapioca, strained  \n",
              "\n",
              "[11145 rows x 5 columns]"
            ],
            "text/html": [
              "\n",
              "  <div id=\"df-2410308e-883c-4556-97ea-8e8f49d1960f\">\n",
              "    <div class=\"colab-df-container\">\n",
              "      <div>\n",
              "<style scoped>\n",
              "    .dataframe tbody tr th:only-of-type {\n",
              "        vertical-align: middle;\n",
              "    }\n",
              "\n",
              "    .dataframe tbody tr th {\n",
              "        vertical-align: top;\n",
              "    }\n",
              "\n",
              "    .dataframe thead th {\n",
              "        text-align: right;\n",
              "    }\n",
              "</style>\n",
              "<table border=\"1\" class=\"dataframe\">\n",
              "  <thead>\n",
              "    <tr style=\"text-align: right;\">\n",
              "      <th></th>\n",
              "      <th>amount</th>\n",
              "      <th>unit</th>\n",
              "      <th>grams</th>\n",
              "      <th>id</th>\n",
              "      <th>description</th>\n",
              "    </tr>\n",
              "  </thead>\n",
              "  <tbody>\n",
              "    <tr>\n",
              "      <th>0</th>\n",
              "      <td>1</td>\n",
              "      <td>oz</td>\n",
              "      <td>28.35</td>\n",
              "      <td>1008</td>\n",
              "      <td>Cheese, caraway</td>\n",
              "    </tr>\n",
              "    <tr>\n",
              "      <th>1</th>\n",
              "      <td>1</td>\n",
              "      <td>cup, diced</td>\n",
              "      <td>132.00</td>\n",
              "      <td>1009</td>\n",
              "      <td>Cheese, cheddar</td>\n",
              "    </tr>\n",
              "    <tr>\n",
              "      <th>2</th>\n",
              "      <td>2</td>\n",
              "      <td>cup, melted</td>\n",
              "      <td>244.00</td>\n",
              "      <td>1009</td>\n",
              "      <td>Cheese, cheddar</td>\n",
              "    </tr>\n",
              "    <tr>\n",
              "      <th>3</th>\n",
              "      <td>3</td>\n",
              "      <td>cup, shredded</td>\n",
              "      <td>113.00</td>\n",
              "      <td>1009</td>\n",
              "      <td>Cheese, cheddar</td>\n",
              "    </tr>\n",
              "    <tr>\n",
              "      <th>4</th>\n",
              "      <td>4</td>\n",
              "      <td>oz</td>\n",
              "      <td>28.35</td>\n",
              "      <td>1009</td>\n",
              "      <td>Cheese, cheddar</td>\n",
              "    </tr>\n",
              "    <tr>\n",
              "      <th>...</th>\n",
              "      <td>...</td>\n",
              "      <td>...</td>\n",
              "      <td>...</td>\n",
              "      <td>...</td>\n",
              "      <td>...</td>\n",
              "    </tr>\n",
              "    <tr>\n",
              "      <th>11140</th>\n",
              "      <td>3</td>\n",
              "      <td>jar Beech-Nut Baby's First (2.5 oz)</td>\n",
              "      <td>71.00</td>\n",
              "      <td>43546</td>\n",
              "      <td>Babyfood, banana no tapioca, strained</td>\n",
              "    </tr>\n",
              "    <tr>\n",
              "      <th>11141</th>\n",
              "      <td>4</td>\n",
              "      <td>jar Beech-Nut Stage I (4 oz)</td>\n",
              "      <td>113.00</td>\n",
              "      <td>43546</td>\n",
              "      <td>Babyfood, banana no tapioca, strained</td>\n",
              "    </tr>\n",
              "    <tr>\n",
              "      <th>11142</th>\n",
              "      <td>5</td>\n",
              "      <td>jar Gerber First Foods (2.5 oz)</td>\n",
              "      <td>71.00</td>\n",
              "      <td>43546</td>\n",
              "      <td>Babyfood, banana no tapioca, strained</td>\n",
              "    </tr>\n",
              "    <tr>\n",
              "      <th>11143</th>\n",
              "      <td>6</td>\n",
              "      <td>jar Earth's Best (4.5 oz)</td>\n",
              "      <td>128.00</td>\n",
              "      <td>43546</td>\n",
              "      <td>Babyfood, banana no tapioca, strained</td>\n",
              "    </tr>\n",
              "    <tr>\n",
              "      <th>11144</th>\n",
              "      <td>7</td>\n",
              "      <td>jar Heinz Beginner-1 (2.5 oz)</td>\n",
              "      <td>71.00</td>\n",
              "      <td>43546</td>\n",
              "      <td>Babyfood, banana no tapioca, strained</td>\n",
              "    </tr>\n",
              "  </tbody>\n",
              "</table>\n",
              "<p>11145 rows × 5 columns</p>\n",
              "</div>\n",
              "      <button class=\"colab-df-convert\" onclick=\"convertToInteractive('df-2410308e-883c-4556-97ea-8e8f49d1960f')\"\n",
              "              title=\"Convert this dataframe to an interactive table.\"\n",
              "              style=\"display:none;\">\n",
              "        \n",
              "  <svg xmlns=\"http://www.w3.org/2000/svg\" height=\"24px\"viewBox=\"0 0 24 24\"\n",
              "       width=\"24px\">\n",
              "    <path d=\"M0 0h24v24H0V0z\" fill=\"none\"/>\n",
              "    <path d=\"M18.56 5.44l.94 2.06.94-2.06 2.06-.94-2.06-.94-.94-2.06-.94 2.06-2.06.94zm-11 1L8.5 8.5l.94-2.06 2.06-.94-2.06-.94L8.5 2.5l-.94 2.06-2.06.94zm10 10l.94 2.06.94-2.06 2.06-.94-2.06-.94-.94-2.06-.94 2.06-2.06.94z\"/><path d=\"M17.41 7.96l-1.37-1.37c-.4-.4-.92-.59-1.43-.59-.52 0-1.04.2-1.43.59L10.3 9.45l-7.72 7.72c-.78.78-.78 2.05 0 2.83L4 21.41c.39.39.9.59 1.41.59.51 0 1.02-.2 1.41-.59l7.78-7.78 2.81-2.81c.8-.78.8-2.07 0-2.86zM5.41 20L4 18.59l7.72-7.72 1.47 1.35L5.41 20z\"/>\n",
              "  </svg>\n",
              "      </button>\n",
              "      \n",
              "  <style>\n",
              "    .colab-df-container {\n",
              "      display:flex;\n",
              "      flex-wrap:wrap;\n",
              "      gap: 12px;\n",
              "    }\n",
              "\n",
              "    .colab-df-convert {\n",
              "      background-color: #E8F0FE;\n",
              "      border: none;\n",
              "      border-radius: 50%;\n",
              "      cursor: pointer;\n",
              "      display: none;\n",
              "      fill: #1967D2;\n",
              "      height: 32px;\n",
              "      padding: 0 0 0 0;\n",
              "      width: 32px;\n",
              "    }\n",
              "\n",
              "    .colab-df-convert:hover {\n",
              "      background-color: #E2EBFA;\n",
              "      box-shadow: 0px 1px 2px rgba(60, 64, 67, 0.3), 0px 1px 3px 1px rgba(60, 64, 67, 0.15);\n",
              "      fill: #174EA6;\n",
              "    }\n",
              "\n",
              "    [theme=dark] .colab-df-convert {\n",
              "      background-color: #3B4455;\n",
              "      fill: #D2E3FC;\n",
              "    }\n",
              "\n",
              "    [theme=dark] .colab-df-convert:hover {\n",
              "      background-color: #434B5C;\n",
              "      box-shadow: 0px 1px 3px 1px rgba(0, 0, 0, 0.15);\n",
              "      filter: drop-shadow(0px 1px 2px rgba(0, 0, 0, 0.3));\n",
              "      fill: #FFFFFF;\n",
              "    }\n",
              "  </style>\n",
              "\n",
              "      <script>\n",
              "        const buttonEl =\n",
              "          document.querySelector('#df-2410308e-883c-4556-97ea-8e8f49d1960f button.colab-df-convert');\n",
              "        buttonEl.style.display =\n",
              "          google.colab.kernel.accessAllowed ? 'block' : 'none';\n",
              "\n",
              "        async function convertToInteractive(key) {\n",
              "          const element = document.querySelector('#df-2410308e-883c-4556-97ea-8e8f49d1960f');\n",
              "          const dataTable =\n",
              "            await google.colab.kernel.invokeFunction('convertToInteractive',\n",
              "                                                     [key], {});\n",
              "          if (!dataTable) return;\n",
              "\n",
              "          const docLinkHtml = 'Like what you see? Visit the ' +\n",
              "            '<a target=\"_blank\" href=https://colab.research.google.com/notebooks/data_table.ipynb>data table notebook</a>'\n",
              "            + ' to learn more about interactive tables.';\n",
              "          element.innerHTML = '';\n",
              "          dataTable['output_type'] = 'display_data';\n",
              "          await google.colab.output.renderOutput(dataTable, element);\n",
              "          const docLink = document.createElement('div');\n",
              "          docLink.innerHTML = docLinkHtml;\n",
              "          element.appendChild(docLink);\n",
              "        }\n",
              "      </script>\n",
              "    </div>\n",
              "  </div>\n",
              "  "
            ]
          },
          "metadata": {},
          "execution_count": 37
        }
      ]
    },
    {
      "cell_type": "code",
      "source": [],
      "metadata": {
        "id": "E0k2ghpWYnaf"
      },
      "execution_count": 37,
      "outputs": []
    },
    {
      "cell_type": "code",
      "source": [],
      "metadata": {
        "id": "v5AENO2FYnX7"
      },
      "execution_count": 37,
      "outputs": []
    },
    {
      "cell_type": "markdown",
      "source": [
        "### Let's extract nutrients"
      ],
      "metadata": {
        "id": "y-gOdUq4ecIl"
      }
    },
    {
      "cell_type": "code",
      "source": [],
      "metadata": {
        "id": "swXdipgzgc2P"
      },
      "execution_count": 37,
      "outputs": []
    },
    {
      "cell_type": "code",
      "source": [],
      "metadata": {
        "id": "AUONbmxZgcy4"
      },
      "execution_count": 37,
      "outputs": []
    },
    {
      "cell_type": "code",
      "source": [
        "# Flatten nutrients\n",
        "pd.json_normalize(foodDataSet_json, record_path=['nutrients'])"
      ],
      "metadata": {
        "colab": {
          "base_uri": "https://localhost:8080/",
          "height": 423
        },
        "id": "cu7pwmTIeeXQ",
        "outputId": "e0c093f8-99f4-4aee-ebc4-491aaab2a0d4"
      },
      "execution_count": 38,
      "outputs": [
        {
          "output_type": "execute_result",
          "data": {
            "text/plain": [
              "          value units                         description        group\n",
              "0        25.180     g                             Protein  Composition\n",
              "1        29.200     g                   Total lipid (fat)  Composition\n",
              "2         3.060     g         Carbohydrate, by difference  Composition\n",
              "3         3.280     g                                 Ash        Other\n",
              "4       376.000  kcal                              Energy       Energy\n",
              "...         ...   ...                                 ...          ...\n",
              "389350    0.000   mcg                 Vitamin B-12, added     Vitamins\n",
              "389351    0.000    mg                         Cholesterol        Other\n",
              "389352    0.072     g        Fatty acids, total saturated        Other\n",
              "389353    0.028     g  Fatty acids, total monounsaturated        Other\n",
              "389354    0.041     g  Fatty acids, total polyunsaturated        Other\n",
              "\n",
              "[389355 rows x 4 columns]"
            ],
            "text/html": [
              "\n",
              "  <div id=\"df-f4962a39-3d4d-432b-b4fc-cdf477526feb\">\n",
              "    <div class=\"colab-df-container\">\n",
              "      <div>\n",
              "<style scoped>\n",
              "    .dataframe tbody tr th:only-of-type {\n",
              "        vertical-align: middle;\n",
              "    }\n",
              "\n",
              "    .dataframe tbody tr th {\n",
              "        vertical-align: top;\n",
              "    }\n",
              "\n",
              "    .dataframe thead th {\n",
              "        text-align: right;\n",
              "    }\n",
              "</style>\n",
              "<table border=\"1\" class=\"dataframe\">\n",
              "  <thead>\n",
              "    <tr style=\"text-align: right;\">\n",
              "      <th></th>\n",
              "      <th>value</th>\n",
              "      <th>units</th>\n",
              "      <th>description</th>\n",
              "      <th>group</th>\n",
              "    </tr>\n",
              "  </thead>\n",
              "  <tbody>\n",
              "    <tr>\n",
              "      <th>0</th>\n",
              "      <td>25.180</td>\n",
              "      <td>g</td>\n",
              "      <td>Protein</td>\n",
              "      <td>Composition</td>\n",
              "    </tr>\n",
              "    <tr>\n",
              "      <th>1</th>\n",
              "      <td>29.200</td>\n",
              "      <td>g</td>\n",
              "      <td>Total lipid (fat)</td>\n",
              "      <td>Composition</td>\n",
              "    </tr>\n",
              "    <tr>\n",
              "      <th>2</th>\n",
              "      <td>3.060</td>\n",
              "      <td>g</td>\n",
              "      <td>Carbohydrate, by difference</td>\n",
              "      <td>Composition</td>\n",
              "    </tr>\n",
              "    <tr>\n",
              "      <th>3</th>\n",
              "      <td>3.280</td>\n",
              "      <td>g</td>\n",
              "      <td>Ash</td>\n",
              "      <td>Other</td>\n",
              "    </tr>\n",
              "    <tr>\n",
              "      <th>4</th>\n",
              "      <td>376.000</td>\n",
              "      <td>kcal</td>\n",
              "      <td>Energy</td>\n",
              "      <td>Energy</td>\n",
              "    </tr>\n",
              "    <tr>\n",
              "      <th>...</th>\n",
              "      <td>...</td>\n",
              "      <td>...</td>\n",
              "      <td>...</td>\n",
              "      <td>...</td>\n",
              "    </tr>\n",
              "    <tr>\n",
              "      <th>389350</th>\n",
              "      <td>0.000</td>\n",
              "      <td>mcg</td>\n",
              "      <td>Vitamin B-12, added</td>\n",
              "      <td>Vitamins</td>\n",
              "    </tr>\n",
              "    <tr>\n",
              "      <th>389351</th>\n",
              "      <td>0.000</td>\n",
              "      <td>mg</td>\n",
              "      <td>Cholesterol</td>\n",
              "      <td>Other</td>\n",
              "    </tr>\n",
              "    <tr>\n",
              "      <th>389352</th>\n",
              "      <td>0.072</td>\n",
              "      <td>g</td>\n",
              "      <td>Fatty acids, total saturated</td>\n",
              "      <td>Other</td>\n",
              "    </tr>\n",
              "    <tr>\n",
              "      <th>389353</th>\n",
              "      <td>0.028</td>\n",
              "      <td>g</td>\n",
              "      <td>Fatty acids, total monounsaturated</td>\n",
              "      <td>Other</td>\n",
              "    </tr>\n",
              "    <tr>\n",
              "      <th>389354</th>\n",
              "      <td>0.041</td>\n",
              "      <td>g</td>\n",
              "      <td>Fatty acids, total polyunsaturated</td>\n",
              "      <td>Other</td>\n",
              "    </tr>\n",
              "  </tbody>\n",
              "</table>\n",
              "<p>389355 rows × 4 columns</p>\n",
              "</div>\n",
              "      <button class=\"colab-df-convert\" onclick=\"convertToInteractive('df-f4962a39-3d4d-432b-b4fc-cdf477526feb')\"\n",
              "              title=\"Convert this dataframe to an interactive table.\"\n",
              "              style=\"display:none;\">\n",
              "        \n",
              "  <svg xmlns=\"http://www.w3.org/2000/svg\" height=\"24px\"viewBox=\"0 0 24 24\"\n",
              "       width=\"24px\">\n",
              "    <path d=\"M0 0h24v24H0V0z\" fill=\"none\"/>\n",
              "    <path d=\"M18.56 5.44l.94 2.06.94-2.06 2.06-.94-2.06-.94-.94-2.06-.94 2.06-2.06.94zm-11 1L8.5 8.5l.94-2.06 2.06-.94-2.06-.94L8.5 2.5l-.94 2.06-2.06.94zm10 10l.94 2.06.94-2.06 2.06-.94-2.06-.94-.94-2.06-.94 2.06-2.06.94z\"/><path d=\"M17.41 7.96l-1.37-1.37c-.4-.4-.92-.59-1.43-.59-.52 0-1.04.2-1.43.59L10.3 9.45l-7.72 7.72c-.78.78-.78 2.05 0 2.83L4 21.41c.39.39.9.59 1.41.59.51 0 1.02-.2 1.41-.59l7.78-7.78 2.81-2.81c.8-.78.8-2.07 0-2.86zM5.41 20L4 18.59l7.72-7.72 1.47 1.35L5.41 20z\"/>\n",
              "  </svg>\n",
              "      </button>\n",
              "      \n",
              "  <style>\n",
              "    .colab-df-container {\n",
              "      display:flex;\n",
              "      flex-wrap:wrap;\n",
              "      gap: 12px;\n",
              "    }\n",
              "\n",
              "    .colab-df-convert {\n",
              "      background-color: #E8F0FE;\n",
              "      border: none;\n",
              "      border-radius: 50%;\n",
              "      cursor: pointer;\n",
              "      display: none;\n",
              "      fill: #1967D2;\n",
              "      height: 32px;\n",
              "      padding: 0 0 0 0;\n",
              "      width: 32px;\n",
              "    }\n",
              "\n",
              "    .colab-df-convert:hover {\n",
              "      background-color: #E2EBFA;\n",
              "      box-shadow: 0px 1px 2px rgba(60, 64, 67, 0.3), 0px 1px 3px 1px rgba(60, 64, 67, 0.15);\n",
              "      fill: #174EA6;\n",
              "    }\n",
              "\n",
              "    [theme=dark] .colab-df-convert {\n",
              "      background-color: #3B4455;\n",
              "      fill: #D2E3FC;\n",
              "    }\n",
              "\n",
              "    [theme=dark] .colab-df-convert:hover {\n",
              "      background-color: #434B5C;\n",
              "      box-shadow: 0px 1px 3px 1px rgba(0, 0, 0, 0.15);\n",
              "      filter: drop-shadow(0px 1px 2px rgba(0, 0, 0, 0.3));\n",
              "      fill: #FFFFFF;\n",
              "    }\n",
              "  </style>\n",
              "\n",
              "      <script>\n",
              "        const buttonEl =\n",
              "          document.querySelector('#df-f4962a39-3d4d-432b-b4fc-cdf477526feb button.colab-df-convert');\n",
              "        buttonEl.style.display =\n",
              "          google.colab.kernel.accessAllowed ? 'block' : 'none';\n",
              "\n",
              "        async function convertToInteractive(key) {\n",
              "          const element = document.querySelector('#df-f4962a39-3d4d-432b-b4fc-cdf477526feb');\n",
              "          const dataTable =\n",
              "            await google.colab.kernel.invokeFunction('convertToInteractive',\n",
              "                                                     [key], {});\n",
              "          if (!dataTable) return;\n",
              "\n",
              "          const docLinkHtml = 'Like what you see? Visit the ' +\n",
              "            '<a target=\"_blank\" href=https://colab.research.google.com/notebooks/data_table.ipynb>data table notebook</a>'\n",
              "            + ' to learn more about interactive tables.';\n",
              "          element.innerHTML = '';\n",
              "          dataTable['output_type'] = 'display_data';\n",
              "          await google.colab.output.renderOutput(dataTable, element);\n",
              "          const docLink = document.createElement('div');\n",
              "          docLink.innerHTML = docLinkHtml;\n",
              "          element.appendChild(docLink);\n",
              "        }\n",
              "      </script>\n",
              "    </div>\n",
              "  </div>\n",
              "  "
            ]
          },
          "metadata": {},
          "execution_count": 38
        }
      ]
    },
    {
      "cell_type": "code",
      "source": [
        "foodNutrientsDataFrame=pd.json_normalize(\n",
        "    foodDataSet_json, \n",
        "    record_path =['nutrients'],\n",
        "    meta=['id'],\n",
        ")"
      ],
      "metadata": {
        "id": "1qy1iPLqep6A"
      },
      "execution_count": 39,
      "outputs": []
    },
    {
      "cell_type": "code",
      "source": [
        "foodNutrientsDataFrame"
      ],
      "metadata": {
        "colab": {
          "base_uri": "https://localhost:8080/",
          "height": 423
        },
        "id": "OzG0Iq9JfM0c",
        "outputId": "f4ac28f0-eb96-4427-fa18-bc22002a1ed5"
      },
      "execution_count": 40,
      "outputs": [
        {
          "output_type": "execute_result",
          "data": {
            "text/plain": [
              "          value units                         description        group     id\n",
              "0        25.180     g                             Protein  Composition   1008\n",
              "1        29.200     g                   Total lipid (fat)  Composition   1008\n",
              "2         3.060     g         Carbohydrate, by difference  Composition   1008\n",
              "3         3.280     g                                 Ash        Other   1008\n",
              "4       376.000  kcal                              Energy       Energy   1008\n",
              "...         ...   ...                                 ...          ...    ...\n",
              "389350    0.000   mcg                 Vitamin B-12, added     Vitamins  43546\n",
              "389351    0.000    mg                         Cholesterol        Other  43546\n",
              "389352    0.072     g        Fatty acids, total saturated        Other  43546\n",
              "389353    0.028     g  Fatty acids, total monounsaturated        Other  43546\n",
              "389354    0.041     g  Fatty acids, total polyunsaturated        Other  43546\n",
              "\n",
              "[389355 rows x 5 columns]"
            ],
            "text/html": [
              "\n",
              "  <div id=\"df-1214aa73-77ed-4020-b939-291ef9bb65cd\">\n",
              "    <div class=\"colab-df-container\">\n",
              "      <div>\n",
              "<style scoped>\n",
              "    .dataframe tbody tr th:only-of-type {\n",
              "        vertical-align: middle;\n",
              "    }\n",
              "\n",
              "    .dataframe tbody tr th {\n",
              "        vertical-align: top;\n",
              "    }\n",
              "\n",
              "    .dataframe thead th {\n",
              "        text-align: right;\n",
              "    }\n",
              "</style>\n",
              "<table border=\"1\" class=\"dataframe\">\n",
              "  <thead>\n",
              "    <tr style=\"text-align: right;\">\n",
              "      <th></th>\n",
              "      <th>value</th>\n",
              "      <th>units</th>\n",
              "      <th>description</th>\n",
              "      <th>group</th>\n",
              "      <th>id</th>\n",
              "    </tr>\n",
              "  </thead>\n",
              "  <tbody>\n",
              "    <tr>\n",
              "      <th>0</th>\n",
              "      <td>25.180</td>\n",
              "      <td>g</td>\n",
              "      <td>Protein</td>\n",
              "      <td>Composition</td>\n",
              "      <td>1008</td>\n",
              "    </tr>\n",
              "    <tr>\n",
              "      <th>1</th>\n",
              "      <td>29.200</td>\n",
              "      <td>g</td>\n",
              "      <td>Total lipid (fat)</td>\n",
              "      <td>Composition</td>\n",
              "      <td>1008</td>\n",
              "    </tr>\n",
              "    <tr>\n",
              "      <th>2</th>\n",
              "      <td>3.060</td>\n",
              "      <td>g</td>\n",
              "      <td>Carbohydrate, by difference</td>\n",
              "      <td>Composition</td>\n",
              "      <td>1008</td>\n",
              "    </tr>\n",
              "    <tr>\n",
              "      <th>3</th>\n",
              "      <td>3.280</td>\n",
              "      <td>g</td>\n",
              "      <td>Ash</td>\n",
              "      <td>Other</td>\n",
              "      <td>1008</td>\n",
              "    </tr>\n",
              "    <tr>\n",
              "      <th>4</th>\n",
              "      <td>376.000</td>\n",
              "      <td>kcal</td>\n",
              "      <td>Energy</td>\n",
              "      <td>Energy</td>\n",
              "      <td>1008</td>\n",
              "    </tr>\n",
              "    <tr>\n",
              "      <th>...</th>\n",
              "      <td>...</td>\n",
              "      <td>...</td>\n",
              "      <td>...</td>\n",
              "      <td>...</td>\n",
              "      <td>...</td>\n",
              "    </tr>\n",
              "    <tr>\n",
              "      <th>389350</th>\n",
              "      <td>0.000</td>\n",
              "      <td>mcg</td>\n",
              "      <td>Vitamin B-12, added</td>\n",
              "      <td>Vitamins</td>\n",
              "      <td>43546</td>\n",
              "    </tr>\n",
              "    <tr>\n",
              "      <th>389351</th>\n",
              "      <td>0.000</td>\n",
              "      <td>mg</td>\n",
              "      <td>Cholesterol</td>\n",
              "      <td>Other</td>\n",
              "      <td>43546</td>\n",
              "    </tr>\n",
              "    <tr>\n",
              "      <th>389352</th>\n",
              "      <td>0.072</td>\n",
              "      <td>g</td>\n",
              "      <td>Fatty acids, total saturated</td>\n",
              "      <td>Other</td>\n",
              "      <td>43546</td>\n",
              "    </tr>\n",
              "    <tr>\n",
              "      <th>389353</th>\n",
              "      <td>0.028</td>\n",
              "      <td>g</td>\n",
              "      <td>Fatty acids, total monounsaturated</td>\n",
              "      <td>Other</td>\n",
              "      <td>43546</td>\n",
              "    </tr>\n",
              "    <tr>\n",
              "      <th>389354</th>\n",
              "      <td>0.041</td>\n",
              "      <td>g</td>\n",
              "      <td>Fatty acids, total polyunsaturated</td>\n",
              "      <td>Other</td>\n",
              "      <td>43546</td>\n",
              "    </tr>\n",
              "  </tbody>\n",
              "</table>\n",
              "<p>389355 rows × 5 columns</p>\n",
              "</div>\n",
              "      <button class=\"colab-df-convert\" onclick=\"convertToInteractive('df-1214aa73-77ed-4020-b939-291ef9bb65cd')\"\n",
              "              title=\"Convert this dataframe to an interactive table.\"\n",
              "              style=\"display:none;\">\n",
              "        \n",
              "  <svg xmlns=\"http://www.w3.org/2000/svg\" height=\"24px\"viewBox=\"0 0 24 24\"\n",
              "       width=\"24px\">\n",
              "    <path d=\"M0 0h24v24H0V0z\" fill=\"none\"/>\n",
              "    <path d=\"M18.56 5.44l.94 2.06.94-2.06 2.06-.94-2.06-.94-.94-2.06-.94 2.06-2.06.94zm-11 1L8.5 8.5l.94-2.06 2.06-.94-2.06-.94L8.5 2.5l-.94 2.06-2.06.94zm10 10l.94 2.06.94-2.06 2.06-.94-2.06-.94-.94-2.06-.94 2.06-2.06.94z\"/><path d=\"M17.41 7.96l-1.37-1.37c-.4-.4-.92-.59-1.43-.59-.52 0-1.04.2-1.43.59L10.3 9.45l-7.72 7.72c-.78.78-.78 2.05 0 2.83L4 21.41c.39.39.9.59 1.41.59.51 0 1.02-.2 1.41-.59l7.78-7.78 2.81-2.81c.8-.78.8-2.07 0-2.86zM5.41 20L4 18.59l7.72-7.72 1.47 1.35L5.41 20z\"/>\n",
              "  </svg>\n",
              "      </button>\n",
              "      \n",
              "  <style>\n",
              "    .colab-df-container {\n",
              "      display:flex;\n",
              "      flex-wrap:wrap;\n",
              "      gap: 12px;\n",
              "    }\n",
              "\n",
              "    .colab-df-convert {\n",
              "      background-color: #E8F0FE;\n",
              "      border: none;\n",
              "      border-radius: 50%;\n",
              "      cursor: pointer;\n",
              "      display: none;\n",
              "      fill: #1967D2;\n",
              "      height: 32px;\n",
              "      padding: 0 0 0 0;\n",
              "      width: 32px;\n",
              "    }\n",
              "\n",
              "    .colab-df-convert:hover {\n",
              "      background-color: #E2EBFA;\n",
              "      box-shadow: 0px 1px 2px rgba(60, 64, 67, 0.3), 0px 1px 3px 1px rgba(60, 64, 67, 0.15);\n",
              "      fill: #174EA6;\n",
              "    }\n",
              "\n",
              "    [theme=dark] .colab-df-convert {\n",
              "      background-color: #3B4455;\n",
              "      fill: #D2E3FC;\n",
              "    }\n",
              "\n",
              "    [theme=dark] .colab-df-convert:hover {\n",
              "      background-color: #434B5C;\n",
              "      box-shadow: 0px 1px 3px 1px rgba(0, 0, 0, 0.15);\n",
              "      filter: drop-shadow(0px 1px 2px rgba(0, 0, 0, 0.3));\n",
              "      fill: #FFFFFF;\n",
              "    }\n",
              "  </style>\n",
              "\n",
              "      <script>\n",
              "        const buttonEl =\n",
              "          document.querySelector('#df-1214aa73-77ed-4020-b939-291ef9bb65cd button.colab-df-convert');\n",
              "        buttonEl.style.display =\n",
              "          google.colab.kernel.accessAllowed ? 'block' : 'none';\n",
              "\n",
              "        async function convertToInteractive(key) {\n",
              "          const element = document.querySelector('#df-1214aa73-77ed-4020-b939-291ef9bb65cd');\n",
              "          const dataTable =\n",
              "            await google.colab.kernel.invokeFunction('convertToInteractive',\n",
              "                                                     [key], {});\n",
              "          if (!dataTable) return;\n",
              "\n",
              "          const docLinkHtml = 'Like what you see? Visit the ' +\n",
              "            '<a target=\"_blank\" href=https://colab.research.google.com/notebooks/data_table.ipynb>data table notebook</a>'\n",
              "            + ' to learn more about interactive tables.';\n",
              "          element.innerHTML = '';\n",
              "          dataTable['output_type'] = 'display_data';\n",
              "          await google.colab.output.renderOutput(dataTable, element);\n",
              "          const docLink = document.createElement('div');\n",
              "          docLink.innerHTML = docLinkHtml;\n",
              "          element.appendChild(docLink);\n",
              "        }\n",
              "      </script>\n",
              "    </div>\n",
              "  </div>\n",
              "  "
            ]
          },
          "metadata": {},
          "execution_count": 40
        }
      ]
    },
    {
      "cell_type": "code",
      "source": [],
      "metadata": {
        "id": "v83p0I4vkGpH"
      },
      "execution_count": 40,
      "outputs": []
    }
  ]
}