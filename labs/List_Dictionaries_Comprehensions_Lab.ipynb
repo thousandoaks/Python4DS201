{
  "nbformat": 4,
  "nbformat_minor": 0,
  "metadata": {
    "colab": {
      "provenance": [],
      "authorship_tag": "ABX9TyNSzqXROAqegAnBZZJt/WQO"
    },
    "kernelspec": {
      "name": "python3",
      "display_name": "Python 3"
    },
    "language_info": {
      "name": "python"
    }
  },
  "cells": [
    {
      "cell_type": "markdown",
      "source": [
        "# List and Dictionaries Comprehensions Lab\n"
      ],
      "metadata": {
        "id": "9Koy8IdCva-p"
      }
    },
    {
      "cell_type": "markdown",
      "source": [
        "### Intro and objectives\n",
        "#### Learn how to apply comprehensions in data science contexts\n",
        "\n",
        "### In this lab you will learn:\n",
        "1. List comprehensions\n",
        "2. Dictionary comprehensions\n",
        "\n"
      ],
      "metadata": {
        "id": "DiOUGkzJvkIq"
      }
    },
    {
      "cell_type": "code",
      "execution_count": 1,
      "metadata": {
        "id": "31p3EWLtvZq_"
      },
      "outputs": [],
      "source": [
        "import pandas as pd"
      ]
    },
    {
      "cell_type": "markdown",
      "source": [
        "# List Comprehensions\n",
        "\n",
        "#### List comprehensions are a convenient and widely used Python language feature. They allow you to concisely form a new list by filtering the elements of a collection, transforming the elements passing the filter into one concise expression. "
      ],
      "metadata": {
        "id": "aEHpzweDwqTa"
      }
    },
    {
      "cell_type": "code",
      "source": [
        "strings = [\"Hi\", \"Hola\", \"Ni Hao\", \"salut\"]"
      ],
      "metadata": {
        "id": "7d3j9iqkzPV6"
      },
      "execution_count": 2,
      "outputs": []
    },
    {
      "cell_type": "code",
      "source": [
        "[string.upper() for string in strings]"
      ],
      "metadata": {
        "colab": {
          "base_uri": "https://localhost:8080/"
        },
        "id": "T5d94YEpzd51",
        "outputId": "562644ef-e495-4e5c-82b3-a57cab388de6"
      },
      "execution_count": 3,
      "outputs": [
        {
          "output_type": "execute_result",
          "data": {
            "text/plain": [
              "['HI', 'HOLA', 'NI HAO', 'SALUT']"
            ]
          },
          "metadata": {},
          "execution_count": 3
        }
      ]
    },
    {
      "cell_type": "code",
      "source": [
        "[len(string) for string in strings]"
      ],
      "metadata": {
        "colab": {
          "base_uri": "https://localhost:8080/"
        },
        "id": "IehwVa6Qzl-Z",
        "outputId": "f8f25559-e178-401c-9f44-bd4787a1865d"
      },
      "execution_count": 4,
      "outputs": [
        {
          "output_type": "execute_result",
          "data": {
            "text/plain": [
              "[2, 4, 6, 5]"
            ]
          },
          "metadata": {},
          "execution_count": 4
        }
      ]
    },
    {
      "cell_type": "markdown",
      "source": [
        "#### You can even apply a filtering condition to a list comprehension"
      ],
      "metadata": {
        "id": "Bfluq-FOzydA"
      }
    },
    {
      "cell_type": "code",
      "source": [
        "[string.upper() for string in strings if len(string)>4]"
      ],
      "metadata": {
        "colab": {
          "base_uri": "https://localhost:8080/"
        },
        "id": "TEwHBWQ4zsHR",
        "outputId": "219a3953-5664-41bd-9ef2-3f79694bcab5"
      },
      "execution_count": 5,
      "outputs": [
        {
          "output_type": "execute_result",
          "data": {
            "text/plain": [
              "['NI HAO', 'SALUT']"
            ]
          },
          "metadata": {},
          "execution_count": 5
        }
      ]
    },
    {
      "cell_type": "code",
      "source": [],
      "metadata": {
        "id": "8fW0QLPgz9HJ"
      },
      "execution_count": 5,
      "outputs": []
    },
    {
      "cell_type": "markdown",
      "source": [
        "### List comprehensions in Pandas DataFrames\n",
        "#### List comprehensions are quite useful when you need to process lists embedded in Pandas DataFrames"
      ],
      "metadata": {
        "id": "YRaWB4JK0Hec"
      }
    },
    {
      "cell_type": "code",
      "source": [
        "import pandas as pd"
      ],
      "metadata": {
        "id": "Hr7Q9ZDq1Mdx"
      },
      "execution_count": 6,
      "outputs": []
    },
    {
      "cell_type": "code",
      "source": [
        "carsDataFrame=pd.DataFrame({\"brand\": [\"Tesla\", \"Mercedes\", \"BMW\", \"Volkswagen\", \"Toyota\", \"Lexus\"],\n",
        "        \"year\": [2000, 2001, 2002, 2001, 2002, 2003],\n",
        "        \"model\": ['A400', 'GLA', '400','Golf', 'Prius', 'L200'],\n",
        "        \"typesoffuel\":[['electric'],['diesel','petrol','electric'],['diesel','petrol'],['diesel','petrol','electric'],['diesel','petrol','electric'],['diesel','petrol','electric']]                                                })"
      ],
      "metadata": {
        "id": "af7SIEQI0Kzb"
      },
      "execution_count": 7,
      "outputs": []
    },
    {
      "cell_type": "code",
      "source": [
        "carsDataFrame"
      ],
      "metadata": {
        "colab": {
          "base_uri": "https://localhost:8080/",
          "height": 237
        },
        "id": "SYK-fp0G1KA4",
        "outputId": "4d5a2be8-0860-424e-ef17-8dcf8b7a126f"
      },
      "execution_count": 8,
      "outputs": [
        {
          "output_type": "execute_result",
          "data": {
            "text/plain": [
              "        brand  year  model                 typesoffuel\n",
              "0       Tesla  2000   A400                  [electric]\n",
              "1    Mercedes  2001    GLA  [diesel, petrol, electric]\n",
              "2         BMW  2002    400            [diesel, petrol]\n",
              "3  Volkswagen  2001   Golf  [diesel, petrol, electric]\n",
              "4      Toyota  2002  Prius  [diesel, petrol, electric]\n",
              "5       Lexus  2003   L200  [diesel, petrol, electric]"
            ],
            "text/html": [
              "\n",
              "  <div id=\"df-07324c4e-4051-4907-9a72-c454c7defd67\">\n",
              "    <div class=\"colab-df-container\">\n",
              "      <div>\n",
              "<style scoped>\n",
              "    .dataframe tbody tr th:only-of-type {\n",
              "        vertical-align: middle;\n",
              "    }\n",
              "\n",
              "    .dataframe tbody tr th {\n",
              "        vertical-align: top;\n",
              "    }\n",
              "\n",
              "    .dataframe thead th {\n",
              "        text-align: right;\n",
              "    }\n",
              "</style>\n",
              "<table border=\"1\" class=\"dataframe\">\n",
              "  <thead>\n",
              "    <tr style=\"text-align: right;\">\n",
              "      <th></th>\n",
              "      <th>brand</th>\n",
              "      <th>year</th>\n",
              "      <th>model</th>\n",
              "      <th>typesoffuel</th>\n",
              "    </tr>\n",
              "  </thead>\n",
              "  <tbody>\n",
              "    <tr>\n",
              "      <th>0</th>\n",
              "      <td>Tesla</td>\n",
              "      <td>2000</td>\n",
              "      <td>A400</td>\n",
              "      <td>[electric]</td>\n",
              "    </tr>\n",
              "    <tr>\n",
              "      <th>1</th>\n",
              "      <td>Mercedes</td>\n",
              "      <td>2001</td>\n",
              "      <td>GLA</td>\n",
              "      <td>[diesel, petrol, electric]</td>\n",
              "    </tr>\n",
              "    <tr>\n",
              "      <th>2</th>\n",
              "      <td>BMW</td>\n",
              "      <td>2002</td>\n",
              "      <td>400</td>\n",
              "      <td>[diesel, petrol]</td>\n",
              "    </tr>\n",
              "    <tr>\n",
              "      <th>3</th>\n",
              "      <td>Volkswagen</td>\n",
              "      <td>2001</td>\n",
              "      <td>Golf</td>\n",
              "      <td>[diesel, petrol, electric]</td>\n",
              "    </tr>\n",
              "    <tr>\n",
              "      <th>4</th>\n",
              "      <td>Toyota</td>\n",
              "      <td>2002</td>\n",
              "      <td>Prius</td>\n",
              "      <td>[diesel, petrol, electric]</td>\n",
              "    </tr>\n",
              "    <tr>\n",
              "      <th>5</th>\n",
              "      <td>Lexus</td>\n",
              "      <td>2003</td>\n",
              "      <td>L200</td>\n",
              "      <td>[diesel, petrol, electric]</td>\n",
              "    </tr>\n",
              "  </tbody>\n",
              "</table>\n",
              "</div>\n",
              "      <button class=\"colab-df-convert\" onclick=\"convertToInteractive('df-07324c4e-4051-4907-9a72-c454c7defd67')\"\n",
              "              title=\"Convert this dataframe to an interactive table.\"\n",
              "              style=\"display:none;\">\n",
              "        \n",
              "  <svg xmlns=\"http://www.w3.org/2000/svg\" height=\"24px\"viewBox=\"0 0 24 24\"\n",
              "       width=\"24px\">\n",
              "    <path d=\"M0 0h24v24H0V0z\" fill=\"none\"/>\n",
              "    <path d=\"M18.56 5.44l.94 2.06.94-2.06 2.06-.94-2.06-.94-.94-2.06-.94 2.06-2.06.94zm-11 1L8.5 8.5l.94-2.06 2.06-.94-2.06-.94L8.5 2.5l-.94 2.06-2.06.94zm10 10l.94 2.06.94-2.06 2.06-.94-2.06-.94-.94-2.06-.94 2.06-2.06.94z\"/><path d=\"M17.41 7.96l-1.37-1.37c-.4-.4-.92-.59-1.43-.59-.52 0-1.04.2-1.43.59L10.3 9.45l-7.72 7.72c-.78.78-.78 2.05 0 2.83L4 21.41c.39.39.9.59 1.41.59.51 0 1.02-.2 1.41-.59l7.78-7.78 2.81-2.81c.8-.78.8-2.07 0-2.86zM5.41 20L4 18.59l7.72-7.72 1.47 1.35L5.41 20z\"/>\n",
              "  </svg>\n",
              "      </button>\n",
              "      \n",
              "  <style>\n",
              "    .colab-df-container {\n",
              "      display:flex;\n",
              "      flex-wrap:wrap;\n",
              "      gap: 12px;\n",
              "    }\n",
              "\n",
              "    .colab-df-convert {\n",
              "      background-color: #E8F0FE;\n",
              "      border: none;\n",
              "      border-radius: 50%;\n",
              "      cursor: pointer;\n",
              "      display: none;\n",
              "      fill: #1967D2;\n",
              "      height: 32px;\n",
              "      padding: 0 0 0 0;\n",
              "      width: 32px;\n",
              "    }\n",
              "\n",
              "    .colab-df-convert:hover {\n",
              "      background-color: #E2EBFA;\n",
              "      box-shadow: 0px 1px 2px rgba(60, 64, 67, 0.3), 0px 1px 3px 1px rgba(60, 64, 67, 0.15);\n",
              "      fill: #174EA6;\n",
              "    }\n",
              "\n",
              "    [theme=dark] .colab-df-convert {\n",
              "      background-color: #3B4455;\n",
              "      fill: #D2E3FC;\n",
              "    }\n",
              "\n",
              "    [theme=dark] .colab-df-convert:hover {\n",
              "      background-color: #434B5C;\n",
              "      box-shadow: 0px 1px 3px 1px rgba(0, 0, 0, 0.15);\n",
              "      filter: drop-shadow(0px 1px 2px rgba(0, 0, 0, 0.3));\n",
              "      fill: #FFFFFF;\n",
              "    }\n",
              "  </style>\n",
              "\n",
              "      <script>\n",
              "        const buttonEl =\n",
              "          document.querySelector('#df-07324c4e-4051-4907-9a72-c454c7defd67 button.colab-df-convert');\n",
              "        buttonEl.style.display =\n",
              "          google.colab.kernel.accessAllowed ? 'block' : 'none';\n",
              "\n",
              "        async function convertToInteractive(key) {\n",
              "          const element = document.querySelector('#df-07324c4e-4051-4907-9a72-c454c7defd67');\n",
              "          const dataTable =\n",
              "            await google.colab.kernel.invokeFunction('convertToInteractive',\n",
              "                                                     [key], {});\n",
              "          if (!dataTable) return;\n",
              "\n",
              "          const docLinkHtml = 'Like what you see? Visit the ' +\n",
              "            '<a target=\"_blank\" href=https://colab.research.google.com/notebooks/data_table.ipynb>data table notebook</a>'\n",
              "            + ' to learn more about interactive tables.';\n",
              "          element.innerHTML = '';\n",
              "          dataTable['output_type'] = 'display_data';\n",
              "          await google.colab.output.renderOutput(dataTable, element);\n",
              "          const docLink = document.createElement('div');\n",
              "          docLink.innerHTML = docLinkHtml;\n",
              "          element.appendChild(docLink);\n",
              "        }\n",
              "      </script>\n",
              "    </div>\n",
              "  </div>\n",
              "  "
            ]
          },
          "metadata": {},
          "execution_count": 8
        }
      ]
    },
    {
      "cell_type": "code",
      "source": [
        "[fuel for fuel in carsDataFrame['typesoffuel']]"
      ],
      "metadata": {
        "colab": {
          "base_uri": "https://localhost:8080/"
        },
        "id": "ZjmPeKQr2H3Q",
        "outputId": "89b5ac18-4cc5-43e4-dd92-b000bc6f0902"
      },
      "execution_count": 9,
      "outputs": [
        {
          "output_type": "execute_result",
          "data": {
            "text/plain": [
              "[['electric'],\n",
              " ['diesel', 'petrol', 'electric'],\n",
              " ['diesel', 'petrol'],\n",
              " ['diesel', 'petrol', 'electric'],\n",
              " ['diesel', 'petrol', 'electric'],\n",
              " ['diesel', 'petrol', 'electric']]"
            ]
          },
          "metadata": {},
          "execution_count": 9
        }
      ]
    },
    {
      "cell_type": "code",
      "source": [
        "carsDataFrame['typesoffuel'].apply(lambda row:[ fuel.upper() for fuel in row])"
      ],
      "metadata": {
        "colab": {
          "base_uri": "https://localhost:8080/"
        },
        "id": "i_GJ2IhD4_tU",
        "outputId": "c9d6d632-59c7-4515-bf0d-9cfcce1513ad"
      },
      "execution_count": 10,
      "outputs": [
        {
          "output_type": "execute_result",
          "data": {
            "text/plain": [
              "0                    [ELECTRIC]\n",
              "1    [DIESEL, PETROL, ELECTRIC]\n",
              "2              [DIESEL, PETROL]\n",
              "3    [DIESEL, PETROL, ELECTRIC]\n",
              "4    [DIESEL, PETROL, ELECTRIC]\n",
              "5    [DIESEL, PETROL, ELECTRIC]\n",
              "Name: typesoffuel, dtype: object"
            ]
          },
          "metadata": {},
          "execution_count": 10
        }
      ]
    },
    {
      "cell_type": "code",
      "source": [
        "carsDataFrame['typesoffuelCapitalized']=carsDataFrame['typesoffuel'].apply(lambda row:[ fuel.upper() for fuel in row])"
      ],
      "metadata": {
        "id": "cDlNOBn95kXP"
      },
      "execution_count": 11,
      "outputs": []
    },
    {
      "cell_type": "code",
      "source": [
        "carsDataFrame"
      ],
      "metadata": {
        "colab": {
          "base_uri": "https://localhost:8080/",
          "height": 237
        },
        "id": "MpteIfIo5ltK",
        "outputId": "40be8f3e-4a97-451a-d5a8-065ba56a06e0"
      },
      "execution_count": 12,
      "outputs": [
        {
          "output_type": "execute_result",
          "data": {
            "text/plain": [
              "        brand  year  model                 typesoffuel  \\\n",
              "0       Tesla  2000   A400                  [electric]   \n",
              "1    Mercedes  2001    GLA  [diesel, petrol, electric]   \n",
              "2         BMW  2002    400            [diesel, petrol]   \n",
              "3  Volkswagen  2001   Golf  [diesel, petrol, electric]   \n",
              "4      Toyota  2002  Prius  [diesel, petrol, electric]   \n",
              "5       Lexus  2003   L200  [diesel, petrol, electric]   \n",
              "\n",
              "       typesoffuelCapitalized  \n",
              "0                  [ELECTRIC]  \n",
              "1  [DIESEL, PETROL, ELECTRIC]  \n",
              "2            [DIESEL, PETROL]  \n",
              "3  [DIESEL, PETROL, ELECTRIC]  \n",
              "4  [DIESEL, PETROL, ELECTRIC]  \n",
              "5  [DIESEL, PETROL, ELECTRIC]  "
            ],
            "text/html": [
              "\n",
              "  <div id=\"df-96879da4-152e-46c5-a929-4637a9a35ee3\">\n",
              "    <div class=\"colab-df-container\">\n",
              "      <div>\n",
              "<style scoped>\n",
              "    .dataframe tbody tr th:only-of-type {\n",
              "        vertical-align: middle;\n",
              "    }\n",
              "\n",
              "    .dataframe tbody tr th {\n",
              "        vertical-align: top;\n",
              "    }\n",
              "\n",
              "    .dataframe thead th {\n",
              "        text-align: right;\n",
              "    }\n",
              "</style>\n",
              "<table border=\"1\" class=\"dataframe\">\n",
              "  <thead>\n",
              "    <tr style=\"text-align: right;\">\n",
              "      <th></th>\n",
              "      <th>brand</th>\n",
              "      <th>year</th>\n",
              "      <th>model</th>\n",
              "      <th>typesoffuel</th>\n",
              "      <th>typesoffuelCapitalized</th>\n",
              "    </tr>\n",
              "  </thead>\n",
              "  <tbody>\n",
              "    <tr>\n",
              "      <th>0</th>\n",
              "      <td>Tesla</td>\n",
              "      <td>2000</td>\n",
              "      <td>A400</td>\n",
              "      <td>[electric]</td>\n",
              "      <td>[ELECTRIC]</td>\n",
              "    </tr>\n",
              "    <tr>\n",
              "      <th>1</th>\n",
              "      <td>Mercedes</td>\n",
              "      <td>2001</td>\n",
              "      <td>GLA</td>\n",
              "      <td>[diesel, petrol, electric]</td>\n",
              "      <td>[DIESEL, PETROL, ELECTRIC]</td>\n",
              "    </tr>\n",
              "    <tr>\n",
              "      <th>2</th>\n",
              "      <td>BMW</td>\n",
              "      <td>2002</td>\n",
              "      <td>400</td>\n",
              "      <td>[diesel, petrol]</td>\n",
              "      <td>[DIESEL, PETROL]</td>\n",
              "    </tr>\n",
              "    <tr>\n",
              "      <th>3</th>\n",
              "      <td>Volkswagen</td>\n",
              "      <td>2001</td>\n",
              "      <td>Golf</td>\n",
              "      <td>[diesel, petrol, electric]</td>\n",
              "      <td>[DIESEL, PETROL, ELECTRIC]</td>\n",
              "    </tr>\n",
              "    <tr>\n",
              "      <th>4</th>\n",
              "      <td>Toyota</td>\n",
              "      <td>2002</td>\n",
              "      <td>Prius</td>\n",
              "      <td>[diesel, petrol, electric]</td>\n",
              "      <td>[DIESEL, PETROL, ELECTRIC]</td>\n",
              "    </tr>\n",
              "    <tr>\n",
              "      <th>5</th>\n",
              "      <td>Lexus</td>\n",
              "      <td>2003</td>\n",
              "      <td>L200</td>\n",
              "      <td>[diesel, petrol, electric]</td>\n",
              "      <td>[DIESEL, PETROL, ELECTRIC]</td>\n",
              "    </tr>\n",
              "  </tbody>\n",
              "</table>\n",
              "</div>\n",
              "      <button class=\"colab-df-convert\" onclick=\"convertToInteractive('df-96879da4-152e-46c5-a929-4637a9a35ee3')\"\n",
              "              title=\"Convert this dataframe to an interactive table.\"\n",
              "              style=\"display:none;\">\n",
              "        \n",
              "  <svg xmlns=\"http://www.w3.org/2000/svg\" height=\"24px\"viewBox=\"0 0 24 24\"\n",
              "       width=\"24px\">\n",
              "    <path d=\"M0 0h24v24H0V0z\" fill=\"none\"/>\n",
              "    <path d=\"M18.56 5.44l.94 2.06.94-2.06 2.06-.94-2.06-.94-.94-2.06-.94 2.06-2.06.94zm-11 1L8.5 8.5l.94-2.06 2.06-.94-2.06-.94L8.5 2.5l-.94 2.06-2.06.94zm10 10l.94 2.06.94-2.06 2.06-.94-2.06-.94-.94-2.06-.94 2.06-2.06.94z\"/><path d=\"M17.41 7.96l-1.37-1.37c-.4-.4-.92-.59-1.43-.59-.52 0-1.04.2-1.43.59L10.3 9.45l-7.72 7.72c-.78.78-.78 2.05 0 2.83L4 21.41c.39.39.9.59 1.41.59.51 0 1.02-.2 1.41-.59l7.78-7.78 2.81-2.81c.8-.78.8-2.07 0-2.86zM5.41 20L4 18.59l7.72-7.72 1.47 1.35L5.41 20z\"/>\n",
              "  </svg>\n",
              "      </button>\n",
              "      \n",
              "  <style>\n",
              "    .colab-df-container {\n",
              "      display:flex;\n",
              "      flex-wrap:wrap;\n",
              "      gap: 12px;\n",
              "    }\n",
              "\n",
              "    .colab-df-convert {\n",
              "      background-color: #E8F0FE;\n",
              "      border: none;\n",
              "      border-radius: 50%;\n",
              "      cursor: pointer;\n",
              "      display: none;\n",
              "      fill: #1967D2;\n",
              "      height: 32px;\n",
              "      padding: 0 0 0 0;\n",
              "      width: 32px;\n",
              "    }\n",
              "\n",
              "    .colab-df-convert:hover {\n",
              "      background-color: #E2EBFA;\n",
              "      box-shadow: 0px 1px 2px rgba(60, 64, 67, 0.3), 0px 1px 3px 1px rgba(60, 64, 67, 0.15);\n",
              "      fill: #174EA6;\n",
              "    }\n",
              "\n",
              "    [theme=dark] .colab-df-convert {\n",
              "      background-color: #3B4455;\n",
              "      fill: #D2E3FC;\n",
              "    }\n",
              "\n",
              "    [theme=dark] .colab-df-convert:hover {\n",
              "      background-color: #434B5C;\n",
              "      box-shadow: 0px 1px 3px 1px rgba(0, 0, 0, 0.15);\n",
              "      filter: drop-shadow(0px 1px 2px rgba(0, 0, 0, 0.3));\n",
              "      fill: #FFFFFF;\n",
              "    }\n",
              "  </style>\n",
              "\n",
              "      <script>\n",
              "        const buttonEl =\n",
              "          document.querySelector('#df-96879da4-152e-46c5-a929-4637a9a35ee3 button.colab-df-convert');\n",
              "        buttonEl.style.display =\n",
              "          google.colab.kernel.accessAllowed ? 'block' : 'none';\n",
              "\n",
              "        async function convertToInteractive(key) {\n",
              "          const element = document.querySelector('#df-96879da4-152e-46c5-a929-4637a9a35ee3');\n",
              "          const dataTable =\n",
              "            await google.colab.kernel.invokeFunction('convertToInteractive',\n",
              "                                                     [key], {});\n",
              "          if (!dataTable) return;\n",
              "\n",
              "          const docLinkHtml = 'Like what you see? Visit the ' +\n",
              "            '<a target=\"_blank\" href=https://colab.research.google.com/notebooks/data_table.ipynb>data table notebook</a>'\n",
              "            + ' to learn more about interactive tables.';\n",
              "          element.innerHTML = '';\n",
              "          dataTable['output_type'] = 'display_data';\n",
              "          await google.colab.output.renderOutput(dataTable, element);\n",
              "          const docLink = document.createElement('div');\n",
              "          docLink.innerHTML = docLinkHtml;\n",
              "          element.appendChild(docLink);\n",
              "        }\n",
              "      </script>\n",
              "    </div>\n",
              "  </div>\n",
              "  "
            ]
          },
          "metadata": {},
          "execution_count": 12
        }
      ]
    },
    {
      "cell_type": "markdown",
      "source": [
        "# Dictionary Comprehensions\n",
        "\n",
        "#### Dictionary comprehensions are not as common as list comprehensions."
      ],
      "metadata": {
        "id": "IoNgSW-B7YjK"
      }
    },
    {
      "cell_type": "code",
      "source": [
        "aCar={'brand':'Ford','model':'Mustang','year':'1964'}\n",
        "aCar"
      ],
      "metadata": {
        "colab": {
          "base_uri": "https://localhost:8080/"
        },
        "id": "cR3I5z83-kIV",
        "outputId": "77633a9d-5f72-4050-dbc2-bfed89e96ee6"
      },
      "execution_count": 13,
      "outputs": [
        {
          "output_type": "execute_result",
          "data": {
            "text/plain": [
              "{'brand': 'Ford', 'model': 'Mustang', 'year': '1964'}"
            ]
          },
          "metadata": {},
          "execution_count": 13
        }
      ]
    },
    {
      "cell_type": "code",
      "source": [
        "{item for item in aCar.items()}"
      ],
      "metadata": {
        "colab": {
          "base_uri": "https://localhost:8080/"
        },
        "id": "w15Op0Q8-kGS",
        "outputId": "99bb8b70-5960-481b-9cad-53e67462a465"
      },
      "execution_count": 14,
      "outputs": [
        {
          "output_type": "execute_result",
          "data": {
            "text/plain": [
              "{('brand', 'Ford'), ('model', 'Mustang'), ('year', '1964')}"
            ]
          },
          "metadata": {},
          "execution_count": 14
        }
      ]
    },
    {
      "cell_type": "code",
      "source": [],
      "metadata": {
        "id": "WEnQHnLm-kD6"
      },
      "execution_count": 14,
      "outputs": []
    },
    {
      "cell_type": "code",
      "source": [],
      "metadata": {
        "id": "TSI0lxee-kA0"
      },
      "execution_count": 14,
      "outputs": []
    },
    {
      "cell_type": "markdown",
      "source": [
        "# Comprehensions of a List of Dictionaries\n",
        "\n",
        "#### Indeed comprehensions can be applied to process list of dictionaries.\n",
        "#### This is a common use case in applied data science contexts"
      ],
      "metadata": {
        "id": "pMXWRXyH-qJR"
      }
    },
    {
      "cell_type": "code",
      "source": [
        "aCar={'brand':'Ford','model':'Mustang','year':'1964'}\n",
        "aCar"
      ],
      "metadata": {
        "colab": {
          "base_uri": "https://localhost:8080/"
        },
        "id": "aNVQ8dwu8R4K",
        "outputId": "d522c59b-187d-4922-e157-a5f6a019f689"
      },
      "execution_count": 15,
      "outputs": [
        {
          "output_type": "execute_result",
          "data": {
            "text/plain": [
              "{'brand': 'Ford', 'model': 'Mustang', 'year': '1964'}"
            ]
          },
          "metadata": {},
          "execution_count": 15
        }
      ]
    },
    {
      "cell_type": "code",
      "source": [
        "anotherCar={'brand':'Mercedes','model':'GLA','year':'2020'}\n",
        "anotherCar"
      ],
      "metadata": {
        "colab": {
          "base_uri": "https://localhost:8080/"
        },
        "id": "YKpaJbVw-Y-B",
        "outputId": "ce687f08-4e33-407f-a52f-9d074526f99b"
      },
      "execution_count": 16,
      "outputs": [
        {
          "output_type": "execute_result",
          "data": {
            "text/plain": [
              "{'brand': 'Mercedes', 'model': 'GLA', 'year': '2020'}"
            ]
          },
          "metadata": {},
          "execution_count": 16
        }
      ]
    },
    {
      "cell_type": "code",
      "source": [
        "yetAnotherCar={'brand':'Volkswagen','model':'Golf','year':'2022'}\n",
        "yetAnotherCar"
      ],
      "metadata": {
        "colab": {
          "base_uri": "https://localhost:8080/"
        },
        "id": "bH7P7YCt-Y6L",
        "outputId": "e04e8a3c-292c-4ed7-80d0-6abb4aa2329b"
      },
      "execution_count": 17,
      "outputs": [
        {
          "output_type": "execute_result",
          "data": {
            "text/plain": [
              "{'brand': 'Volkswagen', 'model': 'Golf', 'year': '2022'}"
            ]
          },
          "metadata": {},
          "execution_count": 17
        }
      ]
    },
    {
      "cell_type": "code",
      "source": [
        "cars=[aCar, anotherCar, yetAnotherCar]"
      ],
      "metadata": {
        "id": "JGliBBHw8zgv"
      },
      "execution_count": 18,
      "outputs": []
    },
    {
      "cell_type": "code",
      "source": [
        "cars"
      ],
      "metadata": {
        "colab": {
          "base_uri": "https://localhost:8080/"
        },
        "id": "bO28Q2vS_ApI",
        "outputId": "52d82f2d-af1c-49a5-b846-9ae8b7291a64"
      },
      "execution_count": 19,
      "outputs": [
        {
          "output_type": "execute_result",
          "data": {
            "text/plain": [
              "[{'brand': 'Ford', 'model': 'Mustang', 'year': '1964'},\n",
              " {'brand': 'Mercedes', 'model': 'GLA', 'year': '2020'},\n",
              " {'brand': 'Volkswagen', 'model': 'Golf', 'year': '2022'}]"
            ]
          },
          "metadata": {},
          "execution_count": 19
        }
      ]
    },
    {
      "cell_type": "code",
      "source": [
        "[car for car in cars]"
      ],
      "metadata": {
        "colab": {
          "base_uri": "https://localhost:8080/"
        },
        "id": "Iil2WMSt925L",
        "outputId": "57e843a2-fc83-493b-bbbb-9346225b0ee9"
      },
      "execution_count": 20,
      "outputs": [
        {
          "output_type": "execute_result",
          "data": {
            "text/plain": [
              "[{'brand': 'Ford', 'model': 'Mustang', 'year': '1964'},\n",
              " {'brand': 'Mercedes', 'model': 'GLA', 'year': '2020'},\n",
              " {'brand': 'Volkswagen', 'model': 'Golf', 'year': '2022'}]"
            ]
          },
          "metadata": {},
          "execution_count": 20
        }
      ]
    },
    {
      "cell_type": "code",
      "source": [
        "[type(car) for car in cars]"
      ],
      "metadata": {
        "colab": {
          "base_uri": "https://localhost:8080/"
        },
        "id": "ozSS34aH-JTs",
        "outputId": "6a49a48f-98b5-4416-b388-91825e66a2e3"
      },
      "execution_count": 21,
      "outputs": [
        {
          "output_type": "execute_result",
          "data": {
            "text/plain": [
              "[dict, dict, dict]"
            ]
          },
          "metadata": {},
          "execution_count": 21
        }
      ]
    },
    {
      "cell_type": "code",
      "source": [
        "[car['brand'] for car in cars]"
      ],
      "metadata": {
        "colab": {
          "base_uri": "https://localhost:8080/"
        },
        "id": "8XHwYnn7-JQ3",
        "outputId": "0e49fd40-5342-4803-faba-09f1e379af12"
      },
      "execution_count": 22,
      "outputs": [
        {
          "output_type": "execute_result",
          "data": {
            "text/plain": [
              "['Ford', 'Mercedes', 'Volkswagen']"
            ]
          },
          "metadata": {},
          "execution_count": 22
        }
      ]
    },
    {
      "cell_type": "code",
      "source": [
        "[car['model'] for car in cars]"
      ],
      "metadata": {
        "colab": {
          "base_uri": "https://localhost:8080/"
        },
        "id": "9ap4LwHQ_e6R",
        "outputId": "7a48dac9-32b0-45c5-ba55-2528d46e79cc"
      },
      "execution_count": 23,
      "outputs": [
        {
          "output_type": "execute_result",
          "data": {
            "text/plain": [
              "['Mustang', 'GLA', 'Golf']"
            ]
          },
          "metadata": {},
          "execution_count": 23
        }
      ]
    },
    {
      "cell_type": "code",
      "source": [
        "[(car['model'],car['brand']) for car in cars]"
      ],
      "metadata": {
        "colab": {
          "base_uri": "https://localhost:8080/"
        },
        "id": "eaDFJPN2_hrG",
        "outputId": "0e37ad8e-9233-4739-869a-5737d3349a82"
      },
      "execution_count": 24,
      "outputs": [
        {
          "output_type": "execute_result",
          "data": {
            "text/plain": [
              "[('Mustang', 'Ford'), ('GLA', 'Mercedes'), ('Golf', 'Volkswagen')]"
            ]
          },
          "metadata": {},
          "execution_count": 24
        }
      ]
    }
  ]
}