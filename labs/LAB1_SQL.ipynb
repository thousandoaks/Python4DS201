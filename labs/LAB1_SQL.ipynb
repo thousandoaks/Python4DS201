{
  "nbformat": 4,
  "nbformat_minor": 0,
  "metadata": {
    "colab": {
      "provenance": [],
      "authorship_tag": "ABX9TyOtbojyael3F4bnHvhGlA1B"
    },
    "kernelspec": {
      "name": "python3",
      "display_name": "Python 3"
    },
    "language_info": {
      "name": "python"
    }
  },
  "cells": [
    {
      "cell_type": "markdown",
      "source": [
        "#Introduction\n",
        "Structured Query Language, or SQL, is the programming language used with databases, and it is an important skill for any data scientist. In this lab you will get the opportunity to build some basic SQL-based queries and interact with a local database"
      ],
      "metadata": {
        "id": "5ye2IQCYbyP_"
      }
    },
    {
      "cell_type": "markdown",
      "source": [
        "# The AirQuality Dataset\n",
        "In this lab we will use the Airquality Dataset. Please refer to the following URL for more information:\n",
        "\n",
        "https://www.kaggle.com/datasets/open-aq/openaq"
      ],
      "metadata": {
        "id": "PZ3FzCgYbyNK"
      }
    },
    {
      "cell_type": "markdown",
      "source": [
        "## We download the database file to a local directory"
      ],
      "metadata": {
        "id": "ZpdRiji3YeE_"
      }
    },
    {
      "cell_type": "markdown",
      "source": [],
      "metadata": {
        "id": "ld5O-rlubxfm"
      }
    },
    {
      "cell_type": "code",
      "source": [
        "!wget -O AirQuality.sqlite https://github.com/thousandoaks/Python4DS201/blob/main/data/AirQuality.sqlite?raw=true"
      ],
      "metadata": {
        "colab": {
          "base_uri": "https://localhost:8080/"
        },
        "id": "mZLzaQSotIB0",
        "outputId": "1adbe7aa-7c3f-446d-cead-f9edfb1a2620"
      },
      "execution_count": null,
      "outputs": [
        {
          "output_type": "stream",
          "name": "stdout",
          "text": [
            "--2022-12-18 09:53:03--  https://github.com/thousandoaks/Python4DS201/blob/main/data/AirQuality.sqlite?raw=true\n",
            "Resolving github.com (github.com)... 140.82.112.4\n",
            "Connecting to github.com (github.com)|140.82.112.4|:443... connected.\n",
            "HTTP request sent, awaiting response... 302 Found\n",
            "Location: https://github.com/thousandoaks/Python4DS201/raw/main/data/AirQuality.sqlite [following]\n",
            "--2022-12-18 09:53:03--  https://github.com/thousandoaks/Python4DS201/raw/main/data/AirQuality.sqlite\n",
            "Reusing existing connection to github.com:443.\n",
            "HTTP request sent, awaiting response... 302 Found\n",
            "Location: https://raw.githubusercontent.com/thousandoaks/Python4DS201/main/data/AirQuality.sqlite [following]\n",
            "--2022-12-18 09:53:04--  https://raw.githubusercontent.com/thousandoaks/Python4DS201/main/data/AirQuality.sqlite\n",
            "Resolving raw.githubusercontent.com (raw.githubusercontent.com)... 185.199.108.133, 185.199.111.133, 185.199.109.133, ...\n",
            "Connecting to raw.githubusercontent.com (raw.githubusercontent.com)|185.199.108.133|:443... connected.\n",
            "HTTP request sent, awaiting response... 200 OK\n",
            "Length: 7741440 (7.4M) [application/octet-stream]\n",
            "Saving to: ‘AirQuality.sqlite’\n",
            "\n",
            "AirQuality.sqlite   100%[===================>]   7.38M  --.-KB/s    in 0.07s   \n",
            "\n",
            "2022-12-18 09:53:04 (104 MB/s) - ‘AirQuality.sqlite’ saved [7741440/7741440]\n",
            "\n"
          ]
        }
      ]
    },
    {
      "cell_type": "markdown",
      "source": [
        "### We connect to the database \"AirQuality.sqlite\""
      ],
      "metadata": {
        "id": "AeDgMehl2FZL"
      }
    },
    {
      "cell_type": "code",
      "source": [
        "import sqlite3"
      ],
      "metadata": {
        "id": "TXu9TCzZ3eIr"
      },
      "execution_count": null,
      "outputs": []
    },
    {
      "cell_type": "code",
      "source": [
        "con = sqlite3.connect('AirQuality.sqlite')\n"
      ],
      "metadata": {
        "id": "A_qLiHXR3eGl"
      },
      "execution_count": null,
      "outputs": []
    },
    {
      "cell_type": "markdown",
      "source": [
        "Now that you know how to access and examine a dataset, you're ready to write your first SQL query! As you'll soon see, SQL queries will help you sort through a massive dataset, to retrieve only the information that you need.\n",
        "\n",
        "We'll begin by using the keywords SELECT, FROM, and WHERE to get data from specific columns based on conditions you specify."
      ],
      "metadata": {
        "id": "hKwfTA_zYyLv"
      }
    },
    {
      "cell_type": "code",
      "source": [],
      "metadata": {
        "id": "yN5qCtffegm7"
      },
      "execution_count": null,
      "outputs": []
    },
    {
      "cell_type": "markdown",
      "source": [
        "# 1. SELECT FROM \n",
        "\n",
        "## The most basic SQL query selects a single column from a single table. To do this, specify the column you want after the word SELECT, and then specify the table after the word FROM.\n",
        "\n",
        "## For instance, to select all the columns from the AirQuality table, our query would appear as follows:\n",
        "\n",
        "### \"SELECT * FROM 'AirQuality' \"\n",
        "\n",
        "\n",
        "\n"
      ],
      "metadata": {
        "id": "Gt3C-q6rZqnN"
      }
    },
    {
      "cell_type": "markdown",
      "source": [
        "### For practical reasons we impose a limit to the number of results returned\n",
        "### \"SELECT * FROM 'AirQuality' LIMIT 4\"`"
      ],
      "metadata": {
        "id": "NwEjMUoJfZvp"
      }
    },
    {
      "cell_type": "code",
      "source": [
        "cursor = con.cursor()\n",
        "cursor.execute(\"SELECT * FROM 'AirQuality' LIMIT 4\")\n",
        "rows = cursor.fetchall()\n",
        "rows"
      ],
      "metadata": {
        "colab": {
          "base_uri": "https://localhost:8080/"
        },
        "id": "emBE8qG4Z5AU",
        "outputId": "444e4bf7-2d46-42d1-9c94-9d93c320302d"
      },
      "execution_count": null,
      "outputs": [
        {
          "output_type": "execute_result",
          "data": {
            "text/plain": [
              "[(0,\n",
              "  'Borówiec, ul. Drapałka',\n",
              "  'Borówiec',\n",
              "  'PL',\n",
              "  'bc',\n",
              "  0.85217,\n",
              "  '2022-04-28 07:00:00+00:00',\n",
              "  'µg/m³',\n",
              "  'GIOS',\n",
              "  1.0,\n",
              "  52.276794,\n",
              "  17.074114,\n",
              "  'POINT(52.276794 1)'),\n",
              " (1,\n",
              "  'Kraków, ul. Bulwarowa',\n",
              "  'Kraków',\n",
              "  'PL',\n",
              "  'bc',\n",
              "  0.91284,\n",
              "  '2022-04-27 23:00:00+00:00',\n",
              "  'µg/m³',\n",
              "  'GIOS',\n",
              "  1.0,\n",
              "  50.069308,\n",
              "  20.053492,\n",
              "  'POINT(50.069308 1)'),\n",
              " (2,\n",
              "  'Płock, ul. Reja',\n",
              "  'Płock',\n",
              "  'PL',\n",
              "  'bc',\n",
              "  1.41,\n",
              "  '2022-03-30 04:00:00+00:00',\n",
              "  'µg/m³',\n",
              "  'GIOS',\n",
              "  1.0,\n",
              "  52.550938,\n",
              "  19.709791,\n",
              "  'POINT(52.550938 1)'),\n",
              " (3,\n",
              "  'Elbląg, ul. Bażyńskiego',\n",
              "  'Elbląg',\n",
              "  'PL',\n",
              "  'bc',\n",
              "  0.33607,\n",
              "  '2022-05-03 13:00:00+00:00',\n",
              "  'µg/m³',\n",
              "  'GIOS',\n",
              "  1.0,\n",
              "  54.167847,\n",
              "  19.410942,\n",
              "  'POINT(54.167847 1)')]"
            ]
          },
          "metadata": {},
          "execution_count": 4
        }
      ]
    },
    {
      "cell_type": "markdown",
      "source": [
        "## You might prefer to retrieve just a few columns from the table.\n",
        "\n",
        "## For instance, the following SQL-based query retrieves the columns : city,country,pollutant and value from the table \"Airquality\" \n",
        "\n",
        "### \"SELECT city,country,pollutant,value FROM 'AirQuality'\""
      ],
      "metadata": {
        "id": "4MZA6174gnKX"
      }
    },
    {
      "cell_type": "code",
      "source": [
        "cursor = con.cursor()\n",
        "cursor.execute(\"SELECT city,country,pollutant,value FROM 'AirQuality' LIMIT 10\")\n",
        "rows = cursor.fetchall()\n",
        "rows"
      ],
      "metadata": {
        "colab": {
          "base_uri": "https://localhost:8080/"
        },
        "id": "vPgTN3qDaAW2",
        "outputId": "cbc76ada-4e59-45cf-be89-ab2673ff2088"
      },
      "execution_count": null,
      "outputs": [
        {
          "output_type": "execute_result",
          "data": {
            "text/plain": [
              "[('Borówiec', 'PL', 'bc', 0.85217),\n",
              " ('Kraków', 'PL', 'bc', 0.91284),\n",
              " ('Płock', 'PL', 'bc', 1.41),\n",
              " ('Elbląg', 'PL', 'bc', 0.33607),\n",
              " ('Piastów', 'PL', 'bc', 0.51),\n",
              " ('Biała', 'PL', 'bc', 5.64),\n",
              " ('Białystok', 'PL', 'bc', 0.28),\n",
              " ('Gdańsk', 'PL', 'bc', 0.3726),\n",
              " ('Zdzieszowice', 'PL', 'bc', 0.08659),\n",
              " ('Mielec', 'PL', 'bc', 0.49923)]"
            ]
          },
          "metadata": {},
          "execution_count": 5
        }
      ]
    },
    {
      "cell_type": "code",
      "source": [],
      "metadata": {
        "id": "wFU8YRuQaAUB"
      },
      "execution_count": null,
      "outputs": []
    },
    {
      "cell_type": "markdown",
      "source": [
        "# 2. SELECT FROM WHERE\n",
        "\n",
        "\n",
        "## Real Databases are usually very large, so you'll usually want to return only the rows meeting specific conditions. You can do this using the WHERE clause.\n",
        "\n",
        "##The query below returns all datapoints fulfilling the condition: country = 'US'\n",
        "\n",
        "\n",
        "\n",
        "\n",
        "### \"SELECT city,country,pollutant,value FROM 'AirQuality' WHERE country = 'US' LIMIT 30\"\n"
      ],
      "metadata": {
        "id": "BT40OFAFZcSj"
      }
    },
    {
      "cell_type": "code",
      "source": [
        "\n",
        "cursor = con.cursor()\n",
        "cursor.execute(\"SELECT city,country,pollutant,value FROM 'AirQuality' WHERE country = 'US' LIMIT 10\")\n",
        "rows = cursor.fetchall()\n",
        "rows\n"
      ],
      "metadata": {
        "colab": {
          "base_uri": "https://localhost:8080/"
        },
        "id": "ySYKxnay3eBW",
        "outputId": "88eb5ad1-e2d3-44f6-f970-063b7288e332"
      },
      "execution_count": null,
      "outputs": [
        {
          "output_type": "execute_result",
          "data": {
            "text/plain": [
              "[('Seattle-Tacoma-Bellevue', 'US', 'bc', 1.3),\n",
              " ('Providence-New Bedford-Fall River', 'US', 'bc', 0.18),\n",
              " ('Portland-Vancouver-Beaverton', 'US', 'bc', 0.32),\n",
              " ('Milwaukee-Waukesha-West Allis', 'US', 'bc', 0.21),\n",
              " ('HOWARD', 'US', 'bc', 0.6),\n",
              " ('San Francisco-Oakland-Fremont', 'US', 'bc', 0.53),\n",
              " ('Providence-New Bedford-Fall River', 'US', 'bc', 0.43),\n",
              " ('Washington-Arlington-Alexandria', 'US', 'bc', 0.1),\n",
              " ('Oklahoma City', 'US', 'bc', 1.0),\n",
              " ('Providence-New Bedford-Fall River', 'US', 'bc', 0.16)]"
            ]
          },
          "metadata": {},
          "execution_count": 6
        }
      ]
    },
    {
      "cell_type": "code",
      "source": [],
      "metadata": {
        "id": "b5m6eSC62W1Y"
      },
      "execution_count": null,
      "outputs": []
    },
    {
      "cell_type": "code",
      "source": [],
      "metadata": {
        "id": "F4-z7lIL2Wy2"
      },
      "execution_count": null,
      "outputs": []
    },
    {
      "cell_type": "code",
      "source": [],
      "metadata": {
        "id": "GMK4lRj92WwG"
      },
      "execution_count": null,
      "outputs": []
    }
  ]
}